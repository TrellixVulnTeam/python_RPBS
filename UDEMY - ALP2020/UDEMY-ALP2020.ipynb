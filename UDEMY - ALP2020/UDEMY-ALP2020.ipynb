{
 "cells": [
  {
   "cell_type": "markdown",
   "metadata": {},
   "source": [
    "# Curso Completo de Algoritmo e Lógica de Programação\n",
    "educandoweb.com.br  \n",
    "**Prof. Dr. Nelio Alves**\n",
    "\n",
    "## Capítulo: Estrutura sequencial  \n",
    "\n",
    "*Atenção: nos exemplos, os dados em **negrito** representam os dados que o usuário vai digitar.*\n",
    "\n",
    "---"
   ]
  },
  {
   "cell_type": "markdown",
   "metadata": {},
   "source": [
    "### Problema: \"terreno\"\n",
    "Fazer um programa para ler as medidas da largura e comprimento de um terreno retangular com uma casa decimal, bem como o valor do metro quadrado do terreno com duas casas decimais. Em seguida, o programa deve mostrar o valor da área do terreno, bem como o valor do preço do terreno, ambos com duas casas decimais, conforme exemplo.\n",
    "\n",
    "Exemplo 1:  \n",
    ">Digite a largura do terreno: **10.0**  \n",
    "Digite o comprimento do terreno: **30.0**  \n",
    "Digite o valor do metro quadrado: **200.00**  \n",
    "Area do terreno = 300.00  \n",
    "Preco do terreno = 60000.00  \n",
    "\n",
    "Exemplo 2:  \n",
    ">Digite a largura do terreno: **12.0**  \n",
    "Digite o comprimento do terreno: **20.0**  \n",
    "Digite o valor do metro quadrado: **150.00**  \n",
    "Area do terreno = 240.00  \n",
    "Preco do terreno = 36000.00  \n",
    "\n",
    "Observação:  \n",
    "Área do retângulo (aplicável ao terreno): $A=b.h$  \n",
    "- **A**: área\n",
    "- **b**: base (largura)\n",
    "- **h**: altura (comprimento)"
   ]
  },
  {
   "cell_type": "code",
   "execution_count": 2,
   "metadata": {},
   "outputs": [
    {
     "name": "stdin",
     "output_type": "stream",
     "text": [
      "Digite a largura do terreno:  12.0\n",
      "Digite o comprimento do terreno:  20.0\n",
      "Digite o valor do metro quadrado:  150.00\n"
     ]
    },
    {
     "name": "stdout",
     "output_type": "stream",
     "text": [
      "Área do terreno = 240.00\n",
      "Preço do terreno = 36000.00\n"
     ]
    }
   ],
   "source": [
    "# PROBLEMA: \"terreno\"\n",
    "# --------------------------------------------------------->\n",
    "\n",
    "# usuário entra com os dados solicitados.\n",
    "largura = float(input(\"Digite a largura do terreno: \"))\n",
    "comprimento = float(input(\"Digite o comprimento do terreno: \"))\n",
    "valor_metro_quadrado = float(input(\"Digite o valor do metro quadrado: \"))\n",
    "\n",
    "# calcula e exibe área do terreno.\n",
    "area_terreno = largura * comprimento\n",
    "print(f\"Área do terreno = {area_terreno:.2f}\")\n",
    "\n",
    "# calcula e exibe preço do terreno.\n",
    "preco_terreno = valor_metro_quadrado * area_terreno\n",
    "print(f\"Preço do terreno = {preco_terreno:.2f}\")"
   ]
  },
  {
   "cell_type": "markdown",
   "metadata": {},
   "source": [
    "---"
   ]
  },
  {
   "cell_type": "markdown",
   "metadata": {},
   "source": [
    "### Problema \"retangulo\"\n",
    "Fazer um programa para ler as medidas da base e altura de um retângulo. Em seguida, mostrar o valor da área, perímetro e diagonal deste retângulo, com quatro casas decimais, conforme exemplos.\n",
    "\n",
    "Exemplo 1:\n",
    ">Base do retangulo: **4.0**  \n",
    "Altura do retangulo: **5.0**  \n",
    "AREA = 20.0000  \n",
    "PERIMETRO = 18.0000  \n",
    "DIAGONAL = 6.4031  \n",
    "\n",
    "Exemplo 2:\n",
    ">Base do retangulo: **10.3**  \n",
    "Altura do retangulo: **13.1**  \n",
    "AREA = 134.9300  \n",
    "PERIMETRO = 46.8000  \n",
    "DIAGONAL = 16.6643\n",
    "\n",
    "Observação:  \n",
    "Área do retângulo: $A=b.h$\n",
    "- **A**: área\n",
    "- **b**: base\n",
    "- **h**: altura\n",
    "\n",
    "Perímetro do retângulo: $2(b+h)$\n",
    "- **b**: base\n",
    "- **h**: altura\n",
    "\n",
    "Diagonal do retângulo: $d=√b²+h²$\n",
    "- **d**: diagonal\n",
    "- **b**: base\n",
    "- **h**: altura"
   ]
  },
  {
   "cell_type": "code",
   "execution_count": 4,
   "metadata": {},
   "outputs": [
    {
     "name": "stdin",
     "output_type": "stream",
     "text": [
      "Base do retangulo 10.3\n",
      "Altura do retangulo 13.1\n"
     ]
    },
    {
     "name": "stdout",
     "output_type": "stream",
     "text": [
      "AREA = 134.9300\n",
      "PERIMETRO = 46.8000\n",
      "DIAGONAL = 16.6643\n"
     ]
    }
   ],
   "source": [
    "# PROBLEMA: \"retangulo\"\n",
    "# --------------------------------------------------------->\n",
    "\n",
    "# biblioteca para funções matemáticas.\n",
    "import math\n",
    "\n",
    "# usuário entra com os dados solicitados.\n",
    "base = float(input(\"Base do retangulo\"))\n",
    "altura = float(input(\"Altura do retangulo\"))\n",
    "\n",
    "# # calcula e exibe área, perímetro e diagonal.\n",
    "area_retangulo = base * altura\n",
    "perimetro_retangulo = 2 * (base + altura)\n",
    "diagonal_retangulo = math.sqrt(pow(base, 2) + pow(altura, 2))\n",
    "\n",
    "print(f\"AREA = {area_retangulo:.4f}\")\n",
    "print(f\"PERIMETRO = {perimetro_retangulo:.4f}\")\n",
    "print(f\"DIAGONAL = {diagonal_retangulo:.4f}\")"
   ]
  },
  {
   "cell_type": "markdown",
   "metadata": {},
   "source": [
    "---"
   ]
  },
  {
   "cell_type": "markdown",
   "metadata": {},
   "source": [
    "### Problema \"idades\"\n",
    "Fazer um programa para ler o nome e idade de duas pessoas. Ao final mostrar uma mensagem com os nomes e a idade média entre essas pessoas, com uma casa decimal, conforme exemplo.\n",
    "\n",
    "Exemplo:\n",
    ">Dados da primeira pessoa:  \n",
    "None: **Maria Silva**  \n",
    "Idade: **19**  \n",
    "Dados da segunda pessoa:  \n",
    "None: **Joao Melo**  \n",
    "Idade: **20**  \n",
    "A idade média de Maria Silva e Joao Melo é de 19.5 anos  \n",
    "\n",
    "Observação:  \n",
    "A média aritmética é a soma dos valores, dividido pela quantidade."
   ]
  },
  {
   "cell_type": "code",
   "execution_count": 5,
   "metadata": {},
   "outputs": [
    {
     "name": "stdout",
     "output_type": "stream",
     "text": [
      "Dados da primeira pessoa:\n"
     ]
    },
    {
     "name": "stdin",
     "output_type": "stream",
     "text": [
      "Nome:  Maria Silva\n",
      "Idade:  19\n"
     ]
    },
    {
     "name": "stdout",
     "output_type": "stream",
     "text": [
      "Dados da segunda pessoa:\n"
     ]
    },
    {
     "name": "stdin",
     "output_type": "stream",
     "text": [
      "Nome:  Joao Melo\n",
      "Idade:  20\n"
     ]
    },
    {
     "name": "stdout",
     "output_type": "stream",
     "text": [
      "A idade média de Maria Silva e Joao Melo é de 19.5 anos.\n"
     ]
    }
   ],
   "source": [
    "# PROBLEMA: \"idades\"\n",
    "# --------------------------------------------------------->\n",
    "\n",
    "# usuário entra com os dados solicitados.\n",
    "print(\"Dados da primeira pessoa:\")\n",
    "nome1 = input(\"Nome: \")\n",
    "idade1 = int(input(\"Idade: \"))\n",
    "print(\"Dados da segunda pessoa:\")\n",
    "nome2 = input(\"Nome: \")\n",
    "idade2 = int(input(\"Idade: \"))\n",
    "\n",
    "# calcula e exime a média de idades.\n",
    "media = (idade1 + idade2) / 2\n",
    "print(f\"A idade média de {nome1} e {nome2} é de {media:.1f} anos.\")"
   ]
  },
  {
   "cell_type": "markdown",
   "metadata": {},
   "source": [
    "---"
   ]
  },
  {
   "cell_type": "markdown",
   "metadata": {},
   "source": [
    "### Problema \"soma\"\n",
    "Fazer um programa para ler dois valores inteiros X e Y, e depois mostrar na tela o valor da soma destes números.\n",
    "\n",
    "Exemplo 1:  \n",
    ">Digite o valor de X: **8**  \n",
    "Digite o valor de Y: **10**  \n",
    "SOMA = 18  \n",
    "\n",
    "Exemplo 2:  \n",
    ">Digite o valor de X: **12**  \n",
    "Digite o valor de Y: **31**  \n",
    "SOMA = 43"
   ]
  },
  {
   "cell_type": "code",
   "execution_count": 6,
   "metadata": {},
   "outputs": [
    {
     "name": "stdin",
     "output_type": "stream",
     "text": [
      "Digite o valor de X:  12\n",
      "Digite o valor de Y:  31\n"
     ]
    },
    {
     "name": "stdout",
     "output_type": "stream",
     "text": [
      "SOMA = 43\n"
     ]
    }
   ],
   "source": [
    "# PROBLEMA: \"soma\"\n",
    "# --------------------------------------------------------->\n",
    "\n",
    "# usuário entra com os dados solicitados.\n",
    "x = int(input(\"Digite o valor de X: \"))\n",
    "y = int(input(\"Digite o valor de Y: \"))\n",
    "\n",
    "# calcula e exibe a soma:\n",
    "soma = x + y\n",
    "print(f\"SOMA = {soma}\")"
   ]
  },
  {
   "cell_type": "markdown",
   "metadata": {},
   "source": [
    "---"
   ]
  },
  {
   "cell_type": "markdown",
   "metadata": {},
   "source": [
    "### Problema \"troco\"\n",
    "Fazer um programa para calcular o troco no processo de pagamento de um produto de uma mercearia. O programa deve ler o preço unitário do produto, a quantidade de unidades compradas deste produto, e o valor em dinheiro dado pelo cliente (suponha que haja dinheiro suficiente). Seu programa deve mostrar o valor do troco a ser devolvido ao cliente.\n",
    "\n",
    "Exemplo 1:\n",
    ">Preço unitário do produto: **8.00**  \n",
    "Quantidade comprada: **2**  \n",
    "Dinheiro recebido: **20.00**  \n",
    "TROCO = 4.00  \n",
    "\n",
    "Exemplo 2:\n",
    ">Preço unitário do produto: **30.00**  \n",
    "Quantidade comprada: **3**  \n",
    "Dinheiro recebido: **100.00**  \n",
    "TROCO = 10.00"
   ]
  },
  {
   "cell_type": "code",
   "execution_count": 7,
   "metadata": {},
   "outputs": [
    {
     "name": "stdin",
     "output_type": "stream",
     "text": [
      "Preço unitário do produto:  30.00\n",
      "Quantidade comprada:  3\n",
      "Dinheiro recebido:  100.00\n"
     ]
    },
    {
     "name": "stdout",
     "output_type": "stream",
     "text": [
      "TROCO = 10.00\n"
     ]
    }
   ],
   "source": [
    "# PROBLEMA: \"troco\"\n",
    "# --------------------------------------------------------->\n",
    "\n",
    "# usuário entra com os dados solicitados.\n",
    "preco_unitario = float(input(\"Preço unitário do produto: \"))\n",
    "quantidade_comprada = int(input(\"Quantidade comprada: \"))\n",
    "dinheiro_recebido = float(input(\"Dinheiro recebido: \"))\n",
    "\n",
    "# calcula e exibe o troco.\n",
    "troco = dinheiro_recebido - (preco_unitario * quantidade_comprada)\n",
    "print(f\"TROCO = {troco:.2f}\")"
   ]
  },
  {
   "cell_type": "markdown",
   "metadata": {},
   "source": [
    "---"
   ]
  },
  {
   "cell_type": "markdown",
   "metadata": {},
   "source": [
    "### Problema \"circulo\"\n",
    "Fazer um programa para ler o valor \"r\" do raio de um círculo, e depois mostrar o valor da área do círculo com três casas decimais. A fórmula da área do círculo é a seguinte: $area = π.r²$. Você pode usar o valor de π fornecido pela biblioteca da sua linguagem de programação, ou então, se preferir, use diretamente o valor 3.14159.\n",
    "\n",
    "Exemplo 1:  \n",
    ">Digite o valor do raio do círculo: **2.0**  \n",
    "AREA = 12.566  \n",
    "\n",
    "Exemplo 2:  \n",
    ">Digite o valor do raio do círculo: **13.2**  \n",
    "AREA = 547.391  \n",
    "\n",
    "Observação:  \n",
    "Área do círculo: $A=π.r²$  \n",
    "- **A**: área  \n",
    "- **π**: número Pi (3.14159)  \n",
    "- **r**: raio"
   ]
  },
  {
   "cell_type": "code",
   "execution_count": 10,
   "metadata": {},
   "outputs": [
    {
     "name": "stdin",
     "output_type": "stream",
     "text": [
      "Digite o valor do raio do círculo:  13.2\n"
     ]
    },
    {
     "name": "stdout",
     "output_type": "stream",
     "text": [
      "AREA = 547.391\n"
     ]
    }
   ],
   "source": [
    "# PROBLEMA: \"circulo\"\n",
    "# --------------------------------------------------------->\n",
    "\n",
    "# biblioteca para funções matemáticas.\n",
    "import math\n",
    "\n",
    "# usuário entra com os dados solicitados.\n",
    "raio = float(input(\"Digite o valor do raio do círculo: \"))\n",
    "\n",
    "# calcula e exibe área do circulo.\n",
    "area = math.pi * pow(raio, 2)\n",
    "print(f\"AREA = {area:.3f}\")"
   ]
  },
  {
   "cell_type": "markdown",
   "metadata": {},
   "source": [
    "---"
   ]
  },
  {
   "cell_type": "markdown",
   "metadata": {},
   "source": [
    "### Problema \"pagamento\"\n",
    "Fazer um programa para ler o nome de um(a) funcionário(a), o valor que ele(a) recebe por hora, e a quantidade de horas trabalhadas por ele(a). Ao final, mostrar o valor do pagamento do funcionário com uma mensagem explicativa, conforme exemplo.\n",
    "\n",
    "Exemplo 1:  \n",
    ">Nome: **Joao Silva**  \n",
    "Valor por hora: **50.00**  \n",
    "Horas trabalhadas: **60**  \n",
    "O pagamento para Joao Silva deve ser 3000.00  \n",
    "\n",
    "Exemplo 2:  \n",
    ">Nome: **Maria Dias**  \n",
    "Valor por hora: **60.00**  \n",
    "Horas trabalhadas: **100**  \n",
    "O pagamento para Maria Dias deve ser 6000.00"
   ]
  },
  {
   "cell_type": "code",
   "execution_count": 11,
   "metadata": {},
   "outputs": [
    {
     "name": "stdin",
     "output_type": "stream",
     "text": [
      "Nome:  Maria Dias\n",
      "Valor por hora:  60.00\n",
      "Horas trabalhadas:  100\n"
     ]
    },
    {
     "name": "stdout",
     "output_type": "stream",
     "text": [
      "O pagamento para Maria Dias deve ser 6000.00\n"
     ]
    }
   ],
   "source": [
    "# PROBLEMA: \"pagamento\"\n",
    "# --------------------------------------------------------->\n",
    "\n",
    "# usuário entra com os dados solicitados.\n",
    "nome = input(\"Nome: \")\n",
    "valor_hora = float(input(\"Valor por hora: \"))\n",
    "horas_trabalhada = int(input(\"Horas trabalhadas: \"))\n",
    "\n",
    "# calcula e exibe o pagamento.\n",
    "pagamento = valor_hora * horas_trabalhada\n",
    "print(f\"O pagamento para {nome} deve ser {pagamento:.2f}\")"
   ]
  },
  {
   "cell_type": "markdown",
   "metadata": {},
   "source": [
    "---"
   ]
  },
  {
   "cell_type": "markdown",
   "metadata": {},
   "source": [
    "### Problema \"consumo\"\n",
    "Fazer um programa para ler a distância total (em km) percorrida por um carro, bem como o total de combustível gasto por este carro ao percorrer tal distância. Seu programa deve mostrar o consumo médio do carro, com três casas decimais.\n",
    "\n",
    "Exemplo 1:  \n",
    ">Distância percorrida: **500**  \n",
    "Combustível gasto: **38.5**  \n",
    "Consumo médio = 12.987  \n",
    "\n",
    "Exemplo 2:  \n",
    ">Distância percorrida: **1108**  \n",
    "Combustível gasto: **71.4**  \n",
    "Consumo médio = 15.518"
   ]
  },
  {
   "cell_type": "code",
   "execution_count": 12,
   "metadata": {},
   "outputs": [
    {
     "name": "stdin",
     "output_type": "stream",
     "text": [
      "Distância percorrida:  1108\n",
      "Combustível gasto:  71.4\n"
     ]
    },
    {
     "name": "stdout",
     "output_type": "stream",
     "text": [
      "Consumo médio = 15.518\n"
     ]
    }
   ],
   "source": [
    "# PROBLEMA: \"consumo\"\n",
    "# --------------------------------------------------------->\n",
    "\n",
    "# usuário entra com os dados solicitados.\n",
    "distancia_percorrida = int(input(\"Distância percorrida: \"))\n",
    "combustivel_gasto = float(input(\"Combustível gasto: \"))\n",
    "\n",
    "# calcula e exibe o consumo médio.\n",
    "consumo_medio = distancia_percorrida / combustivel_gasto\n",
    "print(f\"Consumo médio = {consumo_medio:.3f}\")"
   ]
  },
  {
   "cell_type": "markdown",
   "metadata": {},
   "source": [
    "---"
   ]
  },
  {
   "cell_type": "markdown",
   "metadata": {},
   "source": [
    "### Problema \"medidas\"\n",
    "Fazer um programa para ler três medidas A, B e C. Em seguida, calcular e mostrar (imprimir os dados com quatro casas decimais):  \n",
    "a) a área do quadrado que tem lado A  \n",
    "b) a área do triângulo retângulo que base A e altura B  \n",
    "c) a área do trapézio que tem bases A e B, e altura C  \n",
    "\n",
    "Exemplo 1:  \n",
    ">Digite a medida A: **4.0**  \n",
    "Digite a medida B: **3.5**  \n",
    "Digite a medida C: **5.2**  \n",
    "AREA DO QUADRADO = 16.0000  \n",
    "AREA DO TRIANGULO = 7.0000  \n",
    "AREA DO TRAPEZIO = 19.5000  \n",
    "\n",
    "Exemplo 2:  \n",
    ">Digite a medida A: **7.13**  \n",
    "Digite a medida B: **8.05**  \n",
    "Digite a medida C: **11.912**  \n",
    "AREA DO QUADRADO = 50.8369  \n",
    "AREA DO TRIANGULO = 28.6983  \n",
    "AREA DO TRAPEZIO = 90.4121  \n",
    "\n",
    "Observação:  \n",
    "Área do quadrado: $A=L²$  \n",
    "- **A**: área  \n",
    "- **L**: lado  \n",
    "\n",
    "Área do triângulo: $A=\\frac{b.h}{2}$  \n",
    "- **A**: área  \n",
    "- **b**: base  \n",
    "- **h**: altura  \n",
    "\n",
    "Área do trapézio: $A=\\frac{B+b}{2}.h$  \n",
    "- **A**: área  \n",
    "- **B**: base maior  \n",
    "- **b**: base menor  \n",
    "- **h**: altura"
   ]
  },
  {
   "cell_type": "code",
   "execution_count": 13,
   "metadata": {},
   "outputs": [
    {
     "name": "stdin",
     "output_type": "stream",
     "text": [
      "Digite a medida A:  7.13\n",
      "Digite a medida B:  8.05\n",
      "Digite a medida C:  11.912\n"
     ]
    },
    {
     "name": "stdout",
     "output_type": "stream",
     "text": [
      "ÁREA DO QUADRADO = 50.8369\n",
      "ÁREA DO TRIANGULO = 28.6983\n",
      "ÁREA DO TRAPEZIO = 90.4121\n"
     ]
    }
   ],
   "source": [
    "# PROBLEMA: \"medidas\"\n",
    "# --------------------------------------------------------->\n",
    "\n",
    "# usuário entra com os dados solicitados.\n",
    "a = float(input(\"Digite a medida A: \"))\n",
    "b = float(input(\"Digite a medida B: \"))\n",
    "c = float(input(\"Digite a medida C: \"))\n",
    "\n",
    "# calcula área do quadrado, triângulo e trapézio.\n",
    "area_quadrado = pow(a, 2)\n",
    "area_triangulo = (a * b) / 2\n",
    "area_trapezio = ((a + b) / 2) * c\n",
    "\n",
    "# exibe área do quadrado, triângulo e trapézio.\n",
    "print(f\"ÁREA DO QUADRADO = {area_quadrado:.4f}\")\n",
    "print(f\"ÁREA DO TRIANGULO = {area_triangulo:.4f}\")\n",
    "print(f\"ÁREA DO TRAPEZIO = {area_trapezio:.4f}\")"
   ]
  },
  {
   "cell_type": "markdown",
   "metadata": {},
   "source": [
    "---"
   ]
  },
  {
   "cell_type": "markdown",
   "metadata": {},
   "source": [
    "### Problema \"duracao\"\n",
    "Fazer um programa para ler uma duração de tempo em segundos, daí imprimir na tela esta duração no formato horas:minutos:segundos.\n",
    "\n",
    "Exemplo 1:  \n",
    ">Digite a duração em segundos: **300**  \n",
    "0:5:0  \n",
    "\n",
    "Exemplo 2:  \n",
    ">Digite a duração em segundos: **12506**  \n",
    "3:28:26  \n",
    "\n",
    "Exemplo 3:  \n",
    ">Digite a duração em segundos: **140811**  \n",
    "39:6:51  \n",
    "\n",
    "Observação:  \n",
    "1 minuto = 60 segundo  \n",
    "1 hora = 60 minutos  \n",
    "1 hora = (60 minutos * 60 segundos) = 3600 segundos  \n",
    "\n",
    "Então:  \n",
    "- 3600 seria 1:0:0.  \n",
    "- 3601 seria 1:0:1.  \n",
    "- 3602 seria 1:0:2.  \n",
    "- 3662 seria 1:1:2."
   ]
  },
  {
   "cell_type": "code",
   "execution_count": 17,
   "metadata": {},
   "outputs": [
    {
     "name": "stdin",
     "output_type": "stream",
     "text": [
      "Digite a duração em segundos:  140811\n"
     ]
    },
    {
     "name": "stdout",
     "output_type": "stream",
     "text": [
      "39:6:51\n"
     ]
    }
   ],
   "source": [
    "# PROBLEMA: \"duracao\"\n",
    "# --------------------------------------------------------->\n",
    "\n",
    "# usuário entra com os dados solicitados.\n",
    "duracao = int(input(\"Digite a duração em segundos: \"))\n",
    "\n",
    "# extrai a hora, divisão inteira da duração por 3600.\n",
    "hora = duracao // 3600\n",
    "\n",
    "# extrai o resto, modulo da duração por 3600.\n",
    "resto = duracao % 3600\n",
    "\n",
    "# extrai os minutos, divisão inteira do resto por 60.\n",
    "minuto = resto // 60\n",
    "\n",
    "# extrai os segundos, modulo do resto por 60.\n",
    "segundo = resto % 60\n",
    "\n",
    "# exibe duração em formato hh:mm:ss.\n",
    "print(f\"{hora}:{minuto}:{segundo}\")"
   ]
  },
  {
   "cell_type": "markdown",
   "metadata": {},
   "source": [
    "---"
   ]
  },
  {
   "cell_type": "markdown",
   "metadata": {},
   "source": [
    "## Capítulo: Estrutura condicional  \n",
    "\n",
    "*Atenção: nos exemplos, os dados em **negrito** representam os dados que o usuário vai digitar.*\n",
    "\n",
    "---"
   ]
  },
  {
   "cell_type": "markdown",
   "metadata": {},
   "source": [
    "### Problema \"notas\"\n",
    "Fazer um programa para ler as duas notas que um aluno obteve no primeiro e segundo semestres de uma disciplina anual. Em seguida, mostrar a nota final que o aluno obteve (com uma casa decimal) no ano juntamente com um texto explicativo. Caso a nota final do aluno seja inferior a 60.00, mostrar a mensagem \"REPROVADO\", conforme exemplos.\n",
    "\n",
    "Exemplo 1:  \n",
    ">Digite a primeira nota: **45.5**  \n",
    "Digite a segunda nota: **31.3**  \n",
    "NOTA FINAL = 76.8  \n",
    "\n",
    "Exemplo 2:  \n",
    ">Digite a primeira nota: **34.0**  \n",
    "Digite a segunda nota: **23.5**  \n",
    "NOTA FINAL = 57.5  \n",
    "REPROVADO"
   ]
  },
  {
   "cell_type": "code",
   "execution_count": 1,
   "metadata": {},
   "outputs": [
    {
     "name": "stdin",
     "output_type": "stream",
     "text": [
      "Digite a primeira nota:  34.0\n",
      "Digite a segunda nota:  23.5\n"
     ]
    },
    {
     "name": "stdout",
     "output_type": "stream",
     "text": [
      "NOTA FINAL = 57.5\n",
      "REPROVADO\n"
     ]
    }
   ],
   "source": [
    "# PROBLEMA: \"notas\"\n",
    "# --------------------------------------------------------->\n",
    "\n",
    "# usuário entra com os dados solicitados.\n",
    "nota1 = float(input(\"Digite a primeira nota: \"))\n",
    "nota2 = float(input(\"Digite a segunda nota: \"))\n",
    "\n",
    "# calcula e exibe nota final.\n",
    "nota_final = nota1 + nota2\n",
    "print(f\"NOTA FINAL = {nota_final:.1f}\")\n",
    "\n",
    "# verifica aprovação.\n",
    "if nota_final < 60:\n",
    "    print(\"REPROVADO\")"
   ]
  },
  {
   "cell_type": "markdown",
   "metadata": {},
   "source": [
    "---"
   ]
  },
  {
   "cell_type": "markdown",
   "metadata": {},
   "source": [
    "### Problema \"baskara\"\n",
    "Fazer um programa para ler os três coeficientes de uma equação do segundo grau. Usando a fórmula de Baskara, calcular e mostrar os valores das raízes x1 e x2 da equação com quatro casas decimais, conforme exemplo. Se a equação não possuir raízes reais, mostrar uma mensagem.\n",
    "\n",
    "Exemplo 1:  \n",
    ">Coeficiente a: **1**  \n",
    "Coeficiente b: **0**  \n",
    "Coeficiente c: **-9**  \n",
    "X1 = 3.0000  \n",
    "X2 = - 3.0000  \n",
    "\n",
    "Exemplo 2:  \n",
    ">Coeficiente a: **2**  \n",
    "Coeficiente b: **-4.5**  \n",
    "Coeficiente c: **1.7**  \n",
    "X1 = 1.7697  \n",
    "X2 = 0.4803  \n",
    "\n",
    "Exemplo 3:  \n",
    ">Coeficiente a: **1**  \n",
    "Coeficiente b: **3**  \n",
    "Coeficiente c: **4**  \n",
    "Esta equação não possui raízes reais  \n",
    "\n",
    "Observação:  \n",
    "Discrimante da equação (delta): $Δ=b²-4.a.c$  \n",
    "Fórmula de Bhaskara: $x=\\frac{-b±√Δ}{2.a}$  \n",
    "Se o valor de Δ (delta) for menor que 0, a equação não possui raízes reais."
   ]
  },
  {
   "cell_type": "code",
   "execution_count": 3,
   "metadata": {},
   "outputs": [
    {
     "name": "stdin",
     "output_type": "stream",
     "text": [
      "Coeficiente a:  1\n",
      "Coeficiente b:  3\n",
      "Coeficiente c:  4\n"
     ]
    },
    {
     "name": "stdout",
     "output_type": "stream",
     "text": [
      "Esta equação não possui raízes reais.\n"
     ]
    }
   ],
   "source": [
    "# PROBLEMA: \"baskara\"\n",
    "# --------------------------------------------------------->\n",
    "\n",
    "# biblioteca para funções matemáticas.\n",
    "import math\n",
    "\n",
    "# usuário entra com os dados solicitados.\n",
    "a = float(input(\"Coeficiente a: \"))\n",
    "b = float(input(\"Coeficiente b: \"))\n",
    "c = float(input(\"Coeficiente c: \"))\n",
    "\n",
    "# calcula o valor de delta.\n",
    "delta = pow(b, 2) - (4 * a * c)\n",
    "\n",
    "# verifica se a equação possui raizes reais, e caso\n",
    "# positivo aplica formula de Bhaskara e exibe os valores.\n",
    "if delta < 0:\n",
    "    print(\"Esta equação não possui raízes reais.\")\n",
    "else:\n",
    "    x1 = (- b + math.sqrt(delta)) / (2 * a)\n",
    "    x2 = (- b - math.sqrt(delta)) / (2 * a)\n",
    "    print(f\"X1 = {x1:.4f}\")\n",
    "    print(f\"X2 = {x2:.4f}\")"
   ]
  },
  {
   "cell_type": "markdown",
   "metadata": {},
   "source": [
    "---"
   ]
  },
  {
   "cell_type": "markdown",
   "metadata": {},
   "source": [
    "### Problema \"menor de tres\"\n",
    "Fazer um programa para ler três números inteiros. Em seguida, mostrar qual o menor dentre os três números lidos. Em caso de empate, mostrar apenas uma vez.\n",
    "\n",
    "Exemplo 1:  \n",
    ">Primeiro valor: **7**  \n",
    "Segundo valor: **3**  \n",
    "Terceiro valor: **8**  \n",
    "MENOR = 3  \n",
    "\n",
    "Exemplo 4:  \n",
    ">Primeiro valor: **5**  \n",
    "Segundo valor: **12**  \n",
    "Terceiro valor: **5**  \n",
    "MENOR = 5  \n",
    "\n",
    "Exemplo 3:  \n",
    ">Primeiro valor: **9**  \n",
    "Segundo valor: **9**  \n",
    "Terceiro valor: **9**  \n",
    "MENOR = 9"
   ]
  },
  {
   "cell_type": "code",
   "execution_count": 5,
   "metadata": {},
   "outputs": [
    {
     "name": "stdin",
     "output_type": "stream",
     "text": [
      "Primeiro valor:  9\n",
      "Segundo valor:  9\n",
      "Terceiro valor:  9\n"
     ]
    },
    {
     "name": "stdout",
     "output_type": "stream",
     "text": [
      "MENOR = 9\n"
     ]
    }
   ],
   "source": [
    "# PROBLEMA: \"menor_de_tres\"\n",
    "# --------------------------------------------------------->\n",
    "\n",
    "# usuário entra com os dados solicitados.\n",
    "valor1 = int(input(\"Primeiro valor: \"))\n",
    "valor2 = int(input(\"Segundo valor: \"))\n",
    "valor3 = int(input(\"Terceiro valor: \"))\n",
    "\n",
    "# verifica o menor valor.\n",
    "if valor1 < valor2 and valor1 < valor3:\n",
    "    menor = valor1\n",
    "elif valor2 < valor3:\n",
    "    menor = valor2\n",
    "else:\n",
    "    menor = valor3\n",
    "    \n",
    "# exibe o menor valor.\n",
    "print(f\"MENOR = {menor}\")"
   ]
  },
  {
   "cell_type": "markdown",
   "metadata": {},
   "source": [
    "---"
   ]
  },
  {
   "cell_type": "markdown",
   "metadata": {},
   "source": [
    "### Problema \"operadora\"\n",
    "Uma operadora de telefonia cobra R\\\\$ 50.00 por um plano básico que dá direito a 100 minutos de telefone. Cada minuto que exceder a franquia de 100 minutos custa R\\\\$ 2.00 Fazer um programa para ler a quantidade de minutos que uma pessoa consumiu, daí mostrar o valor a ser pago.\n",
    "\n",
    "Exemplo 1:  \n",
    ">Digite a quantidade de minutos: **22**  \n",
    "Valor a pagar: R\\\\$ 50.00  \n",
    "\n",
    "Exemplo 2:  \n",
    ">Digite a quantidade de minutos: **103**  \n",
    "Valor a pagar: R\\\\$ 56.00  "
   ]
  },
  {
   "cell_type": "code",
   "execution_count": 6,
   "metadata": {},
   "outputs": [
    {
     "name": "stdin",
     "output_type": "stream",
     "text": [
      "Digite a quantidade de minutos:  103\n"
     ]
    },
    {
     "name": "stdout",
     "output_type": "stream",
     "text": [
      "Valor a pagar: R$ 56.00\n"
     ]
    }
   ],
   "source": [
    "# PROBLEMA: \"operadora\"\n",
    "# --------------------------------------------------------->\n",
    "\n",
    "# usuário entra com os dados solicitados.\n",
    "quantidade_minutos = int(input(\"Digite a quantidade de minutos: \"))\n",
    "\n",
    "# verifica o valor a pagar.\n",
    "if quantidade_minutos <= 100:\n",
    "    valor_pagar = 50.00\n",
    "else:\n",
    "    valor_pagar = 50.0 + ((quantidade_minutos - 100) * 2)\n",
    "\n",
    "# exibe valor a pagar.\n",
    "print(f\"Valor a pagar: R$ {valor_pagar:.2f}\")"
   ]
  },
  {
   "cell_type": "markdown",
   "metadata": {},
   "source": [
    "---"
   ]
  },
  {
   "cell_type": "markdown",
   "metadata": {},
   "source": [
    "### Problema \"troco_verificado\"\n",
    "Fazer um programa para calcular o troco no processo de pagamento de um produto de uma mercearia. O programa deve ler o preço unitário do produto, a quantidade de unidades compradas deste produto, e o valor em dinheiro dado pelo cliente. Seu programa deve mostrar o valor do troco a ser devolvido ao cliente. Se o dinheiro dado pelo cliente não for suficiente, mostrar uma mensagem informando o valor restante conforme exemplo.\n",
    "\n",
    "Exemplo 1:  \n",
    ">Preço unitário do produto: **8.00**  \n",
    "Quantidade comprada: **2**  \n",
    "Dinheiro recebido: **20.00**  \n",
    "TROCO = 4.00  \n",
    "\n",
    "Exemplo 2:  \n",
    ">Preço unitário do produto: **30.00**  \n",
    "Quantidade comprada: **3**  \n",
    "Dinheiro recebido: **70.00**  \n",
    "DINHEIRO INSUFICIENTE. FALTAM 20.00 REAIS"
   ]
  },
  {
   "cell_type": "code",
   "execution_count": 7,
   "metadata": {},
   "outputs": [
    {
     "name": "stdin",
     "output_type": "stream",
     "text": [
      "Preço unitário do produto:  30.00\n",
      "Quantidade comprada:  3\n",
      "Dinheiro recebido:  70.00\n"
     ]
    },
    {
     "name": "stdout",
     "output_type": "stream",
     "text": [
      "DINHEIRO INSUFICIENTE. FALTAM 20.00 REAIS\n"
     ]
    }
   ],
   "source": [
    "# PROBLEMA: \"troco_verificado\"\n",
    "# --------------------------------------------------------->\n",
    "\n",
    "# usuário entra com os dados solicitados.\n",
    "preco_unitario = float(input(\"Preço unitário do produto: \"))\n",
    "quantidade_comprada = int(input(\"Quantidade comprada: \"))\n",
    "dinheiro_recebido = float(input(\"Dinheiro recebido: \"))\n",
    "\n",
    "# calcula o total da compra e verifica se tem troco ou\n",
    "# dinheiro insuficiente.\n",
    "valor_compra = preco_unitario * quantidade_comprada\n",
    "\n",
    "if dinheiro_recebido >= valor_compra:\n",
    "    troco = dinheiro_recebido - valor_compra\n",
    "    print(f\"TROCO = {troco:.2f}\")\n",
    "else:\n",
    "    falta = valor_compra - dinheiro_recebido\n",
    "    print(f\"DINHEIRO INSUFICIENTE. FALTAM {falta:.2f} REAIS\")"
   ]
  },
  {
   "cell_type": "markdown",
   "metadata": {},
   "source": [
    "---"
   ]
  },
  {
   "cell_type": "markdown",
   "metadata": {},
   "source": [
    "### Problema \"glicose\"\n",
    "Fazer um programa para ler a quantidade de glicose no sangue de uma pessoa e depois mostrar na tela a classificação desta glicose de acordo com a tabela de referência.\n",
    "\n",
    "Exemplo 1:  \n",
    ">Digite a medida da glicose: **90.0**  \n",
    "Classificação: normal  \n",
    "\n",
    "Exemplo 2:  \n",
    ">Digite a medida da glicose: **140.0**  \n",
    "Classificação: elevado  \n",
    "\n",
    "Exemplo 3:  \n",
    ">Digite a medida da glicose: **143.2**  \n",
    "Classificação: diabetes  \n",
    "\n",
    "Observação:  \n",
    "Tabela de referência:  \n",
    "\n",
    "Classificação | Glicose\n",
    "--- | ---\n",
    "Normal | Até 100 mg/dl\n",
    "Elevado | Maior que 100 até 140 mg/dl\n",
    "Diabetes | Maior de 140 mg/dl\n"
   ]
  },
  {
   "cell_type": "code",
   "execution_count": 13,
   "metadata": {},
   "outputs": [
    {
     "name": "stdin",
     "output_type": "stream",
     "text": [
      "Digite a medida da glicose:  143.2\n"
     ]
    },
    {
     "name": "stdout",
     "output_type": "stream",
     "text": [
      "Classificação: diabetes\n"
     ]
    }
   ],
   "source": [
    "# PROBLEMA: \"glicose\"\n",
    "# --------------------------------------------------------->\n",
    "\n",
    "# usuário entra com os dados solicitados.\n",
    "medida_glicose = float(input(\"Digite a medida da glicose: \"))\n",
    "\n",
    "# verifica classificação.\n",
    "if medida_glicose <= 100.0:\n",
    "    classificacao = \"normal\"\n",
    "elif medida_glicose <= 140.0:\n",
    "    classificacao = \"elevado\"\n",
    "else:\n",
    "    classificacao = \"diabetes\"\n",
    "    \n",
    "# exibe classificação\n",
    "print(f\"Classificação: {classificacao}\")"
   ]
  },
  {
   "cell_type": "markdown",
   "metadata": {},
   "source": [
    "---"
   ]
  },
  {
   "cell_type": "markdown",
   "metadata": {},
   "source": [
    "### Problema \"dardo\"\n",
    "No arremesso de dardo, o atleta tem três chances para lançar o dardo à maior distância que conseguir. Você deve criar um programa para, dadas as medidas das três tentativas de lançamento, informar qual foi a maior.\n",
    "\n",
    "Exemplo 1:  \n",
    ">Digite as três distâncias:  \n",
    "**83.21**  \n",
    "**79.53**  \n",
    "**89.15**  \n",
    "MAIOR DISTÂNCIA = 89.15  \n",
    "\n",
    "Exemplo 2:  \n",
    ">Digite as três distâncias:  \n",
    "**83.21**  \n",
    "**87.20**  \n",
    "**83.21**  \n",
    "MAIOR DISTÂNCIA = 87.20"
   ]
  },
  {
   "cell_type": "code",
   "execution_count": 1,
   "metadata": {},
   "outputs": [
    {
     "name": "stdout",
     "output_type": "stream",
     "text": [
      "Digite as três distâncias:\n"
     ]
    },
    {
     "name": "stdin",
     "output_type": "stream",
     "text": [
      " 83.21\n",
      " 87.20\n",
      " 83.21\n"
     ]
    },
    {
     "name": "stdout",
     "output_type": "stream",
     "text": [
      "MAIOR DISTÂNCIA = 87.20\n"
     ]
    }
   ],
   "source": [
    "# PROBLEMA: \"dardo\"\n",
    "# --------------------------------------------------------->\n",
    "\n",
    "# usuário entra com os dados solicitados.\n",
    "print(\"Digite as três distâncias:\")\n",
    "distancia1 = float(input())\n",
    "distancia2 = float(input())\n",
    "distancia3 = float(input())\n",
    "\n",
    "# verifica e exibe a maior distância.\n",
    "if distancia1 > distancia2 and distancia1 > distancia3:\n",
    "    maior = distancia1\n",
    "elif distancia2 > distancia3:\n",
    "    maior = distancia2\n",
    "else:\n",
    "    maior = distancia3\n",
    "\n",
    "print(f\"MAIOR DISTÂNCIA = {maior:.2f}\")"
   ]
  },
  {
   "cell_type": "markdown",
   "metadata": {},
   "source": [
    "---"
   ]
  },
  {
   "cell_type": "markdown",
   "metadata": {},
   "source": [
    "### Problema \"temperatura\"\n",
    "Deseja-se converter uma medida de temperatura da escala Celsius para Fahrenheit ou vice-versa. Para isso, você deve construir um programa que leia a letra \"C\" ou \"F\" indicando em qual escala vai ser informada uma temperatura. Em seguida o programa deve mostrar a temperatura na outra escala com duas casas decimais.\n",
    "\n",
    "Exemplo 1:  \n",
    ">Você vai digitar a temperatura em qual escala (C/F)? **F**  \n",
    "Digite a temperatura em Fahrenheit: **75.00**  \n",
    "Temperatura equivalente em Celsius = 23.89  \n",
    "\n",
    "Exemplo 2:  \n",
    ">Você vai digitar a temperatura em qual escala (C/F)? **C**  \n",
    "Digite a temperatura em Celsius: **28.15**  \n",
    "Temperatura equivalente em Fahrenheit = 82.67  \n",
    "\n",
    "Observação:  \n",
    "- $°C=\\frac{5}{9}.(°F-32)$  \n",
    "- $°F=32+(°C.\\frac{9}{5})$"
   ]
  },
  {
   "cell_type": "code",
   "execution_count": 3,
   "metadata": {},
   "outputs": [
    {
     "name": "stdin",
     "output_type": "stream",
     "text": [
      "Você vai digitar a temperatura em qual escala (C/F)?  C\n",
      "Digite a temperatura em Celsius 28.15\n"
     ]
    },
    {
     "name": "stdout",
     "output_type": "stream",
     "text": [
      "Temperatura equivalente em Fahrenheit = 82.67\n"
     ]
    }
   ],
   "source": [
    "# PROBLEMA: \"temperatura\"\n",
    "# --------------------------------------------------------->\n",
    "\n",
    "# usuário entra com os dados solicitados.\n",
    "escala = input(\"Você vai digitar a temperatura em qual escala (C/F)? \")\n",
    "\n",
    "# verifica escala, calcula e exibe temperatura equivalente.\n",
    "if escala == 'c' or escala == 'C':\n",
    "    c = float(input(\"Digite a temperatura em Celsius\"))\n",
    "    f = 32 + (c * (9/5))\n",
    "    print(f\"Temperatura equivalente em Fahrenheit = {f:.2f}\")\n",
    "elif escala == 'f' or escala == 'F':\n",
    "    f = float(input(\"Digite a temperatura em Fahrenheit\"))\n",
    "    c = 5/9 * (f - 32)\n",
    "    print(f\"Temperatura equivalente em Celsius = {c:.2f}\")"
   ]
  },
  {
   "cell_type": "markdown",
   "metadata": {},
   "source": [
    "---"
   ]
  },
  {
   "cell_type": "markdown",
   "metadata": {},
   "source": [
    "### Problema \"lanchonete\"\n",
    "*(adaptado de URI 1038)*  \n",
    "Uma lanchonete possui vários produtos. Cada produto possui um código e um preço. Você deve fazer um programa para ler o código e a quantidade comprada de um produto (suponha um código válido), e daí informar qual o valor a ser pago, com duas casas decimais, conforme tabela de produtos.\n",
    "\n",
    "Exemplo 1:  \n",
    ">Código do produto comprado: **1**  \n",
    "Quantidade comprada: **3**  \n",
    "Valor a pagar: R\\\\$ 15.00  \n",
    "\n",
    "Exemplo 2:  \n",
    ">Código do produto comprado: **4**  \n",
    "Quantidade comprada: **2**  \n",
    "Valor a pagar: R\\\\$ 17.80  \n",
    "\n",
    "Observação:  \n",
    "\n",
    "Código do produto | Preço do produto\n",
    "--- | ---\n",
    "1 | R\\\\$ 5.00\n",
    "2 | R\\\\$ 3.50\n",
    "3 | R\\\\$ 4.80\n",
    "4 | R\\\\$ 8.90\n",
    "5 | R\\\\$ 7.32"
   ]
  },
  {
   "cell_type": "code",
   "execution_count": 6,
   "metadata": {},
   "outputs": [
    {
     "name": "stdin",
     "output_type": "stream",
     "text": [
      "Código do produto comprado:  4\n",
      "Quantidade comprada:  2\n"
     ]
    },
    {
     "name": "stdout",
     "output_type": "stream",
     "text": [
      "Valor a pagar: R$ 17.80\n"
     ]
    }
   ],
   "source": [
    "# PROBLEMA: \"lanchonete\"\n",
    "# --------------------------------------------------------->\n",
    "\n",
    "# usuário entra com os dados solicitados.\n",
    "codigo = int(input(\"Código do produto comprado: \"))\n",
    "quantidade = int(input(\"Quantidade comprada: \"))\n",
    "\n",
    "# verifica o valor da compra conforme código.\n",
    "if codigo == 1:\n",
    "    valor_pagar = quantidade * 5.00\n",
    "elif codigo == 2:\n",
    "    valor_pagar = quantidade * 3.50\n",
    "elif codigo == 3:\n",
    "    valor_pagar = quantidade * 4.80\n",
    "elif codigo == 4:\n",
    "    valor_pagar = quantidade * 8.90\n",
    "elif codigo == 5:\n",
    "    valor_pagar = quantidade * 7.32\n",
    "else:\n",
    "    valor_pagar = 0\n",
    "\n",
    "# exibe valor a pagar.\n",
    "print(f\"Valor a pagar: R$ {valor_pagar:.2f}\")"
   ]
  },
  {
   "cell_type": "markdown",
   "metadata": {},
   "source": [
    "### Problema \"multiplos\"\n",
    "*(adaptado de URI 1044)*  \n",
    "Fazer um programa para ler dois números inteiros, e dizer se um número é múltiplo do outro. Os números podem ser digitados em qualquer ordem.\n",
    "\n",
    "Exemplo 1:  \n",
    ">Digite dois números inteiros:  \n",
    " **6**  \n",
    " **24**  \n",
    "São multiplos  \n",
    "\n",
    "Exemplo 2:  \n",
    ">Digite dois números inteiros:  \n",
    " **24**  \n",
    " **6**  \n",
    "São multiplos  \n",
    "\n",
    "Exemplo 3:  \n",
    ">Digite dois números inteiros:  \n",
    " **13**  \n",
    " **5**  \n",
    "Não são multiplos"
   ]
  },
  {
   "cell_type": "code",
   "execution_count": 3,
   "metadata": {},
   "outputs": [
    {
     "name": "stdout",
     "output_type": "stream",
     "text": [
      "Digite dois números inteiros:\n"
     ]
    },
    {
     "name": "stdin",
     "output_type": "stream",
     "text": [
      " 13\n",
      " 5\n"
     ]
    },
    {
     "name": "stdout",
     "output_type": "stream",
     "text": [
      "Não são multiplos\n"
     ]
    }
   ],
   "source": [
    "# PROBLEMA: \"multiplos\"\n",
    "# --------------------------------------------------------->\n",
    "\n",
    "# usuário entra com os dados solicitados.\n",
    "print(\"Digite dois números inteiros:\")\n",
    "x = int(input())\n",
    "y = int(input())\n",
    "\n",
    "# verifica e exibe se numeros são multiplos.\n",
    "if x % y == 0 or y % x == 0:\n",
    "    print(\"São multiplos\")\n",
    "else:\n",
    "    print(\"Não são multiplos\")"
   ]
  },
  {
   "cell_type": "markdown",
   "metadata": {},
   "source": [
    "---"
   ]
  },
  {
   "cell_type": "markdown",
   "metadata": {},
   "source": [
    "### Problema \"aumento\" \n",
    "*(adaptado de URI 1048)*  \n",
    "Uma empresa vai conceder um aumento percentual de salário aos seus funcionários dependendo de quanto cada pessoa ganha, conforme tabela ao lado. Fazer um programa para ler o salário de uma pessoa, daí mostrar qual o novo salário desta pessoa depois do aumento, quanto foi o aumento e qual foi a porcentagem de aumento.\n",
    "\n",
    "Exemplo 1:  \n",
    ">Digite o salário da pessoa: **2500.00**  \n",
    "Novo salário = R\\\\$ 2875.00  \n",
    "Aumento = R\\\\$ 375.00  \n",
    "Porcentagem = 15 %  \n",
    "\n",
    "Exemplo 2:  \n",
    ">Digite o salário da pessoa: **8000.00**  \n",
    "Novo salário = R\\\\$ 8800.00  \n",
    "Aumento = R\\\\$ 800.00  \n",
    "Porcentagem = 10 %  \n",
    "\n",
    "Observação:  \n",
    "\n",
    "Salário atual | Aumento\n",
    "--- | ---\n",
    "Até R\\\\$ 1000.00 | 20%\n",
    "Acima de R\\\\$ 1000.00 até R\\\\$ 3000.00 | 15%\n",
    "Acima de R\\\\$ 3000.00 até R\\\\\\$ 8000.00 | 10%\n",
    "Acima de R\\\\$ 8000.00 | 5%\n",
    "\n",
    "- novo salário = $salario + aumento$  \n",
    "- aumento = $(salário * porcentagem) / 100$"
   ]
  },
  {
   "cell_type": "code",
   "execution_count": 6,
   "metadata": {},
   "outputs": [
    {
     "name": "stdin",
     "output_type": "stream",
     "text": [
      "Digite o salário da pessoa:  8000.00\n"
     ]
    },
    {
     "name": "stdout",
     "output_type": "stream",
     "text": [
      "Novo salário = R$ 8800.00\n",
      "Aumento = R$ 800.00\n",
      "Porentagem = R$ 10 %\n"
     ]
    }
   ],
   "source": [
    "# PROBLEMA: \"aumento\"\n",
    "# --------------------------------------------------------->\n",
    "\n",
    "# usuário entra com os dados solicitados.\n",
    "salario = float(input(\"Digite o salário da pessoa: \"))\n",
    "\n",
    "# verifica a porcentagem para o aumento.\n",
    "if salario <= 1000.0:\n",
    "    porcentagem = 20\n",
    "elif salario <= 3000.0:\n",
    "    porcentagem = 15\n",
    "elif salario <= 8000.0:\n",
    "    porcentagem = 10\n",
    "else:\n",
    "    porcentagem = 5\n",
    "\n",
    "# calcula aumento e novo salario.\n",
    "aumento = (salario * porcentagem) / 100\n",
    "novo_salario = salario + aumento\n",
    "\n",
    "# exibe novo salário, aumento e porcentagem.\n",
    "print(f\"Novo salário = R$ {novo_salario:.2f}\")\n",
    "print(f\"Aumento = R$ {aumento:.2f}\")\n",
    "print(f\"Porentagem = R$ {porcentagem} %\")"
   ]
  },
  {
   "cell_type": "markdown",
   "metadata": {},
   "source": [
    "---"
   ]
  },
  {
   "cell_type": "markdown",
   "metadata": {},
   "source": [
    "### Problema \"tempo_de_jogo\"\n",
    "*(adaptado de URI 1046)*  \n",
    "Leia a hora inicial e a hora final de um jogo. A seguir calcule a duração do jogo, sabendo que o mesmo pode começar em um dia e terminar em outro, tendo uma duração mínima de 1 hora e máxima de 24 horas.\n",
    "\n",
    "Exemplo 1:  \n",
    ">Hora inicial: **16**  \n",
    "Hora final: **2**  \n",
    "O JOGO DUROU 10 HORA(S)  \n",
    "\n",
    "Exemplo 2:  \n",
    ">Hora inicial: **0**  \n",
    "Hora final: **0**  \n",
    "O JOGO DUROU 24 HORA(S)  \n",
    "\n",
    "Exemplo 3:  \n",
    ">Hora inicial: **2**  \n",
    "Hora final: **16**  \n",
    "O JOGO DUROU 14 HORA(S)"
   ]
  },
  {
   "cell_type": "code",
   "execution_count": 16,
   "metadata": {},
   "outputs": [
    {
     "name": "stdin",
     "output_type": "stream",
     "text": [
      "Hora inicial:  2\n",
      "Hora final:  16\n"
     ]
    },
    {
     "name": "stdout",
     "output_type": "stream",
     "text": [
      "O JOGO DUROU 14 HORA(S)\n"
     ]
    }
   ],
   "source": [
    "# PROBLEMA: \"tempo_de_jogo\"\n",
    "# --------------------------------------------------------->\n",
    "\n",
    "# usuário entra com os dados solicitados.\n",
    "hora_inicial = int(input(\"Hora inicial: \"))\n",
    "hora_final = int(input(\"Hora final: \"))\n",
    "\n",
    "# verifica e exibe a duração.\n",
    "if hora_final > hora_inicial:\n",
    "    duracao = hora_final - hora_inicial\n",
    "else:\n",
    "    duracao = (24 - hora_inicial) + hora_final\n",
    "\n",
    "print(f\"O JOGO DUROU {duracao} HORA(S)\")"
   ]
  },
  {
   "cell_type": "markdown",
   "metadata": {},
   "source": [
    "---"
   ]
  },
  {
   "cell_type": "markdown",
   "metadata": {},
   "source": [
    "### Problema \"coordenadas\"\n",
    "*(adaptado de URI 1041)*  \n",
    "Leia os valores das coordenadas X e Y de um ponto no plano cartesiano. A seguir, determine qual o quadrante ao qual pertence o ponto (Q1, Q2, Q3 ou Q4). Se o ponto estiver na origem, escreva a mensagem “Origem”. Se o ponto estiver sobre um dos eixos escreva “Eixo X” ou “Eixo Y”, conforme for a situação.\n",
    "\n",
    "Exemplo 1:  \n",
    ">Valor de X: **4.5**  \n",
    "Valor de Y: **-2.2**  \n",
    "Q4  \n",
    "\n",
    "Exemplo 2:  \n",
    ">Valor de X: **3.1**  \n",
    "Valor de Y: **2.0**  \n",
    "Q1\n",
    "\n",
    "Exemplo 3:  \n",
    ">Valor de X: **0**  \n",
    "Valor de Y: **0**  \n",
    "Origem  \n",
    "\n",
    "Exemplo 4:  \n",
    ">Valor de X: **3.8**  \n",
    "Valor de Y: **0**  \n",
    "Eixo X\n",
    "\n",
    "Observação:  \n",
    "\n",
    "![image](https://www.centralexatas.com.br/img/matematica/geometria-analitica/quadrantes-do-plano-cartesiano.png)"
   ]
  },
  {
   "cell_type": "code",
   "execution_count": 14,
   "metadata": {},
   "outputs": [
    {
     "name": "stdin",
     "output_type": "stream",
     "text": [
      "Valor de X:  3.8\n",
      "Valor de Y:  0\n"
     ]
    },
    {
     "name": "stdout",
     "output_type": "stream",
     "text": [
      "Eixo X\n"
     ]
    }
   ],
   "source": [
    "# PROBLEMA: \"coordenadas\"\n",
    "# --------------------------------------------------------->\n",
    "\n",
    "# usuário entra com os dados solicitados.\n",
    "x = float(input(\"Valor de X: \"))\n",
    "y = float(input(\"Valor de Y: \"))\n",
    "\n",
    "# verifica e exibe quadrante.\n",
    "if x == 0 and y == 0:\n",
    "    print(\"Origem\")\n",
    "elif x == 0:\n",
    "    print(\"Eixo Y\")\n",
    "elif y == 0:\n",
    "    print(\"Eixo X\")\n",
    "elif x > 0 and y > 0:\n",
    "    print(\"Q1\")\n",
    "elif x < 0 and y > 0:\n",
    "    print(\"Q2\")\n",
    "elif x < 0 and y < 0:\n",
    "    print(\"Q3\")\n",
    "else:\n",
    "    print(\"Q4\")"
   ]
  },
  {
   "cell_type": "markdown",
   "metadata": {},
   "source": [
    "---"
   ]
  },
  {
   "cell_type": "markdown",
   "metadata": {},
   "source": [
    "## Capítulo: Estruturas repetitivas  \n",
    "\n",
    "*Atenção: nos exemplos, os dados em **negrito** representam os dados que o usuário vai digitar.*\n",
    "\n",
    "---"
   ]
  },
  {
   "cell_type": "markdown",
   "metadata": {},
   "source": [
    "### Problema \"crescente\"\n",
    "*(adaptado de URI 1113)*  \n",
    "Leia uma quantidade indeterminada de duplas de valores inteiros X e Y. Escreva para cada X e Y uma mensagem que indique se estes valores foram digitados em ordem crescente ou decrescente. O programa deve finalizar quando forem digitados dois valores iguais.\n",
    "\n",
    "Exemplo 1:  \n",
    ">Digite dois numeros:  \n",
    "**5**  \n",
    "**4**  \n",
    "DECRESCENTE\\!  \n",
    "Digite outros dois numeros:  \n",
    "**3**  \n",
    "**8**  \n",
    "CRESCENTE\\!  \n",
    "Digite outros dois numeros:  \n",
    "**2**  \n",
    "**2**"
   ]
  },
  {
   "cell_type": "code",
   "execution_count": 18,
   "metadata": {},
   "outputs": [
    {
     "name": "stdout",
     "output_type": "stream",
     "text": [
      "Digite dois números:\n"
     ]
    },
    {
     "name": "stdin",
     "output_type": "stream",
     "text": [
      " 5\n",
      " 4\n"
     ]
    },
    {
     "name": "stdout",
     "output_type": "stream",
     "text": [
      "DECRESCENTE!\n",
      "Digite outros dois números:\n"
     ]
    },
    {
     "name": "stdin",
     "output_type": "stream",
     "text": [
      " 3\n",
      " 8\n"
     ]
    },
    {
     "name": "stdout",
     "output_type": "stream",
     "text": [
      "CRESCENTE!\n",
      "Digite outros dois números:\n"
     ]
    },
    {
     "name": "stdin",
     "output_type": "stream",
     "text": [
      " 2\n",
      " 2\n"
     ]
    }
   ],
   "source": [
    "# --------------------------------------------------------->\n",
    "# PROBLEMA: \"crescente\".\n",
    "# VER ARQUIVO: \"05-estruturas-repetitivas-exercicios\".\n",
    "# --------------------------------------------------------->\n",
    "\n",
    "# usuário entra com os dados solicitados.\n",
    "print(\"Digite dois números:\")\n",
    "x = int(input())\n",
    "y = int(input())\n",
    "\n",
    "# verifica ordem crescente ou decrescente.\n",
    "while x != y:\n",
    "    if x < y:\n",
    "        print(\"CRESCENTE!\")\n",
    "    else:\n",
    "        print(\"DECRESCENTE!\")\n",
    "    print(\"Digite outros dois números:\")\n",
    "    x = int(input())\n",
    "    y = int(input())"
   ]
  },
  {
   "cell_type": "markdown",
   "metadata": {},
   "source": [
    "---"
   ]
  },
  {
   "cell_type": "markdown",
   "metadata": {},
   "source": [
    "### Problema \"media_idades\"  \n",
    "Faça um programa para ler um número indeterminado de dados, contendo cada um, a idade de um indivíduo. O último dado, que não entrará nos cálculos, contém um valor de idade negativa. Calcular e imprimir a idade média deste grupo de indivíduos. Se for entrado um valor negativo na primeira vez, mostrar a mensagem \"IMPOSSIVEL CALCULAR\".\n",
    "\n",
    "Exemplo 1:  \n",
    ">Digite as idades:  \n",
    "**31**  \n",
    "**27**  \n",
    "**46**  \n",
    "**-5**  \n",
    "MEDIA = 34.67  \n",
    "\n",
    "Exemplo 2:  \n",
    ">Digite as idades:  \n",
    "**-10**  \n",
    "IMPOSSÍVEL CALCULAR"
   ]
  },
  {
   "cell_type": "code",
   "execution_count": 20,
   "metadata": {},
   "outputs": [
    {
     "name": "stdout",
     "output_type": "stream",
     "text": [
      "Digite as idades:\n"
     ]
    },
    {
     "name": "stdin",
     "output_type": "stream",
     "text": [
      " -10\n"
     ]
    },
    {
     "name": "stdout",
     "output_type": "stream",
     "text": [
      "IMPOSSÍVEL CALCULAR\n"
     ]
    }
   ],
   "source": [
    "# --------------------------------------------------------->\n",
    "# PROBLEMA: \"media_idades\".\n",
    "# VER ARQUIVO: \"05-estruturas-repetitivas-exercicios\".\n",
    "# --------------------------------------------------------->\n",
    "\n",
    "# usuário entra com os dados solicitados.\n",
    "print(\"Digite as idades:\")\n",
    "idade = int(input())\n",
    "\n",
    "# ler numero indeterminado de idades e calcular a media.\n",
    "if idade < 0:\n",
    "    print(\"IMPOSSÍVEL CALCULAR\")\n",
    "else:\n",
    "    divisor = 0\n",
    "    media = 0\n",
    "    while idade >= 0:\n",
    "        divisor = divisor + 1\n",
    "        media = media + idade\n",
    "        idade = int(input())\n",
    "    media = media / divisor\n",
    "    print(f\"MEDIA = {media:.2f}\")"
   ]
  },
  {
   "cell_type": "markdown",
   "metadata": {},
   "source": [
    "---"
   ]
  },
  {
   "cell_type": "markdown",
   "metadata": {},
   "source": [
    "### Problema \"senha_fixa\"  \n",
    "*(adaptado de URI 1114)*  \n",
    "Escreva um programa que repita a leitura de uma senha até que ela seja válida. Para cada leitura de senha incorreta informada, escrever a mensagem \"Senha Invalida! Tente novamente:\". Quando a senha for informada corretamente deve ser impressa a mensagem \"Acesso Permitido\" e o algoritmo encerrado. Considere que a senha correta é o valor 2002.\n",
    "\n",
    "Exemplo:  \n",
    ">Digite a senha: 2312  \n",
    "Senha Invalida! Tente novamente: 2010  \n",
    "Senha Invalida! Tente novamente: 1022  \n",
    "Senha Invalida! Tente novamente: 2002  \n",
    "Acesso permitido!"
   ]
  },
  {
   "cell_type": "code",
   "execution_count": 21,
   "metadata": {},
   "outputs": [
    {
     "name": "stdin",
     "output_type": "stream",
     "text": [
      "Digite a senha:  2312\n",
      "Senha Inválida! Tente novamente:  2010\n",
      "Senha Inválida! Tente novamente:  1022\n",
      "Senha Inválida! Tente novamente:  2002\n"
     ]
    },
    {
     "name": "stdout",
     "output_type": "stream",
     "text": [
      "Acesso permitido!\n"
     ]
    }
   ],
   "source": [
    "# --------------------------------------------------------->\n",
    "# PROBLEMA: \"senha_fixa\".\n",
    "# VER ARQUIVO: \"05-estruturas-repetitivas-exercicios\".\n",
    "# --------------------------------------------------------->\n",
    "\n",
    "# usuário entra com os dados solicitados.\n",
    "senha_digitada = int(input(\"Digite a senha: \"))\n",
    "\n",
    "# verifica a senha.\n",
    "while senha_digitada != 2002:\n",
    "    senha_digitada = int(input(\"Senha Inválida! Tente novamente: \"))\n",
    "\n",
    "# acesso concedido.\n",
    "print(\"Acesso permitido!\")"
   ]
  },
  {
   "cell_type": "markdown",
   "metadata": {},
   "source": [
    "---"
   ]
  },
  {
   "cell_type": "markdown",
   "metadata": {},
   "source": [
    "### Problema \"quadrante\"  \n",
    "*(adaptado de URI 1115)*  \n",
    "Escreva um programa para ler as coordenadas (X,Y) de uma quantidade indeterminada de pontos no sistema cartesiano. Para cada ponto escrever o quadrante a que ele pertence (Q1, Q2, Q3 ou Q4). O algoritmo será encerrado quando pelo menos uma de duas coordenadas for NULA (nesta situação sem escrever mensagem alguma).\n",
    "\n",
    "Exemplo:  \n",
    ">Digite os valores das coordenadas X e Y:  \n",
    "**2**  \n",
    "**2**  \n",
    "QUADRANTE Q1  \n",
    "Digite os valores das coordenadas X e Y:  \n",
    "**3**  \n",
    "**-2**  \n",
    "QUADRANTE Q4  \n",
    "Digite os valores das coordenadas X e Y:  \n",
    "**-8**  \n",
    "**-1**  \n",
    "QUADRANTE Q3  \n",
    "Digite os valores das coordenadas X e Y:  \n",
    "**-7**  \n",
    "**1**  \n",
    "QUADRANTE Q2  \n",
    "Digite os valores das coordenadas X e Y:  \n",
    "**0**  \n",
    "**2**"
   ]
  },
  {
   "cell_type": "code",
   "execution_count": 22,
   "metadata": {},
   "outputs": [
    {
     "name": "stdout",
     "output_type": "stream",
     "text": [
      "Digite os valores das coordenadas X e Y:\n"
     ]
    },
    {
     "name": "stdin",
     "output_type": "stream",
     "text": [
      " 2\n",
      " 2\n"
     ]
    },
    {
     "name": "stdout",
     "output_type": "stream",
     "text": [
      "QUADRANTE Q1\n",
      "Digite os valores das coordenadas X e Y:\n"
     ]
    },
    {
     "name": "stdin",
     "output_type": "stream",
     "text": [
      " 3\n",
      " -2\n"
     ]
    },
    {
     "name": "stdout",
     "output_type": "stream",
     "text": [
      "QUADRANTE Q4\n",
      "Digite os valores das coordenadas X e Y:\n"
     ]
    },
    {
     "name": "stdin",
     "output_type": "stream",
     "text": [
      " -8\n",
      " -1\n"
     ]
    },
    {
     "name": "stdout",
     "output_type": "stream",
     "text": [
      "QUADRANTE Q3\n",
      "Digite os valores das coordenadas X e Y:\n"
     ]
    },
    {
     "name": "stdin",
     "output_type": "stream",
     "text": [
      " -7\n",
      " 1\n"
     ]
    },
    {
     "name": "stdout",
     "output_type": "stream",
     "text": [
      "QUADRANTE Q2\n",
      "Digite os valores das coordenadas X e Y:\n"
     ]
    },
    {
     "name": "stdin",
     "output_type": "stream",
     "text": [
      " 0\n",
      " 2\n"
     ]
    }
   ],
   "source": [
    "# --------------------------------------------------------->\n",
    "# PROBLEMA: \"quadrante\".\n",
    "# VER ARQUIVO: \"05-estruturas-repetitivas-exercicios\".\n",
    "# --------------------------------------------------------->\n",
    "\n",
    "# usuário entra com os dados solicitados.\n",
    "print(\"Digite os valores das coordenadas X e Y:\")\n",
    "x = int(input())\n",
    "y = int(input())\n",
    "\n",
    "# verifica o quadrante.\n",
    "while x != 0 and y != 0:\n",
    "    if x > 0 and y > 0:\n",
    "        print(\"QUADRANTE Q1\")\n",
    "    elif x < 0 and y > 0:\n",
    "        print(\"QUADRANTE Q2\")\n",
    "    elif x < 0 and y < 0:\n",
    "        print(\"QUADRANTE Q3\")\n",
    "    else:\n",
    "        print(\"QUADRANTE Q4\")\n",
    "    print(\"Digite os valores das coordenadas X e Y:\")\n",
    "    x = int(input())\n",
    "    y = int(input())"
   ]
  },
  {
   "cell_type": "markdown",
   "metadata": {},
   "source": [
    "---"
   ]
  },
  {
   "cell_type": "markdown",
   "metadata": {},
   "source": [
    "### Problema \"validacao_de_nota\"  \n",
    "*(adaptado de URI 1117)*  \n",
    "Faça um programa que leia as notas referentes às duas avaliações de um aluno. Calcule e imprima a média semestral. Faça com que o algoritmo só aceite notas válidas (uma nota válida deve pertencer ao intervalo [0,10]). Cada nota deve ser validada separadamente.\n",
    "\n",
    "Exemplo 1:  \n",
    ">Digite a primeira nota: 3.5  \n",
    "Digite a segunda nota: 10.0  \n",
    "MEDIA = 6.75  \n",
    "\n",
    "Exemplo 2:  \n",
    ">Digite a primeira nota: -3.5  \n",
    "Valor invalido! Tente novamente: 3.5  \n",
    "Digite a segunda nota: 11.0  \n",
    "Valor invalido! Tente novamente: 10.5  \n",
    "Valor invalido! Tente novamente: 10.0  \n",
    "MEDIA = 6.75"
   ]
  },
  {
   "cell_type": "code",
   "execution_count": 24,
   "metadata": {},
   "outputs": [
    {
     "name": "stdin",
     "output_type": "stream",
     "text": [
      "Digite a primeira nota:  -3.5\n",
      "Valor inválido! Tente novamente:  3.5\n",
      "Digite a segunda nota:  11.0\n",
      "Valor inválido! Tente novamente:  10.5\n",
      "Valor inválido! Tente novamente:  10.0\n"
     ]
    },
    {
     "name": "stdout",
     "output_type": "stream",
     "text": [
      "MEDIA = 6.75\n"
     ]
    }
   ],
   "source": [
    "# --------------------------------------------------------->\n",
    "# PROBLEMA: \"validacao_de_nota\".\n",
    "# VER ARQUIVO: \"05-estruturas-repetitivas-exercicios\".\n",
    "# --------------------------------------------------------->\n",
    "\n",
    "# usuário entra com os dados solicitados e efetua validação.\n",
    "nota1 = float(input(\"Digite a primeira nota: \"))\n",
    "while nota1 < 0 or nota1 > 10:\n",
    "    nota1 = float(input(\"Valor inválido! Tente novamente: \"))\n",
    "    \n",
    "nota2 = float(input(\"Digite a segunda nota: \"))\n",
    "while nota2 < 0 or nota2 > 10:\n",
    "    nota2 = float(input(\"Valor inválido! Tente novamente: \"))\n",
    "    \n",
    "# calcula e exime a média.\n",
    "media = (nota1 + nota2) / 2\n",
    "print(f\"MEDIA = {media:.2f}\")"
   ]
  },
  {
   "cell_type": "markdown",
   "metadata": {},
   "source": [
    "---"
   ]
  },
  {
   "cell_type": "markdown",
   "metadata": {},
   "source": [
    "### Problema \"combustivel\"  \n",
    "*(adaptado de URI 1134)*  \n",
    "Um posto de combustíveis deseja determinar qual de seus produtos tem a preferência de seus clientes. Escreva um algoritmo para ler o tipo de combustível abastecido (codificado da seguinte forma: 1.Álcool 2.Gasolina 3.Diesel 4.Fim). Caso o usuário informe um código inválido (fora da faixa de 1 a 4) deve ser solicitado um novo código (até que seja válido). O programa será encerrado quando o código informado for o número 4, devendo então mostrar a mensagem \"MUITO OBRIGADO\", bem como as quantidades de cada combustível.\n",
    "\n",
    "Exemplo:  \n",
    ">Informe um codigo (1, 2, 3) ou 4 para parar: *8*  \n",
    "Informe um codigo (1, 2, 3) ou 4 para parar: *1*  \n",
    "Informe um codigo (1, 2, 3) ou 4 para parar: *7*  \n",
    "Informe um codigo (1, 2, 3) ou 4 para parar: *2*  \n",
    "Informe um codigo (1, 2, 3) ou 4 para parar: *2*  \n",
    "Informe um codigo (1, 2, 3) ou 4 para parar: *4*  \n",
    "MUITO OBRIGADO  \n",
    "Alcool: 1  \n",
    "Gasolina: 2  \n",
    "Diesel: 0"
   ]
  },
  {
   "cell_type": "code",
   "execution_count": 25,
   "metadata": {},
   "outputs": [
    {
     "name": "stdin",
     "output_type": "stream",
     "text": [
      "Informe um código (1, 2, 3) ou 4 para parar:  8\n",
      "Informe um código (1, 2, 3) ou 4 para parar:  1\n",
      "Informe um código (1, 2, 3) ou 4 para parar:  7\n",
      "Informe um código (1, 2, 3) ou 4 para parar:  2\n",
      "Informe um código (1, 2, 3) ou 4 para parar:  2\n",
      "Informe um código (1, 2, 3) ou 4 para parar:  4\n"
     ]
    },
    {
     "name": "stdout",
     "output_type": "stream",
     "text": [
      "MUITO OBRIGADO\n",
      "Alcool: 1\n",
      "Gasolina: 2\n",
      "Diesel: 0\n"
     ]
    }
   ],
   "source": [
    "# --------------------------------------------------------->\n",
    "# PROBLEMA: \"combustivel\".\n",
    "# VER ARQUIVO: \"05-estruturas-repetitivas-exercicios\".\n",
    "# --------------------------------------------------------->\n",
    "\n",
    "# inicializa variavel de contagem, usuário entra com os\n",
    "# dados solicitados e inicia a contagem.\n",
    "codigo = 0\n",
    "alcool = 0\n",
    "gasolina = 0\n",
    "diesel = 0\n",
    "while codigo != 4:\n",
    "    codigo = int(input(\"Informe um código (1, 2, 3) ou 4 para parar: \"))\n",
    "    if codigo == 1:\n",
    "        alcool = alcool + 1\n",
    "    elif codigo == 2:\n",
    "        gasolina = gasolina + 1\n",
    "    elif codigo == 3:\n",
    "        diesel = diesel + 1\n",
    "\n",
    "# exibe contagem dos dados\n",
    "print(\"MUITO OBRIGADO\")\n",
    "print(f\"Alcool: {alcool}\")\n",
    "print(f\"Gasolina: {gasolina}\")\n",
    "print(f\"Diesel: {diesel}\")"
   ]
  },
  {
   "cell_type": "markdown",
   "metadata": {},
   "source": [
    "---"
   ]
  },
  {
   "cell_type": "markdown",
   "metadata": {},
   "source": [
    "### Problema \"pares_consecutivos\"\n",
    "*(adaptado de URI 1159)*  \n",
    "O programa deve ler um valor inteiro X indefinidas vezes. (O programa irá parar quando o valor de X for igual a 0). Para cada X lido, imprima a soma dos 5 pares consecutivos a partir de X, inclusive o X, se for par. Se o valor de entrada for 4, por exemplo, a saída deve ser 40, que é o resultado da operação: 4+6+8+10+12, enquanto que se o valor de entrada for 11, por exempo, a saída deve ser 80, que é a soma de 12+14+16+18+20.\n",
    "\n",
    "Exemplo:  \n",
    ">Digite um numero inteiro: **4**  \n",
    "SOMA = 40  \n",
    "Digite um numero inteiro: **11**  \n",
    "SOMA = 80  \n",
    "Digite um numero inteiro: **0**"
   ]
  },
  {
   "cell_type": "code",
   "execution_count": 26,
   "metadata": {},
   "outputs": [
    {
     "name": "stdin",
     "output_type": "stream",
     "text": [
      "Digite um número inteiro:  4\n"
     ]
    },
    {
     "name": "stdout",
     "output_type": "stream",
     "text": [
      "SOMA = 40\n"
     ]
    },
    {
     "name": "stdin",
     "output_type": "stream",
     "text": [
      "Digite um número inteiro:  11\n"
     ]
    },
    {
     "name": "stdout",
     "output_type": "stream",
     "text": [
      "SOMA = 80\n"
     ]
    },
    {
     "name": "stdin",
     "output_type": "stream",
     "text": [
      "Digite um número inteiro:  0\n"
     ]
    }
   ],
   "source": [
    "# --------------------------------------------------------->\n",
    "# PROBLEMA: \"pares_consecutivos\".\n",
    "# VER ARQUIVO: \"05-estruturas-repetitivas-exercicios\".\n",
    "# --------------------------------------------------------->\n",
    "\n",
    "# usuário entra com os dados solicitados.\n",
    "x = int(input(\"Digite um número inteiro: \"))\n",
    "\n",
    "# calcula a soma dos pares consecutivos.\n",
    "while x != 0:\n",
    "    if x % 2 != 0:\n",
    "        x = x + 1\n",
    "    soma = (x * 5) + 20\n",
    "    print(f\"SOMA = {soma}\")\n",
    "    x = int(input(\"Digite um número inteiro: \"))"
   ]
  },
  {
   "cell_type": "markdown",
   "metadata": {},
   "source": [
    "---"
   ]
  },
  {
   "cell_type": "markdown",
   "metadata": {},
   "source": [
    "### Problema \"tabuada\"\n",
    "Ler um número inteiro N, daí mostrar na tela a tabuada de N para 1 a 10, conforme exemplo.\n",
    "\n",
    "Exemplo:  \n",
    ">Deseja a tabuada para qual valor? **4**  \n",
    "4 x 1 = 4  \n",
    "4 x 2 = 8  \n",
    "4 x 3 = 12  \n",
    "4 x 4 = 16  \n",
    "4 x 5 = 20  \n",
    "4 x 6 = 24  \n",
    "4 x 7 = 28  \n",
    "4 x 8 = 32  \n",
    "4 x 9 = 36  \n",
    "4 x 10 = 40"
   ]
  },
  {
   "cell_type": "code",
   "execution_count": 27,
   "metadata": {},
   "outputs": [
    {
     "name": "stdin",
     "output_type": "stream",
     "text": [
      "Deseja a tabuada para qual valor?  4\n"
     ]
    },
    {
     "name": "stdout",
     "output_type": "stream",
     "text": [
      "4 x 1 = 4\n",
      "4 x 2 = 8\n",
      "4 x 3 = 12\n",
      "4 x 4 = 16\n",
      "4 x 5 = 20\n",
      "4 x 6 = 24\n",
      "4 x 7 = 28\n",
      "4 x 8 = 32\n",
      "4 x 9 = 36\n",
      "4 x 10 = 40\n"
     ]
    }
   ],
   "source": [
    "# --------------------------------------------------------->\n",
    "# PROBLEMA: \"tabuada\".\n",
    "# VER ARQUIVO: \"05-estruturas-repetitivas-exercicios\".\n",
    "# --------------------------------------------------------->\n",
    "\n",
    "# usuário entra com os dados solicitados.\n",
    "n = int(input(\"Deseja a tabuada para qual valor? \"))\n",
    "\n",
    "# calcula e exibe a tabuada.\n",
    "for i in range(1, 11):\n",
    "    produto = n * i\n",
    "    print(f\"{n} x {i} = {produto}\")"
   ]
  },
  {
   "cell_type": "markdown",
   "metadata": {},
   "source": [
    "---"
   ]
  },
  {
   "cell_type": "markdown",
   "metadata": {},
   "source": [
    "### Problema \"soma_impares\"  \n",
    "*(adaptado de URI 1071)*  \n",
    "Leia 2 valores inteiros X e Y (em qualquer ordem). A seguir, calcule e mostre a soma dos números impares entre eles.\n",
    "\n",
    "Exemplo 1:  \n",
    ">Digite dois numeros:  \n",
    "**2**  \n",
    "**9**  \n",
    "SOMA DOS IMPARES = 15  \n",
    "\n",
    "Exemplo 2:  \n",
    ">Digite dois numeros:  \n",
    "**15**  \n",
    "**10**  \n",
    "SOMA DOS IMPARES = 24  \n",
    "\n",
    "Exemplo 3:  \n",
    ">Digite dois numeros:  \n",
    "**6**  \n",
    "**-5**  \n",
    "SOMA DOS IMPARES = 5"
   ]
  },
  {
   "cell_type": "code",
   "execution_count": 30,
   "metadata": {},
   "outputs": [
    {
     "name": "stdout",
     "output_type": "stream",
     "text": [
      "Digite dois números:\n"
     ]
    },
    {
     "name": "stdin",
     "output_type": "stream",
     "text": [
      " 6\n",
      " -5\n"
     ]
    },
    {
     "name": "stdout",
     "output_type": "stream",
     "text": [
      "SOMA DOS IMPARES = 5\n"
     ]
    }
   ],
   "source": [
    "# --------------------------------------------------------->\n",
    "# PROBLEMA: \"soma_impares\".\n",
    "# VER ARQUIVO: \"05-estruturas-repetitivas-exercicios\".\n",
    "# --------------------------------------------------------->\n",
    "\n",
    "# usuário entra com os dados solicitados.\n",
    "print(\"Digite dois números:\")\n",
    "x = int(input())\n",
    "y = int(input())\n",
    "\n",
    "# ajusta em ordem crescente.\n",
    "if x > y:\n",
    "    troca = x\n",
    "    x = y\n",
    "    y = troca\n",
    "\n",
    "# calcula e exibe soma dos impares.\n",
    "soma = 0\n",
    "for i in range(x+1, y):\n",
    "    if i % 2 != 0:\n",
    "        soma = soma + i\n",
    "\n",
    "print(f\"SOMA DOS IMPARES = {soma}\")"
   ]
  },
  {
   "cell_type": "markdown",
   "metadata": {},
   "source": [
    "---"
   ]
  },
  {
   "cell_type": "markdown",
   "metadata": {},
   "source": [
    "### Problema \"sequencia_impares\"  \n",
    "*(adaptado de URI 1067)*  \n",
    "Leia um valor inteiro X. Em seguida mostre os ímpares de 1 até X, um valor por linha, inclusive o X, se for o caso.\n",
    "\n",
    "Exemplo:  \n",
    ">Digite o valor de X: **8**  \n",
    "1<br>3<br>5<br>7"
   ]
  },
  {
   "cell_type": "code",
   "execution_count": 31,
   "metadata": {},
   "outputs": [
    {
     "name": "stdin",
     "output_type": "stream",
     "text": [
      "Digite o valor de X:  8\n"
     ]
    },
    {
     "name": "stdout",
     "output_type": "stream",
     "text": [
      "1\n",
      "3\n",
      "5\n",
      "7\n"
     ]
    }
   ],
   "source": [
    "# --------------------------------------------------------->\n",
    "# PROBLEMA: \"sequencia_impares\".\n",
    "# VER ARQUIVO: \"05-estruturas-repetitivas-exercicios\".\n",
    "# --------------------------------------------------------->\n",
    "\n",
    "# usuário entra com os dados solicitados.\n",
    "x = int(input(\"Digite o valor de X: \"))\n",
    "\n",
    "# verifica e exibe os impares.\n",
    "for i in range(x):\n",
    "    if i % 2 != 0:\n",
    "        print(i)"
   ]
  },
  {
   "cell_type": "markdown",
   "metadata": {},
   "source": [
    "---"
   ]
  },
  {
   "cell_type": "markdown",
   "metadata": {},
   "source": [
    "### Problema \"dentro_fora\"  \n",
    "*(adaptado de URI 1072)*  \n",
    "Leia um valor inteiro N. Este valor será a quantidade de valores inteiros X que serão lidos em seguida. Mostre quantos destes valores X estão dentro do intervalo [10,20] e quantos estão fora do intervalo, conforme exemplo.\n",
    "\n",
    "Exemplo:  \n",
    ">Quantos numeros voce vai digitar? **5**  \n",
    "Digite um numero: **14**  \n",
    "Digite um numero: **35**  \n",
    "Digite um numero: **10**  \n",
    "Digite um numero: **131**  \n",
    "Digite um numero: **8**  \n",
    "2 DENTRO  \n",
    "3 FORA"
   ]
  },
  {
   "cell_type": "code",
   "execution_count": 32,
   "metadata": {},
   "outputs": [
    {
     "name": "stdin",
     "output_type": "stream",
     "text": [
      "Quantos números você vai digitar?  5\n",
      "Digite um número:  14\n",
      "Digite um número:  35\n",
      "Digite um número:  10\n",
      "Digite um número:  131\n",
      "Digite um número:  8\n"
     ]
    },
    {
     "name": "stdout",
     "output_type": "stream",
     "text": [
      "2 DENTRO\n",
      "3 FORA\n"
     ]
    }
   ],
   "source": [
    "# --------------------------------------------------------->\n",
    "# PROBLEMA: \"dentro_fora\".\n",
    "# VER ARQUIVO: \"05-estruturas-repetitivas-exercicios\".\n",
    "# --------------------------------------------------------->\n",
    "\n",
    "# usuário entra com os dados solicitados.\n",
    "n = int(input(\"Quantos números você vai digitar? \"))\n",
    "\n",
    "# verifica e conta dentro/fora do intervalo.\n",
    "dentro = 0\n",
    "fora = 0\n",
    "for i in range(n):\n",
    "    x = int(input(\"Digite um número: \"))\n",
    "    if 10 <= x <= 20:\n",
    "        dentro = dentro + 1\n",
    "    else:\n",
    "        fora = fora + 1\n",
    "        \n",
    "# exibe contagem.\n",
    "print(f\"{dentro} DENTRO\")\n",
    "print(f\"{fora} FORA\")"
   ]
  },
  {
   "cell_type": "markdown",
   "metadata": {},
   "source": [
    "---"
   ]
  },
  {
   "cell_type": "markdown",
   "metadata": {},
   "source": [
    "### Problema \"par_impar\"  \n",
    "*(adaptado de URI 1074)*  \n",
    "Leia um valor inteiro N. Este valor será a quantidade de números inteiros que serão lidos em seguida. Para cada valor lido, mostre uma mensagem dizendo se este valor lido é PAR ou IMPAR, e também se é POSITIVO ou NEGATIVO. No caso do valor ser igual a zero (0), seu programa deverá imprimir apenas NULO.\n",
    "\n",
    "Exemplo:  \n",
    ">Quantos numeros voce vai digitar? **4**  \n",
    "Digite um numero: **-5**  \n",
    "IMPAR NEGATIVO  \n",
    "Digite um numero: **0**  \n",
    "NULO  \n",
    "Digite um numero: **3**  \n",
    "IMPAR POSITIVO  \n",
    "Digite um numero: **-4**  \n",
    "PAR NEGATIVO"
   ]
  },
  {
   "cell_type": "code",
   "execution_count": 33,
   "metadata": {},
   "outputs": [
    {
     "name": "stdin",
     "output_type": "stream",
     "text": [
      "Quantos números você vai digitar?  4\n",
      "Digite um número:  -5\n"
     ]
    },
    {
     "name": "stdout",
     "output_type": "stream",
     "text": [
      "IMPAR NEGATIVO\n"
     ]
    },
    {
     "name": "stdin",
     "output_type": "stream",
     "text": [
      "Digite um número:  0\n"
     ]
    },
    {
     "name": "stdout",
     "output_type": "stream",
     "text": [
      "NULO\n"
     ]
    },
    {
     "name": "stdin",
     "output_type": "stream",
     "text": [
      "Digite um número:  3\n"
     ]
    },
    {
     "name": "stdout",
     "output_type": "stream",
     "text": [
      "IMPAR POSITIVO\n"
     ]
    },
    {
     "name": "stdin",
     "output_type": "stream",
     "text": [
      "Digite um número:  -4\n"
     ]
    },
    {
     "name": "stdout",
     "output_type": "stream",
     "text": [
      "PAR NEGATIVO\n"
     ]
    }
   ],
   "source": [
    "# --------------------------------------------------------->\n",
    "# PROBLEMA: \"par_impar\".\n",
    "# VER ARQUIVO: \"05-estruturas-repetitivas-exercicios\".\n",
    "# --------------------------------------------------------->\n",
    "\n",
    "# usuário entra com os dados solicitados.\n",
    "n = int(input(\"Quantos números você vai digitar? \"))\n",
    "\n",
    "# verifica e exibe par/impar, positivo/negativo ou nulo.\n",
    "for i in range(n):\n",
    "    x = int(input(\"Digite um número: \"))\n",
    "    if x == 0:\n",
    "        print(\"NULO\")\n",
    "    else:\n",
    "        if x % 2 == 0:\n",
    "            print(\"PAR\", end=\" \")\n",
    "        else:\n",
    "            print(\"IMPAR\", end=\" \")\n",
    "        if x > 0:\n",
    "            print(\"POSITIVO\")\n",
    "        else:\n",
    "            print(\"NEGATIVO\")"
   ]
  },
  {
   "cell_type": "code",
   "execution_count": null,
   "metadata": {},
   "outputs": [],
   "source": []
  }
 ],
 "metadata": {
  "kernelspec": {
   "display_name": "Python 3",
   "language": "python",
   "name": "python3"
  },
  "language_info": {
   "codemirror_mode": {
    "name": "ipython",
    "version": 3
   },
   "file_extension": ".py",
   "mimetype": "text/x-python",
   "name": "python",
   "nbconvert_exporter": "python",
   "pygments_lexer": "ipython3",
   "version": "3.8.2"
  }
 },
 "nbformat": 4,
 "nbformat_minor": 4
}
