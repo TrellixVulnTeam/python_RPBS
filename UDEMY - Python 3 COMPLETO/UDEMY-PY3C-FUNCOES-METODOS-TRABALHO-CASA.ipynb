{
 "cells": [
  {
   "cell_type": "markdown",
   "metadata": {},
   "source": [
    "# UDEMY - Python 3 COMPLETO\n",
    "---"
   ]
  },
  {
   "cell_type": "markdown",
   "metadata": {},
   "source": [
    "## Funções e métodos - Trabalho de casa\n",
    "\n",
    "Responda as seguintes perguntas:"
   ]
  },
  {
   "cell_type": "markdown",
   "metadata": {},
   "source": [
    "**Escreva uma função que calcula o volume de uma esfera dado seu raio.**"
   ]
  },
  {
   "cell_type": "code",
   "execution_count": 1,
   "metadata": {},
   "outputs": [],
   "source": [
    "import math"
   ]
  },
  {
   "cell_type": "code",
   "execution_count": 3,
   "metadata": {},
   "outputs": [
    {
     "name": "stdout",
     "output_type": "stream",
     "text": [
      "33.51\n"
     ]
    }
   ],
   "source": [
    "def vol(rad):\n",
    "    ve = (4 * math.pi * pow(rad, 3)) / 3\n",
    "    return (ve)\n",
    "\n",
    "print(\"{:.2f}\".format(vol(2)))"
   ]
  },
  {
   "cell_type": "markdown",
   "metadata": {},
   "source": [
    "**Escreva uma função que verifica se um número está em um determinado intervalo (inclusive o máximo e mínimo)**"
   ]
  },
  {
   "cell_type": "code",
   "execution_count": 28,
   "metadata": {},
   "outputs": [
    {
     "name": "stdout",
     "output_type": "stream",
     "text": [
      "True\n"
     ]
    }
   ],
   "source": [
    "def ran_check(num, low, high):\n",
    "    return num in list(range(low, high+1))\n",
    "\n",
    "print(ran_check(3, 1, 10))"
   ]
  },
  {
   "cell_type": "code",
   "execution_count": null,
   "metadata": {},
   "outputs": [],
   "source": []
  },
  {
   "cell_type": "markdown",
   "metadata": {},
   "source": [
    "**Escreva uma função Python que aceita uma string e calcule o número de maiúsculas e minúsculas.**\n",
    "\n",
    "Exemplo de Cadeia: *'Olá Sr. Rogers, como você está bem, terça-feira?'*\n",
    "\n",
    "Saída esperada:\n",
    "```\n",
    "    Número de caracteres maiúsculas: 3\n",
    "    Número de caracteres minúsculos: 33\n",
    "```\n",
    "Se você se sentir ambicioso, explore o módulo de Coleções para resolver esse problema!"
   ]
  },
  {
   "cell_type": "code",
   "execution_count": 33,
   "metadata": {},
   "outputs": [
    {
     "name": "stdout",
     "output_type": "stream",
     "text": [
      "Número de caracteres maiúsculas:  3\n",
      "Número de caracteres minúsculos:  33\n"
     ]
    }
   ],
   "source": [
    "def up_low(s):\n",
    "    maiuscula = 0\n",
    "    minuscula = 0\n",
    "    for i in s:\n",
    "        if i.isupper():\n",
    "            maiuscula += 1\n",
    "        elif i.islower():\n",
    "            minuscula += 1            \n",
    "        else:\n",
    "            continue\n",
    "    print(\"Número de caracteres maiúsculas: \", maiuscula)\n",
    "    print(\"Número de caracteres minúsculos: \", minuscula)\n",
    "\n",
    "s = \"Olá Sr. Rogers, como você está bem, terça-feira?\"\n",
    "up_low(s)"
   ]
  },
  {
   "cell_type": "markdown",
   "metadata": {},
   "source": [
    "**Escreva uma função Python que recebe uma lista e retorna uma nova lista com elementos exclusivos da primeira lista.**\n",
    "\n",
    "- Lista de Amostras: [1,1,1,1,2,2,3,3,3,3,4,5]\n",
    "- Lista única: [1, 2, 3, 4, 5]"
   ]
  },
  {
   "cell_type": "code",
   "execution_count": 36,
   "metadata": {},
   "outputs": [
    {
     "data": {
      "text/plain": [
       "[1, 2, 3, 4, 5]"
      ]
     },
     "execution_count": 36,
     "metadata": {},
     "output_type": "execute_result"
    }
   ],
   "source": [
    "def unique_list(l):\n",
    "    return list(set(l))\n",
    "\n",
    "l = [1, 1, 1, 1, 2, 2, 3, 3, 3, 3, 4, 5]\n",
    "unique_list(l)"
   ]
  },
  {
   "cell_type": "markdown",
   "metadata": {},
   "source": [
    "**Escreva uma função Python para multiplicar todos os números em uma lista.**\n",
    "\n",
    "Lista de exemplos: [1, 2, 3, -4]  \n",
    "Saída esperada: -24"
   ]
  },
  {
   "cell_type": "code",
   "execution_count": 39,
   "metadata": {},
   "outputs": [
    {
     "data": {
      "text/plain": [
       "-24"
      ]
     },
     "execution_count": 39,
     "metadata": {},
     "output_type": "execute_result"
    }
   ],
   "source": [
    "def multiply(numbers):\n",
    "    result = 1\n",
    "    for i in numbers:\n",
    "        result *= i\n",
    "    return result\n",
    "\n",
    "multiply([1, 2, 3, -4])"
   ]
  },
  {
   "cell_type": "markdown",
   "metadata": {},
   "source": [
    "**Escreva uma função Python que verifica se uma string passada é palindrome ou não.**\n",
    "\n",
    "Nota: Um palíndromo é palavra, frase ou seqüência que lê o mesmo para trás."
   ]
  },
  {
   "cell_type": "code",
   "execution_count": 41,
   "metadata": {},
   "outputs": [
    {
     "data": {
      "text/plain": [
       "True"
      ]
     },
     "execution_count": 41,
     "metadata": {},
     "output_type": "execute_result"
    }
   ],
   "source": [
    "def palindrome(s):\n",
    "    s = s.replace(' ', '')\n",
    "    return s == s[::-1]\n",
    "\n",
    "palindrome(\"helleh\")"
   ]
  },
  {
   "cell_type": "markdown",
   "metadata": {},
   "source": [
    "**Difícil:**\n",
    "\n",
    "**Escreva uma função Python para verificar se uma string é um pangrama ou não.**\n",
    "\n",
    "Nota: Pangramas são palavras ou frases contendo cada letra do alfabeto pelo menos uma vez.  \n",
    "Dica: veja o módulo de strings"
   ]
  },
  {
   "cell_type": "code",
   "execution_count": 44,
   "metadata": {},
   "outputs": [
    {
     "data": {
      "text/plain": [
       "True"
      ]
     },
     "execution_count": 44,
     "metadata": {},
     "output_type": "execute_result"
    }
   ],
   "source": [
    "import string\n",
    "\n",
    "def ispangram(str1, alphabet=string.ascii_lowercase):\n",
    "    num = len(alphabet)\n",
    "    count = 0\n",
    "    for i in alphabet:\n",
    "        if i in str1:\n",
    "            count += 1\n",
    "    return count == num\n",
    "\n",
    "ispangram(\"The quick brown fox jumps over the lazy dog\")"
   ]
  }
 ],
 "metadata": {
  "kernelspec": {
   "display_name": "Python 3",
   "language": "python",
   "name": "python3"
  },
  "language_info": {
   "codemirror_mode": {
    "name": "ipython",
    "version": 3
   },
   "file_extension": ".py",
   "mimetype": "text/x-python",
   "name": "python",
   "nbconvert_exporter": "python",
   "pygments_lexer": "ipython3",
   "version": "3.8.5"
  }
 },
 "nbformat": 4,
 "nbformat_minor": 4
}
