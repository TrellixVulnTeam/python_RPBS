{
 "cells": [
  {
   "cell_type": "markdown",
   "metadata": {
    "id": "Q7XdrwOy0k-I"
   },
   "source": [
    "# UDEMY - Python 3 COMPLETO\n",
    "---"
   ]
  },
  {
   "cell_type": "markdown",
   "metadata": {
    "id": "6oAnVfWZ0k-S"
   },
   "source": [
    "## Números\n",
    "\n",
    "Nesta aula aprenderemos sobre os números em Python e sobre como usá-los.\n",
    "Aprenderemos sobre os seguintes tópicos:\n",
    "\n",
    "1. Tipos de números em Python\n",
    "2. Aritmética básica\n",
    "3. Atribuição de objeto em Python\n"
   ]
  },
  {
   "cell_type": "markdown",
   "metadata": {
    "id": "L390kxPx0k-T"
   },
   "source": [
    "### Tipos de números\n",
    "\n",
    "Python tem vários \"tipos\" de números (literais numéricos). Nós nos concentraremos principalmente em números inteiros e números de ponto flutuante.\n",
    "\n",
    "Inteiros são apenas números inteiros, positivos ou negativos. Por exemplo: 2 e -2 são exemplos de números inteiros.\n",
    "\n",
    "Os números de pontos flutuantes em Python são notáveis porque eles têm um ponto decimal neles, ou usam uma exponencial (e) para definir o número. Por exemplo, 2.0 e -2.1 são exemplos de números de ponto flutuante.\n",
    "\n",
    "Ao longo deste curso, trabalharemos principalmente com números inteiros ou tipos simples de números de flutuação.\n",
    "\n",
    "Aqui está uma tabela dos dois tipos principais que passaremos a maior parte do tempo trabalhando com alguns exemplos:\n",
    "\n",
    "Exemplo | Tipo\n",
    "-- | --\n",
    "1, 2, -5, 1000 | Inteiros\n",
    "1.2, -0.5 | Ponto flutuante\n",
    "\n",
    "Agora vamos começar com alguma aritmética básica."
   ]
  },
  {
   "cell_type": "markdown",
   "metadata": {
    "id": "fxq6lN-G0k-T"
   },
   "source": [
    "### Aritmética básica"
   ]
  },
  {
   "cell_type": "code",
   "execution_count": null,
   "metadata": {
    "id": "StT0hPOD0k-U",
    "outputId": "a4b887ad-dd23-467a-82db-cedc6f871dd6"
   },
   "outputs": [
    {
     "data": {
      "text/plain": [
       "3"
      ]
     },
     "execution_count": 10,
     "metadata": {
      "tags": []
     },
     "output_type": "execute_result"
    }
   ],
   "source": [
    "# soma\n",
    "2 + 1"
   ]
  },
  {
   "cell_type": "code",
   "execution_count": null,
   "metadata": {
    "id": "stIuhCGL0k-W",
    "outputId": "eac18a64-7224-4f23-f371-2bce21e54fb8"
   },
   "outputs": [
    {
     "data": {
      "text/plain": [
       "1"
      ]
     },
     "execution_count": 12,
     "metadata": {
      "tags": []
     },
     "output_type": "execute_result"
    }
   ],
   "source": [
    "# subtração\n",
    "2 - 1"
   ]
  },
  {
   "cell_type": "code",
   "execution_count": null,
   "metadata": {
    "id": "v8oVdn3J0k-W",
    "outputId": "954e68a3-3387-4ee8-9c09-7fbc7ce3bb0e"
   },
   "outputs": [
    {
     "data": {
      "text/plain": [
       "4"
      ]
     },
     "execution_count": 13,
     "metadata": {
      "tags": []
     },
     "output_type": "execute_result"
    }
   ],
   "source": [
    "# multiplicação\n",
    "2 * 2"
   ]
  },
  {
   "cell_type": "code",
   "execution_count": null,
   "metadata": {
    "id": "pbPYLQQk0k-W",
    "outputId": "3ebfdc33-ae31-42ad-bc13-fbe34da0d97c"
   },
   "outputs": [
    {
     "data": {
      "text/plain": [
       "1.5"
      ]
     },
     "execution_count": 14,
     "metadata": {
      "tags": []
     },
     "output_type": "execute_result"
    }
   ],
   "source": [
    "# divisão\n",
    "3 / 2"
   ]
  },
  {
   "cell_type": "code",
   "execution_count": null,
   "metadata": {
    "id": "tQuvDQQR0k-X",
    "outputId": "e4b04acb-ba0c-4924-d9f2-47831ca8fd72"
   },
   "outputs": [
    {
     "data": {
      "text/plain": [
       "25"
      ]
     },
     "execution_count": 16,
     "metadata": {
      "tags": []
     },
     "output_type": "execute_result"
    }
   ],
   "source": [
    "# potência (elevado ao quadrado)\n",
    "5 ** 2"
   ]
  },
  {
   "cell_type": "code",
   "execution_count": null,
   "metadata": {
    "id": "YixfRd3w0k-X",
    "outputId": "ad059c92-6cdd-43cc-e4e2-7a1a3f50b6cc"
   },
   "outputs": [
    {
     "data": {
      "text/plain": [
       "125"
      ]
     },
     "execution_count": 17,
     "metadata": {
      "tags": []
     },
     "output_type": "execute_result"
    }
   ],
   "source": [
    "# potência (elevado ao cubo)\n",
    "5 ** 3"
   ]
  },
  {
   "cell_type": "code",
   "execution_count": null,
   "metadata": {
    "id": "B1S0Cty90k-Y",
    "outputId": "fc161703-aba9-481b-a681-610c59b02bdd"
   },
   "outputs": [
    {
     "data": {
      "text/plain": [
       "5.0"
      ]
     },
     "execution_count": 18,
     "metadata": {
      "tags": []
     },
     "output_type": "execute_result"
    }
   ],
   "source": [
    "# raiz quadrada\n",
    "25 ** (1/2)"
   ]
  },
  {
   "cell_type": "code",
   "execution_count": null,
   "metadata": {
    "id": "SD-l-NRe0k-Y",
    "outputId": "14b93c9a-4a98-4f8f-b976-723131672df4"
   },
   "outputs": [
    {
     "data": {
      "text/plain": [
       "5.0"
      ]
     },
     "execution_count": 19,
     "metadata": {
      "tags": []
     },
     "output_type": "execute_result"
    }
   ],
   "source": [
    "# raiz quadrada\n",
    "25 ** 0.5"
   ]
  },
  {
   "cell_type": "code",
   "execution_count": null,
   "metadata": {
    "id": "VC4uWb1A0k-Y",
    "outputId": "746c8a24-dede-467f-fd7a-3f7c2981c05e"
   },
   "outputs": [
    {
     "data": {
      "text/plain": [
       "105"
      ]
     },
     "execution_count": 20,
     "metadata": {
      "tags": []
     },
     "output_type": "execute_result"
    }
   ],
   "source": [
    "# ordem das operações segue a regra da matemática\n",
    "2 + 10 * 10 + 3"
   ]
  },
  {
   "cell_type": "code",
   "execution_count": null,
   "metadata": {
    "id": "5RPvRzqc0k-Z",
    "outputId": "841e3003-2fbc-44d6-9491-b3b9ac118647"
   },
   "outputs": [
    {
     "data": {
      "text/plain": [
       "156"
      ]
     },
     "execution_count": 21,
     "metadata": {
      "tags": []
     },
     "output_type": "execute_result"
    }
   ],
   "source": [
    "# usando parênteses para especificar a ordem\n",
    "(2 + 10) * (10 + 3)"
   ]
  },
  {
   "cell_type": "markdown",
   "metadata": {
    "id": "gW0UUJZ50k-Z"
   },
   "source": [
    "### Atribuição de variáveis\n",
    "\n",
    "Agora que vimos como usar números em Python como calculadora, vejamos como podemos atribuir nomes e criar variáveis.\n",
    "\n",
    "Usamos um único sinal de igual para atribuir rótulos às variáveis. Vejamos alguns exemplos de como podemos fazer isso."
   ]
  },
  {
   "cell_type": "code",
   "execution_count": null,
   "metadata": {
    "id": "X65y0xfj0k-Z"
   },
   "outputs": [],
   "source": [
    "# criar objeto (variável) de nome \"a\" e atribuir valor 5\n",
    "a = 5"
   ]
  },
  {
   "cell_type": "markdown",
   "metadata": {
    "id": "HbaSCCoK0k-a"
   },
   "source": [
    "Agora, se eu chamar a no meu script Python, o Python tratará isso como o número 5."
   ]
  },
  {
   "cell_type": "code",
   "execution_count": null,
   "metadata": {
    "id": "h6lpSBas0k-a",
    "outputId": "b3401bab-7074-4e6f-e377-b2ccb237972f"
   },
   "outputs": [
    {
     "data": {
      "text/plain": [
       "10"
      ]
     },
     "execution_count": 23,
     "metadata": {
      "tags": []
     },
     "output_type": "execute_result"
    }
   ],
   "source": [
    "# somando objetos\n",
    "a + a"
   ]
  },
  {
   "cell_type": "markdown",
   "metadata": {
    "id": "zXbAPgPc0k-a"
   },
   "source": [
    "O que acontece na redefinição? Python nos deixa escrever sobre os valores anteriores?"
   ]
  },
  {
   "cell_type": "code",
   "execution_count": null,
   "metadata": {
    "id": "x9yQN7AZ0k-a"
   },
   "outputs": [],
   "source": [
    "# redefinição\n",
    "a = 10"
   ]
  },
  {
   "cell_type": "code",
   "execution_count": null,
   "metadata": {
    "id": "wxDgRPL60k-b",
    "outputId": "c63b167c-fbc9-4acf-eb0b-59afa9ebf85d"
   },
   "outputs": [
    {
     "data": {
      "text/plain": [
       "10"
      ]
     },
     "execution_count": 25,
     "metadata": {
      "tags": []
     },
     "output_type": "execute_result"
    }
   ],
   "source": [
    "# verifica redefinição\n",
    "a"
   ]
  },
  {
   "cell_type": "code",
   "execution_count": null,
   "metadata": {
    "id": "lZ5QehjI0k-b"
   },
   "outputs": [],
   "source": [
    "# use \"a\" para redefinir \"a\"\n",
    "a = a + a"
   ]
  },
  {
   "cell_type": "code",
   "execution_count": null,
   "metadata": {
    "id": "3QNg_fHj0k-b",
    "outputId": "9b441e04-28e8-4381-a0e0-c876724f3133"
   },
   "outputs": [
    {
     "data": {
      "text/plain": [
       "20"
      ]
     },
     "execution_count": 28,
     "metadata": {
      "tags": []
     },
     "output_type": "execute_result"
    }
   ],
   "source": [
    "# verifica redefinição\n",
    "a"
   ]
  },
  {
   "cell_type": "markdown",
   "metadata": {
    "id": "UPsMR4QW0k-b"
   },
   "source": [
    "Os nomes que você usa ao criar esses rótulos precisam seguir algumas regras:\n",
    "\n",
    "1. Os nomes não podem começar com número.\n",
    "2. Não pode haver espaço em branco. Use \"underline\" no caso. Por exemplo: preco_custo.\n",
    "3. Não usar simbolos, caracteres especiais.\n",
    "4. É considerada melhor prática (PEP8) nomes em minúsculos.\n",
    "\n",
    "Usar nomes de variáveis pode ser uma maneira muito útil de acompanhar diferentes variáveis em Python. Por exemplo:"
   ]
  },
  {
   "cell_type": "code",
   "execution_count": null,
   "metadata": {
    "id": "_cHDMCMA0k-c"
   },
   "outputs": [],
   "source": [
    "# use nomes de objetos para manter uma melhor relação com o que está\n",
    "# acontecendo no seu código\n",
    "my_income = 100\n",
    "tax_rate = 0.1\n",
    "my_taxes = my_income * tax_rate"
   ]
  },
  {
   "cell_type": "code",
   "execution_count": null,
   "metadata": {
    "id": "gzva59bR0k-c",
    "outputId": "915bfefe-09be-4139-97fa-8da955358bc6"
   },
   "outputs": [
    {
     "data": {
      "text/plain": [
       "10.0"
      ]
     },
     "execution_count": 30,
     "metadata": {
      "tags": []
     },
     "output_type": "execute_result"
    }
   ],
   "source": [
    "# mostra as taxas\n",
    "my_taxes"
   ]
  },
  {
   "cell_type": "markdown",
   "metadata": {
    "id": "bKSaaKWE0k-c"
   },
   "source": [
    "Então, o que aprendemos? Aprendemos alguns dos conceitos básicos dos números em Python. Também aprendemos a fazer aritmética e usar Python como uma calculadora básica. Em seguida, o envolvemos com o aprendizado sobre a atribuição variável em Python.\n",
    "\n",
    "Em seguida, aprenderemos sobre Strings."
   ]
  }
 ],
 "metadata": {
  "colab": {
   "name": "UDEMY - PYTHON 3 COMPLETO.ipynb",
   "provenance": [],
   "toc_visible": true
  },
  "kernelspec": {
   "display_name": "Python 3",
   "language": "python",
   "name": "python3"
  },
  "language_info": {
   "codemirror_mode": {
    "name": "ipython",
    "version": 3
   },
   "file_extension": ".py",
   "mimetype": "text/x-python",
   "name": "python",
   "nbconvert_exporter": "python",
   "pygments_lexer": "ipython3",
   "version": "3.8.5"
  },
  "toc-autonumbering": false,
  "toc-showcode": false,
  "toc-showmarkdowntxt": false,
  "toc-showtags": false
 },
 "nbformat": 4,
 "nbformat_minor": 4
}
