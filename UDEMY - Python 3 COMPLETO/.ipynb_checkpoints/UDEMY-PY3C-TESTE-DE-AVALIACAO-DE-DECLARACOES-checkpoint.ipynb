{
 "cells": [
  {
   "cell_type": "markdown",
   "metadata": {
    "id": "Q7XdrwOy0k-I"
   },
   "source": [
    "# UDEMY - Python 3 COMPLETO\n",
    "---"
   ]
  },
  {
   "cell_type": "markdown",
   "metadata": {
    "id": "6oAnVfWZ0k-S"
   },
   "source": [
    "## Números\n",
    "\n",
    "Nesta aula aprenderemos sobre os números em Python e sobre como usá-los.\n",
    "Aprenderemos sobre os seguintes tópicos:\n",
    "\n",
    "1. Tipos de números em Python\n",
    "2. Aritmética básica\n",
    "3. Atribuição de objeto em Python\n"
   ]
  },
  {
   "cell_type": "markdown",
   "metadata": {
    "id": "L390kxPx0k-T"
   },
   "source": [
    "### Tipos de números\n",
    "\n",
    "Python tem vários \"tipos\" de números (literais numéricos). Nós nos concentraremos principalmente em números inteiros e números de ponto flutuante.\n",
    "\n",
    "Inteiros são apenas números inteiros, positivos ou negativos. Por exemplo: 2 e -2 são exemplos de números inteiros.\n",
    "\n",
    "Os números de pontos flutuantes em Python são notáveis porque eles têm um ponto decimal neles, ou usam uma exponencial (e) para definir o número. Por exemplo, 2.0 e -2.1 são exemplos de números de ponto flutuante.\n",
    "\n",
    "Ao longo deste curso, trabalharemos principalmente com números inteiros ou tipos simples de números de flutuação.\n",
    "\n",
    "Aqui está uma tabela dos dois tipos principais que passaremos a maior parte do tempo trabalhando com alguns exemplos:\n",
    "\n",
    "Exemplo | Tipo\n",
    "-- | --\n",
    "1, 2, -5, 1000 | Inteiros\n",
    "1.2, -0.5 | Ponto flutuante\n",
    "\n",
    "Agora vamos começar com alguma aritmética básica."
   ]
  },
  {
   "cell_type": "markdown",
   "metadata": {
    "id": "fxq6lN-G0k-T"
   },
   "source": [
    "### Aritmética básica"
   ]
  },
  {
   "cell_type": "code",
   "execution_count": null,
   "metadata": {
    "id": "StT0hPOD0k-U",
    "outputId": "a4b887ad-dd23-467a-82db-cedc6f871dd6"
   },
   "outputs": [
    {
     "data": {
      "text/plain": [
       "3"
      ]
     },
     "execution_count": 10,
     "metadata": {
      "tags": []
     },
     "output_type": "execute_result"
    }
   ],
   "source": [
    "# soma\n",
    "2 + 1"
   ]
  },
  {
   "cell_type": "code",
   "execution_count": null,
   "metadata": {
    "id": "stIuhCGL0k-W",
    "outputId": "eac18a64-7224-4f23-f371-2bce21e54fb8"
   },
   "outputs": [
    {
     "data": {
      "text/plain": [
       "1"
      ]
     },
     "execution_count": 12,
     "metadata": {
      "tags": []
     },
     "output_type": "execute_result"
    }
   ],
   "source": [
    "# subtração\n",
    "2 - 1"
   ]
  },
  {
   "cell_type": "code",
   "execution_count": null,
   "metadata": {
    "id": "v8oVdn3J0k-W",
    "outputId": "954e68a3-3387-4ee8-9c09-7fbc7ce3bb0e"
   },
   "outputs": [
    {
     "data": {
      "text/plain": [
       "4"
      ]
     },
     "execution_count": 13,
     "metadata": {
      "tags": []
     },
     "output_type": "execute_result"
    }
   ],
   "source": [
    "# multiplicação\n",
    "2 * 2"
   ]
  },
  {
   "cell_type": "code",
   "execution_count": null,
   "metadata": {
    "id": "pbPYLQQk0k-W",
    "outputId": "3ebfdc33-ae31-42ad-bc13-fbe34da0d97c"
   },
   "outputs": [
    {
     "data": {
      "text/plain": [
       "1.5"
      ]
     },
     "execution_count": 14,
     "metadata": {
      "tags": []
     },
     "output_type": "execute_result"
    }
   ],
   "source": [
    "# divisão\n",
    "3 / 2"
   ]
  },
  {
   "cell_type": "code",
   "execution_count": null,
   "metadata": {
    "id": "tQuvDQQR0k-X",
    "outputId": "e4b04acb-ba0c-4924-d9f2-47831ca8fd72"
   },
   "outputs": [
    {
     "data": {
      "text/plain": [
       "25"
      ]
     },
     "execution_count": 16,
     "metadata": {
      "tags": []
     },
     "output_type": "execute_result"
    }
   ],
   "source": [
    "# potência (elevado ao quadrado)\n",
    "5 ** 2"
   ]
  },
  {
   "cell_type": "code",
   "execution_count": null,
   "metadata": {
    "id": "YixfRd3w0k-X",
    "outputId": "ad059c92-6cdd-43cc-e4e2-7a1a3f50b6cc"
   },
   "outputs": [
    {
     "data": {
      "text/plain": [
       "125"
      ]
     },
     "execution_count": 17,
     "metadata": {
      "tags": []
     },
     "output_type": "execute_result"
    }
   ],
   "source": [
    "# potência (elevado ao cubo)\n",
    "5 ** 3"
   ]
  },
  {
   "cell_type": "code",
   "execution_count": null,
   "metadata": {
    "id": "B1S0Cty90k-Y",
    "outputId": "fc161703-aba9-481b-a681-610c59b02bdd"
   },
   "outputs": [
    {
     "data": {
      "text/plain": [
       "5.0"
      ]
     },
     "execution_count": 18,
     "metadata": {
      "tags": []
     },
     "output_type": "execute_result"
    }
   ],
   "source": [
    "# raiz quadrada\n",
    "25 ** (1/2)"
   ]
  },
  {
   "cell_type": "code",
   "execution_count": null,
   "metadata": {
    "id": "SD-l-NRe0k-Y",
    "outputId": "14b93c9a-4a98-4f8f-b976-723131672df4"
   },
   "outputs": [
    {
     "data": {
      "text/plain": [
       "5.0"
      ]
     },
     "execution_count": 19,
     "metadata": {
      "tags": []
     },
     "output_type": "execute_result"
    }
   ],
   "source": [
    "# raiz quadrada\n",
    "25 ** 0.5"
   ]
  },
  {
   "cell_type": "code",
   "execution_count": null,
   "metadata": {
    "id": "VC4uWb1A0k-Y",
    "outputId": "746c8a24-dede-467f-fd7a-3f7c2981c05e"
   },
   "outputs": [
    {
     "data": {
      "text/plain": [
       "105"
      ]
     },
     "execution_count": 20,
     "metadata": {
      "tags": []
     },
     "output_type": "execute_result"
    }
   ],
   "source": [
    "# ordem das operações segue a regra da matemática\n",
    "2 + 10 * 10 + 3"
   ]
  },
  {
   "cell_type": "code",
   "execution_count": null,
   "metadata": {
    "id": "5RPvRzqc0k-Z",
    "outputId": "841e3003-2fbc-44d6-9491-b3b9ac118647"
   },
   "outputs": [
    {
     "data": {
      "text/plain": [
       "156"
      ]
     },
     "execution_count": 21,
     "metadata": {
      "tags": []
     },
     "output_type": "execute_result"
    }
   ],
   "source": [
    "# usando parênteses para especificar a ordem\n",
    "(2 + 10) * (10 + 3)"
   ]
  },
  {
   "cell_type": "markdown",
   "metadata": {
    "id": "gW0UUJZ50k-Z"
   },
   "source": [
    "### Atribuição de variáveis\n",
    "\n",
    "Agora que vimos como usar números em Python como calculadora, vejamos como podemos atribuir nomes e criar variáveis.\n",
    "\n",
    "Usamos um único sinal de igual para atribuir rótulos às variáveis. Vejamos alguns exemplos de como podemos fazer isso."
   ]
  },
  {
   "cell_type": "code",
   "execution_count": null,
   "metadata": {
    "id": "X65y0xfj0k-Z"
   },
   "outputs": [],
   "source": [
    "# criar objeto (variável) de nome \"a\" e atribuir valor 5\n",
    "a = 5"
   ]
  },
  {
   "cell_type": "markdown",
   "metadata": {
    "id": "HbaSCCoK0k-a"
   },
   "source": [
    "Agora, se eu chamar a no meu script Python, o Python tratará isso como o número 5."
   ]
  },
  {
   "cell_type": "code",
   "execution_count": null,
   "metadata": {
    "id": "h6lpSBas0k-a",
    "outputId": "b3401bab-7074-4e6f-e377-b2ccb237972f"
   },
   "outputs": [
    {
     "data": {
      "text/plain": [
       "10"
      ]
     },
     "execution_count": 23,
     "metadata": {
      "tags": []
     },
     "output_type": "execute_result"
    }
   ],
   "source": [
    "# somando objetos\n",
    "a + a"
   ]
  },
  {
   "cell_type": "markdown",
   "metadata": {
    "id": "zXbAPgPc0k-a"
   },
   "source": [
    "O que acontece na redefinição? Python nos deixa escrever sobre os valores anteriores?"
   ]
  },
  {
   "cell_type": "code",
   "execution_count": null,
   "metadata": {
    "id": "x9yQN7AZ0k-a"
   },
   "outputs": [],
   "source": [
    "# redefinição\n",
    "a = 10"
   ]
  },
  {
   "cell_type": "code",
   "execution_count": null,
   "metadata": {
    "id": "wxDgRPL60k-b",
    "outputId": "c63b167c-fbc9-4acf-eb0b-59afa9ebf85d"
   },
   "outputs": [
    {
     "data": {
      "text/plain": [
       "10"
      ]
     },
     "execution_count": 25,
     "metadata": {
      "tags": []
     },
     "output_type": "execute_result"
    }
   ],
   "source": [
    "# verifica redefinição\n",
    "a"
   ]
  },
  {
   "cell_type": "code",
   "execution_count": null,
   "metadata": {
    "id": "lZ5QehjI0k-b"
   },
   "outputs": [],
   "source": [
    "# use \"a\" para redefinir \"a\"\n",
    "a = a + a"
   ]
  },
  {
   "cell_type": "code",
   "execution_count": null,
   "metadata": {
    "id": "3QNg_fHj0k-b",
    "outputId": "9b441e04-28e8-4381-a0e0-c876724f3133"
   },
   "outputs": [
    {
     "data": {
      "text/plain": [
       "20"
      ]
     },
     "execution_count": 28,
     "metadata": {
      "tags": []
     },
     "output_type": "execute_result"
    }
   ],
   "source": [
    "# verifica redefinição\n",
    "a"
   ]
  },
  {
   "cell_type": "markdown",
   "metadata": {
    "id": "UPsMR4QW0k-b"
   },
   "source": [
    "Os nomes que você usa ao criar esses rótulos precisam seguir algumas regras:\n",
    "\n",
    "1. Os nomes não podem começar com número.\n",
    "2. Não pode haver espaço em branco. Use \"underline\" no caso. Por exemplo: preco_custo.\n",
    "3. Não usar simbolos, caracteres especiais.\n",
    "4. É considerada melhor prática (PEP8) nomes em minúsculos.\n",
    "\n",
    "Usar nomes de variáveis pode ser uma maneira muito útil de acompanhar diferentes variáveis em Python. Por exemplo:"
   ]
  },
  {
   "cell_type": "code",
   "execution_count": null,
   "metadata": {
    "id": "_cHDMCMA0k-c"
   },
   "outputs": [],
   "source": [
    "# use nomes de objetos para manter uma melhor relação com o que está\n",
    "# acontecendo no seu código\n",
    "my_income = 100\n",
    "tax_rate = 0.1\n",
    "my_taxes = my_income * tax_rate"
   ]
  },
  {
   "cell_type": "code",
   "execution_count": null,
   "metadata": {
    "id": "gzva59bR0k-c",
    "outputId": "915bfefe-09be-4139-97fa-8da955358bc6"
   },
   "outputs": [
    {
     "data": {
      "text/plain": [
       "10.0"
      ]
     },
     "execution_count": 30,
     "metadata": {
      "tags": []
     },
     "output_type": "execute_result"
    }
   ],
   "source": [
    "# mostra as taxas\n",
    "my_taxes"
   ]
  },
  {
   "cell_type": "markdown",
   "metadata": {
    "id": "bKSaaKWE0k-c"
   },
   "source": [
    "Então, o que aprendemos? Aprendemos alguns dos conceitos básicos dos números em Python. Também aprendemos a fazer aritmética e usar Python como uma calculadora básica. Em seguida, o envolvemos com o aprendizado sobre a atribuição variável em Python.\n",
    "\n",
    "Em seguida, aprenderemos sobre Strings."
   ]
  },
  {
   "cell_type": "markdown",
   "metadata": {
    "id": "6F1hzhOl0k-c"
   },
   "source": [
    "## Strings\n",
    "\n",
    "As strings são usadas em Python para registrar informações de texto, como nome. As strings em Python são na verdade uma seqüência, o que basicamente significa que o Python acompanha cada elemento como uma seqüência. Por exemplo, Python entende a string \"hello\" como uma seqüência de letras em uma ordem específica. Isso significa que poderemos usar a indexação para pegar letras particulares (como a primeira letra ou a última letra).\n",
    "\n",
    "Essa idéia de uma seqüência é importante em Python e nós vamos abordá-la mais tarde.\n",
    "\n",
    "Nesta palestra, aprenderemos os seguintes tópicos:\n",
    "\n",
    "1. Criando Strings\n",
    "2. Impressão de Strings\n",
    "3. Indexação e corte de Strings\n",
    "4. Propriedades da cadeia de caracteres\n",
    "5. Métodos de String\n",
    "6. Formatação de impressão"
   ]
  },
  {
   "cell_type": "markdown",
   "metadata": {
    "id": "CQdYYdnm0k-d"
   },
   "source": [
    "### Criando uma String\n",
    "\n",
    "Para criar uma string em Python, você precisa usar aspas simples ou aspas duplas. Por exemplo:"
   ]
  },
  {
   "cell_type": "code",
   "execution_count": null,
   "metadata": {
    "id": "g5GRBz4S0k-d",
    "outputId": "af227461-4201-445c-c5eb-5c0aba0e2f2b"
   },
   "outputs": [
    {
     "data": {
      "text/plain": [
       "'hello'"
      ]
     },
     "execution_count": 1,
     "metadata": {
      "tags": []
     },
     "output_type": "execute_result"
    }
   ],
   "source": [
    "# uma palavra\n",
    "'hello'"
   ]
  },
  {
   "cell_type": "code",
   "execution_count": null,
   "metadata": {
    "id": "pCf08hxp0k-d",
    "outputId": "b2665b8c-1e33-41d4-a638-2f04fd12926f"
   },
   "outputs": [
    {
     "data": {
      "text/plain": [
       "'This is also a string'"
      ]
     },
     "execution_count": 2,
     "metadata": {
      "tags": []
     },
     "output_type": "execute_result"
    }
   ],
   "source": [
    "# uma frase inteira\n",
    "'This is also a string'"
   ]
  },
  {
   "cell_type": "code",
   "execution_count": null,
   "metadata": {
    "id": "2Mqz92IX0k-i",
    "outputId": "059cefb1-3caa-441e-8829-a1fcd0b46429"
   },
   "outputs": [
    {
     "data": {
      "text/plain": [
       "'String built with double quotes'"
      ]
     },
     "execution_count": 3,
     "metadata": {
      "tags": []
     },
     "output_type": "execute_result"
    }
   ],
   "source": [
    "# também é possível usar aspas duplas\n",
    "\"String built with double quotes\""
   ]
  },
  {
   "cell_type": "markdown",
   "metadata": {
    "id": "LanJ528K0k-j"
   },
   "source": [
    "### Imprimendo uma String\n",
    "\n",
    "Usando o Jupyter Notebook com apenas uma seqüência de caracteres em uma célula emitirá automaticamente cadeias de caracteres, mas a maneira correta de exibir cadeias na sua saída é usando uma função de impressão."
   ]
  },
  {
   "cell_type": "code",
   "execution_count": null,
   "metadata": {
    "id": "xn8_uSL_0k-j",
    "outputId": "07625aee-7547-4740-ba38-d200dfb2c421"
   },
   "outputs": [
    {
     "data": {
      "text/plain": [
       "'Hello World'"
      ]
     },
     "execution_count": 4,
     "metadata": {
      "tags": []
     },
     "output_type": "execute_result"
    }
   ],
   "source": [
    "# podemos simplesmente declarar uma string\n",
    "'Hello World'"
   ]
  },
  {
   "cell_type": "code",
   "execution_count": null,
   "metadata": {
    "id": "LdLeYnt-0k-j",
    "outputId": "b5a40dd3-2618-49b3-dba4-2c7d8fd9bf33"
   },
   "outputs": [
    {
     "data": {
      "text/plain": [
       "'Hello World 2'"
      ]
     },
     "execution_count": 5,
     "metadata": {
      "tags": []
     },
     "output_type": "execute_result"
    }
   ],
   "source": [
    "# note que podemos imprimir várias stings assim\n",
    "'Hello World 1'\n",
    "'Hello World 2'"
   ]
  },
  {
   "cell_type": "markdown",
   "metadata": {
    "id": "RqLeP2090k-j"
   },
   "source": [
    "Mas a maneira correta (inclusive para outras IDEs) é utilizar o método print()."
   ]
  },
  {
   "cell_type": "code",
   "execution_count": null,
   "metadata": {
    "id": "C2aUHkXA0k-k",
    "outputId": "90e53341-bfdd-4cf7-c80a-286deffd1665"
   },
   "outputs": [
    {
     "name": "stdout",
     "output_type": "stream",
     "text": [
      "Hello World 1\n",
      "Hello World 2\n",
      "one line\n",
      "two line\n",
      "\n",
      "\n",
      "See what I mean?\n"
     ]
    }
   ],
   "source": [
    "print('Hello World 1')\n",
    "print('Hello World 2')\n",
    "print('one line\\ntwo line')\n",
    "print('\\n')\n",
    "print('See what I mean?')"
   ]
  },
  {
   "cell_type": "markdown",
   "metadata": {
    "id": "8514yWeR0k-k"
   },
   "source": [
    "Nós também podemos usar uma função chamada len() para verificar o comprimento de uma string!"
   ]
  },
  {
   "cell_type": "code",
   "execution_count": null,
   "metadata": {
    "id": "nfWv1pUz0k-k",
    "outputId": "23cec0d1-c8bd-4d05-9ec8-b4692906c602"
   },
   "outputs": [
    {
     "data": {
      "text/plain": [
       "11"
      ]
     },
     "execution_count": 7,
     "metadata": {
      "tags": []
     },
     "output_type": "execute_result"
    }
   ],
   "source": [
    "len('hello world')"
   ]
  },
  {
   "cell_type": "markdown",
   "metadata": {
    "id": "plpM8LCY0k-k"
   },
   "source": [
    "### Indexação em Strings\n",
    "\n",
    "Sabemos que as strings são uma seqüência, o que significa que o Python pode usar índices para chamar partes da seqüência. Vamos aprender como isso funciona.\n",
    "\n",
    "Em Python, usamos colchetes após um objeto para chamar seu índice. Devemos também notar que a indexação começa em 0 para Python. Vamos criar um novo objeto chamado \"s\" e a caminharmos através de alguns exemplos de indexação."
   ]
  },
  {
   "cell_type": "code",
   "execution_count": null,
   "metadata": {
    "id": "kNm6j8gx0k-l"
   },
   "outputs": [],
   "source": [
    "# define s como uma string\n",
    "s = \"Hello World\""
   ]
  },
  {
   "cell_type": "code",
   "execution_count": null,
   "metadata": {
    "id": "dIaEEifK0k-l",
    "outputId": "d2729e2d-b029-4efe-e8c8-c987a8c37c9e"
   },
   "outputs": [
    {
     "data": {
      "text/plain": [
       "'Hello World'"
      ]
     },
     "execution_count": 10,
     "metadata": {
      "tags": []
     },
     "output_type": "execute_result"
    }
   ],
   "source": [
    "# verifica\n",
    "s"
   ]
  },
  {
   "cell_type": "code",
   "execution_count": null,
   "metadata": {
    "id": "VC63IH4U0k-l",
    "outputId": "e761c1fa-9845-4174-88b2-2976f311ca0d"
   },
   "outputs": [
    {
     "name": "stdout",
     "output_type": "stream",
     "text": [
      "Hello World\n"
     ]
    }
   ],
   "source": [
    "# printa o objeto\n",
    "print(s)"
   ]
  },
  {
   "cell_type": "markdown",
   "metadata": {
    "id": "iYcF5kHQ0k-l"
   },
   "source": [
    "Vamos começar a indexar!"
   ]
  },
  {
   "cell_type": "code",
   "execution_count": null,
   "metadata": {
    "id": "koPUbEvo0k-l",
    "outputId": "849761b4-d350-4647-efbd-3bad36649221"
   },
   "outputs": [
    {
     "data": {
      "text/plain": [
       "'H'"
      ]
     },
     "execution_count": 12,
     "metadata": {
      "tags": []
     },
     "output_type": "execute_result"
    }
   ],
   "source": [
    "# mostra o primeiro elemento (neste caso, uma letra)\n",
    "s[0]"
   ]
  },
  {
   "cell_type": "code",
   "execution_count": null,
   "metadata": {
    "id": "w9lRqXDn0k-m",
    "outputId": "38354265-b0e6-48ac-d165-9fefda53ad8a"
   },
   "outputs": [
    {
     "data": {
      "text/plain": [
       "'e'"
      ]
     },
     "execution_count": 13,
     "metadata": {
      "tags": []
     },
     "output_type": "execute_result"
    }
   ],
   "source": [
    "s[1]"
   ]
  },
  {
   "cell_type": "code",
   "execution_count": null,
   "metadata": {
    "id": "KDLvIv4g0k-m",
    "outputId": "872ef171-58f7-41e7-aa68-b7739eb3b421"
   },
   "outputs": [
    {
     "data": {
      "text/plain": [
       "'l'"
      ]
     },
     "execution_count": 14,
     "metadata": {
      "tags": []
     },
     "output_type": "execute_result"
    }
   ],
   "source": [
    "s[2]"
   ]
  },
  {
   "cell_type": "markdown",
   "metadata": {
    "id": "Mz36A-a40k-m"
   },
   "source": [
    "Podemos usar um : para executar corte que pega tudo até um ponto designado. Por exemplo:"
   ]
  },
  {
   "cell_type": "code",
   "execution_count": null,
   "metadata": {
    "id": "tWIfqhTF0k-m",
    "outputId": "002fd7fe-2e79-49ec-8523-5024b67bee9f"
   },
   "outputs": [
    {
     "data": {
      "text/plain": [
       "'ello World'"
      ]
     },
     "execution_count": 15,
     "metadata": {
      "tags": []
     },
     "output_type": "execute_result"
    }
   ],
   "source": [
    "# retorna todos elementos a partir do elemento de indice 1\n",
    "s[1:]"
   ]
  },
  {
   "cell_type": "code",
   "execution_count": null,
   "metadata": {
    "id": "26kikGnC0k-n",
    "outputId": "01ba2823-8c64-4623-a963-0bf5d72e7773"
   },
   "outputs": [
    {
     "data": {
      "text/plain": [
       "'Hello World'"
      ]
     },
     "execution_count": 16,
     "metadata": {
      "tags": []
     },
     "output_type": "execute_result"
    }
   ],
   "source": [
    "# observe que não há mudanças no elemento s\n",
    "s"
   ]
  },
  {
   "cell_type": "code",
   "execution_count": null,
   "metadata": {
    "id": "pA_JMqcA0k-n",
    "outputId": "64160eb6-46d5-4eb3-8728-fd488aff6e80"
   },
   "outputs": [
    {
     "data": {
      "text/plain": [
       "'Hel'"
      ]
     },
     "execution_count": 17,
     "metadata": {
      "tags": []
     },
     "output_type": "execute_result"
    }
   ],
   "source": [
    "# retorna tudo até o elemento de índice 3\n",
    "s[:3]"
   ]
  },
  {
   "cell_type": "markdown",
   "metadata": {
    "id": "Vva2LWAp0k-n"
   },
   "source": [
    "Observe o corte acima. Aqui, estamos dizendo ao Python que pegue tudo de 0 a 3. Não inclui o 3º índice. Você notará muito isso em Python, onde as declarações e geralmente são no contexto \"até, mas não incluindo\"."
   ]
  },
  {
   "cell_type": "code",
   "execution_count": null,
   "metadata": {
    "id": "-uuvqg9h0k-n",
    "outputId": "c11b0c0a-f8a9-48aa-dfb8-5af560d15245"
   },
   "outputs": [
    {
     "data": {
      "text/plain": [
       "'Hello World'"
      ]
     },
     "execution_count": 18,
     "metadata": {
      "tags": []
     },
     "output_type": "execute_result"
    }
   ],
   "source": [
    "# tudo\n",
    "s[:]"
   ]
  },
  {
   "cell_type": "markdown",
   "metadata": {
    "id": "8W3oe8F50k-n"
   },
   "source": [
    "Também podemos usar indexação negativa para retroceder."
   ]
  },
  {
   "cell_type": "code",
   "execution_count": null,
   "metadata": {
    "id": "GBdubzaf0k-o",
    "outputId": "94b1e00c-87e1-45fa-e2ad-3bf66f8e1e2e"
   },
   "outputs": [
    {
     "data": {
      "text/plain": [
       "'d'"
      ]
     },
     "execution_count": 19,
     "metadata": {
      "tags": []
     },
     "output_type": "execute_result"
    }
   ],
   "source": [
    "# ultima letra (um índice antes do 0, então ele começa da parte de trás)\n",
    "s[-1]"
   ]
  },
  {
   "cell_type": "code",
   "execution_count": null,
   "metadata": {
    "id": "RXxTsoB60k-o",
    "outputId": "475fa737-7c4a-4d88-ba0b-8710a6b5798b"
   },
   "outputs": [
    {
     "data": {
      "text/plain": [
       "'Hello Worl'"
      ]
     },
     "execution_count": 20,
     "metadata": {
      "tags": []
     },
     "output_type": "execute_result"
    }
   ],
   "source": [
    "# pega tudo, menos a última letra\n",
    "s[:-1]"
   ]
  },
  {
   "cell_type": "markdown",
   "metadata": {
    "id": "TepGJleN0k-o"
   },
   "source": [
    "Também podemos usar notação de índice e fatia para capturar elementos de uma seqüência com espaçamentos (o espaçamento padrão é 1). Por exemplo, podemos usar dois dois pontos em uma linha e, em seguida, um número que especifica a freqüência para capturar elementos. Por exemplo:"
   ]
  },
  {
   "cell_type": "code",
   "execution_count": null,
   "metadata": {
    "id": "vs_gVuFc0k-o",
    "outputId": "03f54752-b4f9-42f8-d088-c119a9b36ee4"
   },
   "outputs": [
    {
     "data": {
      "text/plain": [
       "'Hello World'"
      ]
     },
     "execution_count": 22,
     "metadata": {
      "tags": []
     },
     "output_type": "execute_result"
    }
   ],
   "source": [
    "# pega tudo, de 1 em 1\n",
    "s[::1]"
   ]
  },
  {
   "cell_type": "code",
   "execution_count": null,
   "metadata": {
    "id": "4rCG_QMw0k-p",
    "outputId": "27e730bd-5578-4fb7-a82f-259f9587f7cf"
   },
   "outputs": [
    {
     "data": {
      "text/plain": [
       "'HloWrd'"
      ]
     },
     "execution_count": 23,
     "metadata": {
      "tags": []
     },
     "output_type": "execute_result"
    }
   ],
   "source": [
    "# pega tudo, mas os espaçamentos são de 2 em 2\n",
    "s[::2]"
   ]
  },
  {
   "cell_type": "code",
   "execution_count": null,
   "metadata": {
    "id": "NQgwdjtf0k-p",
    "outputId": "c5726997-9be7-44d2-b276-3b094a792e9c"
   },
   "outputs": [
    {
     "data": {
      "text/plain": [
       "'dlroW olleH'"
      ]
     },
     "execution_count": 24,
     "metadata": {
      "tags": []
     },
     "output_type": "execute_result"
    }
   ],
   "source": [
    "# pega tudo, mas com passos negativos, de trás para frente.\n",
    "s[::-1]"
   ]
  },
  {
   "cell_type": "markdown",
   "metadata": {
    "id": "5SZPyaMH0k-p"
   },
   "source": [
    "### Propriedades das Strings\n",
    "\n",
    "É importante notar que as strings têm uma propriedade importante conhecida como imutabilidade. Isso significa que, uma vez que uma string é criada, os elementos nele não podem ser alterados ou substituídos. Por exemplo:"
   ]
  },
  {
   "cell_type": "code",
   "execution_count": null,
   "metadata": {
    "id": "Mk03hTfB0k-p",
    "outputId": "d59c64e1-d6db-48de-dd20-eb467e36563d"
   },
   "outputs": [
    {
     "data": {
      "text/plain": [
       "'Hello World'"
      ]
     },
     "execution_count": 2,
     "metadata": {
      "tags": []
     },
     "output_type": "execute_result"
    }
   ],
   "source": [
    "s"
   ]
  },
  {
   "cell_type": "code",
   "execution_count": null,
   "metadata": {
    "id": "p8ZSV8jp0k-q",
    "outputId": "8761f631-85f6-4a50-9f12-12d9a2087fff"
   },
   "outputs": [
    {
     "ename": "TypeError",
     "evalue": "'str' object does not support item assignment",
     "output_type": "error",
     "traceback": [
      "\u001b[0;31m---------------------------------------------------------------------------\u001b[0m",
      "\u001b[0;31mTypeError\u001b[0m                                 Traceback (most recent call last)",
      "\u001b[0;32m<ipython-input-3-af521e3dd0e0>\u001b[0m in \u001b[0;36m<module>\u001b[0;34m\u001b[0m\n\u001b[1;32m      1\u001b[0m \u001b[0;31m# Vamos tentar mudar a primeira letra para 'x'\u001b[0m\u001b[0;34m\u001b[0m\u001b[0;34m\u001b[0m\u001b[0;34m\u001b[0m\u001b[0m\n\u001b[0;32m----> 2\u001b[0;31m \u001b[0ms\u001b[0m\u001b[0;34m[\u001b[0m\u001b[0;36m0\u001b[0m\u001b[0;34m]\u001b[0m \u001b[0;34m=\u001b[0m \u001b[0;34m'X'\u001b[0m\u001b[0;34m\u001b[0m\u001b[0;34m\u001b[0m\u001b[0m\n\u001b[0m",
      "\u001b[0;31mTypeError\u001b[0m: 'str' object does not support item assignment"
     ]
    }
   ],
   "source": [
    "# Vamos tentar mudar a primeira letra para 'x'\n",
    "s[0] = 'X'"
   ]
  },
  {
   "cell_type": "markdown",
   "metadata": {
    "id": "-2zSbMzk0k-q"
   },
   "source": [
    "Observe como o erro nos diz diretamente o que não podemos fazer, alterar a atribuição do item!\n",
    "Algo que podemos fazer é concatenar strings!"
   ]
  },
  {
   "cell_type": "code",
   "execution_count": null,
   "metadata": {
    "id": "Ul4-RlEs0k-q",
    "outputId": "003732fc-4a80-42c6-c3bd-5eb7f32b5682"
   },
   "outputs": [
    {
     "data": {
      "text/plain": [
       "'Hello World'"
      ]
     },
     "execution_count": 4,
     "metadata": {
      "tags": []
     },
     "output_type": "execute_result"
    }
   ],
   "source": [
    "s"
   ]
  },
  {
   "cell_type": "code",
   "execution_count": null,
   "metadata": {
    "id": "HQTLb2__0k-q",
    "outputId": "195476f5-d322-4a86-882f-4432d83dd1a5"
   },
   "outputs": [
    {
     "data": {
      "text/plain": [
       "'Hello World concatena me!'"
      ]
     },
     "execution_count": 6,
     "metadata": {
      "tags": []
     },
     "output_type": "execute_result"
    }
   ],
   "source": [
    "# concatenar as strings\n",
    "s + \" concatena me!\""
   ]
  },
  {
   "cell_type": "code",
   "execution_count": null,
   "metadata": {
    "id": "Cl0hIudO0k-q"
   },
   "outputs": [],
   "source": [
    "# assim podemos redefinir completamente s\n",
    "s = s + \" concatena me!\""
   ]
  },
  {
   "cell_type": "code",
   "execution_count": null,
   "metadata": {
    "id": "TI3EIY-Y0k-r",
    "outputId": "e8168efe-9ec9-4fe6-f036-3267f8ae76f1"
   },
   "outputs": [
    {
     "name": "stdout",
     "output_type": "stream",
     "text": [
      "Hello World concatena me!\n"
     ]
    }
   ],
   "source": [
    "print(s)"
   ]
  },
  {
   "cell_type": "code",
   "execution_count": null,
   "metadata": {
    "id": "hZpHLfjf0k-r",
    "outputId": "28a8c14a-abea-44b4-a60a-4d7526fe9a05"
   },
   "outputs": [
    {
     "data": {
      "text/plain": [
       "'Hello World concatena me!'"
      ]
     },
     "execution_count": 9,
     "metadata": {
      "tags": []
     },
     "output_type": "execute_result"
    }
   ],
   "source": [
    "s"
   ]
  },
  {
   "cell_type": "markdown",
   "metadata": {
    "id": "IWAxr9TS0k-r"
   },
   "source": [
    "Podemos usar o símbolo de multiplicação para criar repetições!"
   ]
  },
  {
   "cell_type": "code",
   "execution_count": null,
   "metadata": {
    "id": "qPTXx_Hq0k-r"
   },
   "outputs": [],
   "source": [
    "letter = 'z'"
   ]
  },
  {
   "cell_type": "code",
   "execution_count": null,
   "metadata": {
    "id": "A1ROlirO0k-s",
    "outputId": "02e4eb14-dcc9-4548-de84-150a051cb2c0"
   },
   "outputs": [
    {
     "data": {
      "text/plain": [
       "'zzzzzzzzzz'"
      ]
     },
     "execution_count": 11,
     "metadata": {
      "tags": []
     },
     "output_type": "execute_result"
    }
   ],
   "source": [
    "letter * 10"
   ]
  },
  {
   "cell_type": "markdown",
   "metadata": {
    "id": "7kZEGjhN0k-s"
   },
   "source": [
    "### Métodos embutidos em strings\n",
    "\n",
    "Os objetos em Python geralmente possuem métodos internos. Esses métodos são funções dentro do objeto (aprenderemos sobre isso em muito mais profundidade depois) que podem executar ações ou comandos no próprio objeto.\n",
    "\n",
    "Chamamos métodos com um ponto e depois o nome do método. Os métodos estão na forma: objeto.método(parâmetros)\n",
    "\n",
    "Onde os parâmetros são argumentos extras que podemos passar para o método. Não se preocupe se os detalhes não fazem 100% de sentido agora. Mais tarde, criaremos nossos próprios objetos e funções!\n",
    "\n",
    "Aqui estão alguns exemplos de métodos internos em strings:"
   ]
  },
  {
   "cell_type": "code",
   "execution_count": null,
   "metadata": {
    "id": "qfPhAqju0k-s",
    "outputId": "b9be6970-56ea-423a-95b3-2636c1b876c2"
   },
   "outputs": [
    {
     "data": {
      "text/plain": [
       "'Hello World concatena me!'"
      ]
     },
     "execution_count": 12,
     "metadata": {
      "tags": []
     },
     "output_type": "execute_result"
    }
   ],
   "source": [
    "s"
   ]
  },
  {
   "cell_type": "code",
   "execution_count": null,
   "metadata": {
    "id": "ozo8Altf0k-s",
    "outputId": "055dcd67-c87d-4f0a-dfd2-69b2f23ce14e"
   },
   "outputs": [
    {
     "data": {
      "text/plain": [
       "'HELLO WORLD CONCATENA ME!'"
      ]
     },
     "execution_count": 13,
     "metadata": {
      "tags": []
     },
     "output_type": "execute_result"
    }
   ],
   "source": [
    "# coloca toda string em caixa alta\n",
    "s.upper()"
   ]
  },
  {
   "cell_type": "code",
   "execution_count": null,
   "metadata": {
    "id": "SMjZQaY30k-s",
    "outputId": "aeda4705-4202-4004-d32a-d6cb70baadd7"
   },
   "outputs": [
    {
     "data": {
      "text/plain": [
       "'hello world concatena me!'"
      ]
     },
     "execution_count": 14,
     "metadata": {
      "tags": []
     },
     "output_type": "execute_result"
    }
   ],
   "source": [
    "# caixa baixa\n",
    "s.lower()"
   ]
  },
  {
   "cell_type": "code",
   "execution_count": null,
   "metadata": {
    "id": "PYDn4k1K0k-t",
    "outputId": "f6946e85-c903-4547-c9d8-f953c9b3952a"
   },
   "outputs": [
    {
     "data": {
      "text/plain": [
       "['Hello', 'World', 'concatena', 'me!']"
      ]
     },
     "execution_count": 15,
     "metadata": {
      "tags": []
     },
     "output_type": "execute_result"
    }
   ],
   "source": [
    "# divide uma string nos espaços em branco (este é o padrão)\n",
    "s.split()"
   ]
  },
  {
   "cell_type": "code",
   "execution_count": null,
   "metadata": {
    "id": "uS2j2FW_0k-t",
    "outputId": "6bef21bf-56d5-4d54-92a0-5e07589344a5"
   },
   "outputs": [
    {
     "data": {
      "text/plain": [
       "['Hello ', 'orld concatena me!']"
      ]
     },
     "execution_count": 17,
     "metadata": {
      "tags": []
     },
     "output_type": "execute_result"
    }
   ],
   "source": [
    "# divide em um elemento específico (não inclui o elemento que foi dividido)\n",
    "s.split('W')"
   ]
  },
  {
   "cell_type": "markdown",
   "metadata": {
    "id": "M6dLhd7p0k-t"
   },
   "source": [
    "Existem outros métodos do que os abrangidos aqui. Visite a seção de String avançada para descobrir mais!"
   ]
  },
  {
   "cell_type": "markdown",
   "metadata": {
    "id": "p2hTij1x0k-t"
   },
   "source": [
    "### Formatação de Impressão\n",
    "\n",
    "Podemos usar o método .format() para adicionar objetos formatados a instruções de impressões.\n",
    "\n",
    "A maneira mais fácil de mostrar isso é através de um exemplo:"
   ]
  },
  {
   "cell_type": "code",
   "execution_count": null,
   "metadata": {
    "id": "XSh_9lDr0k-u",
    "outputId": "3b709225-ca54-421e-f25b-9097bbfdb0c1"
   },
   "outputs": [
    {
     "data": {
      "text/plain": [
       "'Insert another string with curly brackets: The Iinserted string'"
      ]
     },
     "execution_count": 18,
     "metadata": {
      "tags": []
     },
     "output_type": "execute_result"
    }
   ],
   "source": [
    "\"Insert another string with curly brackets: {}\".format(\"The Iinserted string\")"
   ]
  },
  {
   "cell_type": "markdown",
   "metadata": {
    "id": "uPDcYCXj0k-u"
   },
   "source": [
    "## Formatação de Impressão\n",
    "\n",
    "Nesta aula, abordaremos brevemente as várias maneiras de formatar suas declarações impressas. À medida que você codifica mais e mais, você provavelmente deseja ter declarações de impressão que possam incluir uma variável em uma declaração de string impressa.\n",
    "\n",
    "O exemplo mais básico de uma declaração de impressão é:"
   ]
  },
  {
   "cell_type": "code",
   "execution_count": 1,
   "metadata": {
    "colab": {
     "base_uri": "https://localhost:8080/"
    },
    "id": "0xAlhEuU98t0",
    "outputId": "656c4d7b-1c7d-4acf-8158-781a117ffb6b"
   },
   "outputs": [
    {
     "name": "stdout",
     "output_type": "stream",
     "text": [
      "This is a string\n"
     ]
    }
   ],
   "source": [
    "print(\"This is a string\")"
   ]
  },
  {
   "cell_type": "markdown",
   "metadata": {
    "id": "O_ib4hzP-WLl"
   },
   "source": [
    "### Strings\r\n",
    "Você pode usar o %s para formatar strings em suas funções de impressão."
   ]
  },
  {
   "cell_type": "code",
   "execution_count": 2,
   "metadata": {
    "colab": {
     "base_uri": "https://localhost:8080/"
    },
    "id": "2xYd0Y0--0yl",
    "outputId": "ff4ea6e7-fbd5-4dbd-f7d7-d1560a435782"
   },
   "outputs": [
    {
     "name": "stdout",
     "output_type": "stream",
     "text": [
      "Place another string with a mod and s: STRING\n"
     ]
    }
   ],
   "source": [
    "frase = \"STRING\"\r\n",
    "print(\"Place another string with a mod and s: %s\" %(frase))"
   ]
  },
  {
   "cell_type": "markdown",
   "metadata": {
    "id": "A_XbBv0y_nF2"
   },
   "source": [
    "### Números de ponto flutuante\r\n",
    "Os números de ponto flutuante usam o formato %n1.n2f onde o n1 é o número mínimo total de dígitos que a cadeia deve conter (estes podem ser preenchidos com espaço em branco se o número inteiro não tiver esses muitos dígitos. O espaço reservado n2 significa quantos números para mostrar após o ponto decimal. Vamos ver alguns exemplos:"
   ]
  },
  {
   "cell_type": "code",
   "execution_count": 3,
   "metadata": {
    "colab": {
     "base_uri": "https://localhost:8080/"
    },
    "id": "OId4_HIw_31V",
    "outputId": "95939e2a-a05f-46c5-bad4-a4736b811587"
   },
   "outputs": [
    {
     "name": "stdout",
     "output_type": "stream",
     "text": [
      "Floating point number: 13.14\n"
     ]
    }
   ],
   "source": [
    "print(\"Floating point number: %1.2f\" %(13.144))"
   ]
  },
  {
   "cell_type": "code",
   "execution_count": 4,
   "metadata": {
    "colab": {
     "base_uri": "https://localhost:8080/"
    },
    "id": "x95UDXe_CF3s",
    "outputId": "91532893-f5fb-4900-b996-8ee61885afd2"
   },
   "outputs": [
    {
     "name": "stdout",
     "output_type": "stream",
     "text": [
      "Floating point number: 13\n"
     ]
    }
   ],
   "source": [
    "print(\"Floating point number: %1.0f\" %(13.144))"
   ]
  },
  {
   "cell_type": "code",
   "execution_count": 5,
   "metadata": {
    "colab": {
     "base_uri": "https://localhost:8080/"
    },
    "id": "s29NNgZGCXtb",
    "outputId": "6abc61e2-e65c-4c1c-d526-9991c1dc8415"
   },
   "outputs": [
    {
     "name": "stdout",
     "output_type": "stream",
     "text": [
      "Floating point number: 13.14400\n"
     ]
    }
   ],
   "source": [
    "print(\"Floating point number: %1.5f\" %(13.144))"
   ]
  },
  {
   "cell_type": "code",
   "execution_count": 6,
   "metadata": {
    "colab": {
     "base_uri": "https://localhost:8080/"
    },
    "id": "RXrz_SfGCes2",
    "outputId": "dd3e8e79-698b-42a6-d17a-909df9c3ea86"
   },
   "outputs": [
    {
     "name": "stdout",
     "output_type": "stream",
     "text": [
      "Floating point number:      13.14\n"
     ]
    }
   ],
   "source": [
    "print(\"Floating point number: %10.2f\" %(13.144))"
   ]
  },
  {
   "cell_type": "code",
   "execution_count": 8,
   "metadata": {
    "colab": {
     "base_uri": "https://localhost:8080/"
    },
    "id": "qwz0CTHQClaw",
    "outputId": "7198f693-7008-44d7-9cc4-995b99d2b0a5"
   },
   "outputs": [
    {
     "name": "stdout",
     "output_type": "stream",
     "text": [
      "Floating point number:                     13.14\n"
     ]
    }
   ],
   "source": [
    "print(\"Floating point number: %25.2f\" %(13.144))"
   ]
  },
  {
   "cell_type": "markdown",
   "metadata": {
    "id": "Ijj9HbibCwX2"
   },
   "source": [
    "### Métodos de formato de conversão.\r\n",
    "Deve notar-se que dois métodos %s e %r realmente convertem qualquer objeto python em uma string usando dois métodos separados: str() e repr(). Aprenderemos mais sobre essas funções mais tarde no curso, mas você deve notar que você pode realmente passar quase qualquer objeto Python com esses dois métodos e funcionará:"
   ]
  },
  {
   "cell_type": "code",
   "execution_count": 12,
   "metadata": {
    "colab": {
     "base_uri": "https://localhost:8080/"
    },
    "id": "_OGnLjL8CqQr",
    "outputId": "cfe5be4e-cf63-4a54-c713-565a452ede78"
   },
   "outputs": [
    {
     "name": "stdout",
     "output_type": "stream",
     "text": [
      "Here is a number: 123.1. Here is a string: hi\n"
     ]
    }
   ],
   "source": [
    "print(\"Here is a number: %s. Here is a string: %s\" %(123.1, \"hi\"))"
   ]
  },
  {
   "cell_type": "code",
   "execution_count": 13,
   "metadata": {
    "colab": {
     "base_uri": "https://localhost:8080/"
    },
    "id": "Ak0SkFGaGZ4g",
    "outputId": "e2b472b0-33e3-4bb3-c0b7-f648cd59510e"
   },
   "outputs": [
    {
     "name": "stdout",
     "output_type": "stream",
     "text": [
      "Here is a number: 123.1. Here is a string: 'hi'\n"
     ]
    }
   ],
   "source": [
    "print(\"Here is a number: %r. Here is a string: %r\" %(123.1, \"hi\"))"
   ]
  },
  {
   "cell_type": "markdown",
   "metadata": {
    "id": "CRCe0opLHgiF"
   },
   "source": [
    "### Formatação múltipla\r\n",
    "Passe uma tupla para junto com o símbolo do módulo para colocar vários formatos nas suas declarações de impressão:"
   ]
  },
  {
   "cell_type": "code",
   "execution_count": 14,
   "metadata": {
    "colab": {
     "base_uri": "https://localhost:8080/"
    },
    "id": "wn2xey4rHEzf",
    "outputId": "8d7e3530-9150-4d9a-a572-670c539fc6eb"
   },
   "outputs": [
    {
     "name": "stdout",
     "output_type": "stream",
     "text": [
      "First: Hi!, Second: 3.14, Third: 22\n"
     ]
    }
   ],
   "source": [
    "print(\"First: %s, Second: %1.2f, Third: %r\" %(\"Hi!\", 3.14, 22))"
   ]
  },
  {
   "cell_type": "markdown",
   "metadata": {
    "id": "ZlyqhdBETKBj"
   },
   "source": [
    "### Usando o método string.format ()\r\n",
    "A melhor maneira de formatar objetos em suas strings para instruções de impressão é usar o método format(). A sintaxe é:\r\n",
    "\r\n",
    "> 'String aqui {var1} e também {var2}'.format(var1 = 'something1', var2 = 'something2')\r\n",
    "\r\n",
    "Vamos ver alguns exemplos:"
   ]
  },
  {
   "cell_type": "code",
   "execution_count": 15,
   "metadata": {
    "colab": {
     "base_uri": "https://localhost:8080/"
    },
    "id": "NSFMPp8iIM4u",
    "outputId": "ab380215-d771-43e6-b84c-cf470f9d5b58"
   },
   "outputs": [
    {
     "name": "stdout",
     "output_type": "stream",
     "text": [
      "This is a string with a insert\n"
     ]
    }
   ],
   "source": [
    "print(\"This is a string with a {p}\".format(p=\"insert\"))"
   ]
  },
  {
   "cell_type": "code",
   "execution_count": 16,
   "metadata": {
    "colab": {
     "base_uri": "https://localhost:8080/"
    },
    "id": "OWtIs5xDT560",
    "outputId": "0e74f32b-cdcd-4d6f-e183-fb90e434cfca"
   },
   "outputs": [
    {
     "name": "stdout",
     "output_type": "stream",
     "text": [
      "One: hi!, Two: hi!, Three: hi!\n"
     ]
    }
   ],
   "source": [
    "print(\"One: {p}, Two: {p}, Three: {p}\".format(p=\"hi!\"))"
   ]
  },
  {
   "cell_type": "code",
   "execution_count": 17,
   "metadata": {
    "colab": {
     "base_uri": "https://localhost:8080/"
    },
    "id": "GfivQPrHUZRK",
    "outputId": "8e920572-fd9d-4e12-d9c1-6948d45f0323"
   },
   "outputs": [
    {
     "name": "stdout",
     "output_type": "stream",
     "text": [
      "Object 1: 1, Object 2: two, Object 3: 12.3\n"
     ]
    }
   ],
   "source": [
    "print(\"Object 1: {a}, Object 2: {b}, Object 3: {c}\".format(a=1, b=\"two\", c=12.3))"
   ]
  },
  {
   "cell_type": "markdown",
   "metadata": {
    "id": "34-X9oPnVUbX"
   },
   "source": [
    "Esse é o básico da formatação de seqüência de caracteres!"
   ]
  },
  {
   "cell_type": "markdown",
   "metadata": {
    "id": "-U8VyXCWhULJ"
   },
   "source": [
    "**Dica sobre formatação de impressão:**\r\n",
    "\r\n",
    "> Segue um excelente site com dicas adicionais sobre formatação de impressão:\r\n",
    "https://pyformat.info/"
   ]
  },
  {
   "cell_type": "markdown",
   "metadata": {
    "id": "vvmAYfi3jSS8"
   },
   "source": [
    "## Listas\r\n",
    "\r\n",
    "Anteriormente, ao discutir strings, introduzimos o conceito de sequência em Python. As listas podem ser pensadas na versão mais geral de uma sequência em Python. Ao contrário das strings, eles são mutáveis, o que significa que os elementos dentro de uma lista podem ser alterados!\r\n",
    "\r\n",
    "Nesta seção, aprenderemos sobre:\r\n",
    "\r\n",
    "1. Criação de listas\r\n",
    "2. Índice e corte de listas\r\n",
    "3. Métodos básicos da lista\r\n",
    "4. Listas aninhadas\r\n",
    "5. Introdução ao método de Compreensão em listas\r\n",
    "\r\n",
    "As listas são construídas com colchetes [] e vírgulas que separam cada elemento da lista.\r\n",
    "\r\n",
    "Avançemos e vejamos como podemos construir listas!"
   ]
  },
  {
   "cell_type": "code",
   "execution_count": 22,
   "metadata": {
    "colab": {
     "base_uri": "https://localhost:8080/"
    },
    "id": "-MqLErDJkDYt",
    "outputId": "679235a4-b6a3-4fd3-adaf-4eeda334849b"
   },
   "outputs": [
    {
     "name": "stdout",
     "output_type": "stream",
     "text": [
      "[1, 2, 3]\n"
     ]
    }
   ],
   "source": [
    "# atribui uma lista a uma variável chamada my_list\r\n",
    "my_list = [1, 2, 3]\r\n",
    "print(my_list)"
   ]
  },
  {
   "cell_type": "markdown",
   "metadata": {
    "id": "oY5B3DQikmle"
   },
   "source": [
    "Acabamos de criar uma lista de números inteiros, mas as listas podem realmente armazenar diferentes tipos de objeto. Por exemplo:"
   ]
  },
  {
   "cell_type": "code",
   "execution_count": 24,
   "metadata": {
    "colab": {
     "base_uri": "https://localhost:8080/"
    },
    "id": "vF-V8GpWkg5b",
    "outputId": "8babe778-69e2-49ab-87f2-6c04718805ca"
   },
   "outputs": [
    {
     "name": "stdout",
     "output_type": "stream",
     "text": [
      "['A string', 23, 100.232, 'o']\n"
     ]
    }
   ],
   "source": [
    "my_list = [\"A string\", 23, 100.232, 'o']\r\n",
    "print(my_list)"
   ]
  },
  {
   "cell_type": "markdown",
   "metadata": {
    "id": "86xDiq_ylIIK"
   },
   "source": [
    "Assim como as strings, a função len() irá dizer-lhe quantos itens estão na sequência da lista."
   ]
  },
  {
   "cell_type": "code",
   "execution_count": 25,
   "metadata": {
    "colab": {
     "base_uri": "https://localhost:8080/"
    },
    "id": "2hwSWbwalJ66",
    "outputId": "7d211438-0c3f-49f4-c044-4d6395d31ab8"
   },
   "outputs": [
    {
     "data": {
      "text/plain": [
       "4"
      ]
     },
     "execution_count": 25,
     "metadata": {
      "tags": []
     },
     "output_type": "execute_result"
    }
   ],
   "source": [
    "len(my_list)"
   ]
  },
  {
   "cell_type": "markdown",
   "metadata": {
    "id": "uo5yAqjjlTdh"
   },
   "source": [
    "### Indexação e corte\r\n",
    "\r\n",
    "Indexar e cortar funciona exatamente como em strings. Vamos fazer uma nova lista para nos lembrar de como isso funciona:"
   ]
  },
  {
   "cell_type": "code",
   "execution_count": 26,
   "metadata": {
    "id": "O74QEteolMWo"
   },
   "outputs": [],
   "source": [
    "my_list = [\"one\", \"two\", \"three\", 4, 5]"
   ]
  },
  {
   "cell_type": "code",
   "execution_count": 27,
   "metadata": {
    "colab": {
     "base_uri": "https://localhost:8080/",
     "height": 35
    },
    "id": "97LXBqiysElW",
    "outputId": "47f89c2a-f86b-4abe-ef8b-10c1f51e4adc"
   },
   "outputs": [
    {
     "data": {
      "application/vnd.google.colaboratory.intrinsic+json": {
       "type": "string"
      },
      "text/plain": [
       "'one'"
      ]
     },
     "execution_count": 27,
     "metadata": {
      "tags": []
     },
     "output_type": "execute_result"
    }
   ],
   "source": [
    "# pega o elemento de índice 0\r\n",
    "my_list[0]"
   ]
  },
  {
   "cell_type": "code",
   "execution_count": 28,
   "metadata": {
    "colab": {
     "base_uri": "https://localhost:8080/"
    },
    "id": "G3Tvq9oUsQAy",
    "outputId": "487a9502-93e8-428b-a70b-670574e72814"
   },
   "outputs": [
    {
     "data": {
      "text/plain": [
       "['two', 'three', 4, 5]"
      ]
     },
     "execution_count": 28,
     "metadata": {
      "tags": []
     },
     "output_type": "execute_result"
    }
   ],
   "source": [
    "# pega o índice 1 e tudo depois\r\n",
    "my_list[1:]"
   ]
  },
  {
   "cell_type": "code",
   "execution_count": 29,
   "metadata": {
    "colab": {
     "base_uri": "https://localhost:8080/"
    },
    "id": "FGVmit_qsbKE",
    "outputId": "abf0629b-2632-4416-a0ee-7826babb758e"
   },
   "outputs": [
    {
     "data": {
      "text/plain": [
       "['one', 'two', 'three']"
      ]
     },
     "execution_count": 29,
     "metadata": {
      "tags": []
     },
     "output_type": "execute_result"
    }
   ],
   "source": [
    "# pega tudo até o elemento de índice 3\r\n",
    "my_list[:3]"
   ]
  },
  {
   "cell_type": "markdown",
   "metadata": {
    "id": "8YYDUYis2yNT"
   },
   "source": [
    "Nós também podemos usar + para concatenar listas, assim como fizemos por strings."
   ]
  },
  {
   "cell_type": "code",
   "execution_count": 30,
   "metadata": {
    "colab": {
     "base_uri": "https://localhost:8080/"
    },
    "id": "WBdA11X-20Kv",
    "outputId": "ecbce55a-6d16-428f-cc8a-e5c91caa9f58"
   },
   "outputs": [
    {
     "data": {
      "text/plain": [
       "['one', 'two', 'three', 4, 5, 'new item']"
      ]
     },
     "execution_count": 30,
     "metadata": {
      "tags": []
     },
     "output_type": "execute_result"
    }
   ],
   "source": [
    "my_list + [\"new item\"]"
   ]
  },
  {
   "cell_type": "markdown",
   "metadata": {
    "id": "qvStwhEN3CBt"
   },
   "source": [
    "Nota: Isso realmente não altera a lista original!"
   ]
  },
  {
   "cell_type": "code",
   "execution_count": 31,
   "metadata": {
    "colab": {
     "base_uri": "https://localhost:8080/"
    },
    "id": "gBr3wCkz29PL",
    "outputId": "4e013b7f-e961-4c7d-dc44-5e6ebe039fc1"
   },
   "outputs": [
    {
     "data": {
      "text/plain": [
       "['one', 'two', 'three', 4, 5]"
      ]
     },
     "execution_count": 31,
     "metadata": {
      "tags": []
     },
     "output_type": "execute_result"
    }
   ],
   "source": [
    "my_list"
   ]
  },
  {
   "cell_type": "markdown",
   "metadata": {
    "id": "sMC35SmA3Jdu"
   },
   "source": [
    "Você teria que reatribuir a lista para tornar a mudança permanente."
   ]
  },
  {
   "cell_type": "code",
   "execution_count": 32,
   "metadata": {
    "id": "lIQEcJYf3Fjy"
   },
   "outputs": [],
   "source": [
    "my_list = my_list + [\"VI\"]"
   ]
  },
  {
   "cell_type": "code",
   "execution_count": 33,
   "metadata": {
    "colab": {
     "base_uri": "https://localhost:8080/"
    },
    "id": "nOnPvaJj3aVy",
    "outputId": "45cc7e53-63b5-4d5d-e395-083828d747a4"
   },
   "outputs": [
    {
     "name": "stdout",
     "output_type": "stream",
     "text": [
      "['one', 'two', 'three', 4, 5, 'VI']\n"
     ]
    }
   ],
   "source": [
    "print(my_list)"
   ]
  },
  {
   "cell_type": "markdown",
   "metadata": {
    "id": "4lQffooV3trv"
   },
   "source": [
    "Nós também podemos usar o * para um método de duplicação semelhante às strings:"
   ]
  },
  {
   "cell_type": "code",
   "execution_count": 34,
   "metadata": {
    "colab": {
     "base_uri": "https://localhost:8080/"
    },
    "id": "STKF4mkT3gmC",
    "outputId": "23fa1d7f-f4ca-4d0c-ddc5-386d080b6a09"
   },
   "outputs": [
    {
     "data": {
      "text/plain": [
       "['one', 'two', 'three', 4, 5, 'VI', 'one', 'two', 'three', 4, 5, 'VI']"
      ]
     },
     "execution_count": 34,
     "metadata": {
      "tags": []
     },
     "output_type": "execute_result"
    }
   ],
   "source": [
    "my_list * 2"
   ]
  },
  {
   "cell_type": "code",
   "execution_count": 35,
   "metadata": {
    "colab": {
     "base_uri": "https://localhost:8080/"
    },
    "id": "Qh9f8K6K3ymR",
    "outputId": "46781f77-c5c6-4116-8133-2f522ce99da1"
   },
   "outputs": [
    {
     "data": {
      "text/plain": [
       "['one', 'two', 'three', 4, 5, 'VI']"
      ]
     },
     "execution_count": 35,
     "metadata": {
      "tags": []
     },
     "output_type": "execute_result"
    }
   ],
   "source": [
    "my_list"
   ]
  },
  {
   "cell_type": "markdown",
   "metadata": {
    "id": "7yBfXaR_4yLo"
   },
   "source": [
    "### Métodos de Lista Básica\r\n",
    "\r\n",
    "Se você está familiarizado com outra linguagem de programação, você pode começar a comprar arrays em outro idioma e listas em Python. As listas em Python, no entanto, tendem a ser mais flexíveis do que arrays em outras línguas por dois bons motivos: eles não têm tamanho fixo (o que significa que não precisamos especificar o tamanho de uma lista), e eles não têm restrição de tipo fixo (como já vimos acima).\r\n",
    "\r\n",
    "Vamos prosseguir e explore alguns métodos mais especiais para listas:"
   ]
  },
  {
   "cell_type": "code",
   "execution_count": 2,
   "metadata": {
    "id": "wgKRBUmz34_a"
   },
   "outputs": [],
   "source": [
    "# cria a lista\r\n",
    "lista = [1, 2, 3]"
   ]
  },
  {
   "cell_type": "markdown",
   "metadata": {
    "id": "CwsXjo3P5YgI"
   },
   "source": [
    "Use o método append para adicionar permanentemente um item ao final de uma lista:"
   ]
  },
  {
   "cell_type": "code",
   "execution_count": 3,
   "metadata": {
    "id": "6x8KqBKz5Pwq"
   },
   "outputs": [],
   "source": [
    "# append\r\n",
    "lista.append(\"append me!\")"
   ]
  },
  {
   "cell_type": "code",
   "execution_count": 4,
   "metadata": {
    "colab": {
     "base_uri": "https://localhost:8080/"
    },
    "id": "4_WdvQHV5k79",
    "outputId": "8c401f32-91e9-454a-a29d-211f7f9c2515"
   },
   "outputs": [
    {
     "data": {
      "text/plain": [
       "[1, 2, 3, 'append me!']"
      ]
     },
     "execution_count": 4,
     "metadata": {
      "tags": []
     },
     "output_type": "execute_result"
    }
   ],
   "source": [
    "# mostra lista\r\n",
    "lista"
   ]
  },
  {
   "cell_type": "markdown",
   "metadata": {
    "id": "5SPS_2F35sLn"
   },
   "source": [
    "Use pop para \"retirar\" um item da lista. Por padrão, pop tira o último índice, mas também pode especificar qual índice aparecer. Vamos ver um exemplo:"
   ]
  },
  {
   "cell_type": "code",
   "execution_count": 5,
   "metadata": {
    "colab": {
     "base_uri": "https://localhost:8080/"
    },
    "id": "9AaYI63v5ngt",
    "outputId": "6a0983f5-7291-45ee-c35e-70f110b47176"
   },
   "outputs": [
    {
     "data": {
      "text/plain": [
       "1"
      ]
     },
     "execution_count": 5,
     "metadata": {
      "tags": []
     },
     "output_type": "execute_result"
    }
   ],
   "source": [
    "# retira o item de indice 0\r\n",
    "lista.pop(0)"
   ]
  },
  {
   "cell_type": "code",
   "execution_count": 6,
   "metadata": {
    "colab": {
     "base_uri": "https://localhost:8080/"
    },
    "id": "mlzLaNlO55TX",
    "outputId": "e7edce90-2e25-45d5-cad8-6671ded4ec5c"
   },
   "outputs": [
    {
     "data": {
      "text/plain": [
       "[2, 3, 'append me!']"
      ]
     },
     "execution_count": 6,
     "metadata": {
      "tags": []
     },
     "output_type": "execute_result"
    }
   ],
   "source": [
    "# mostra lista\r\n",
    "lista"
   ]
  },
  {
   "cell_type": "code",
   "execution_count": 7,
   "metadata": {
    "id": "n6I6FQmL5-VH"
   },
   "outputs": [],
   "source": [
    "# atribui o elemento retirado, lembre-se de que o índice padrão é -1\r\n",
    "popped_item = lista.pop()"
   ]
  },
  {
   "cell_type": "code",
   "execution_count": 8,
   "metadata": {
    "colab": {
     "base_uri": "https://localhost:8080/",
     "height": 35
    },
    "id": "qgld7U796CYj",
    "outputId": "eeb530c3-2b82-4207-b10a-42b79f9afa18"
   },
   "outputs": [
    {
     "data": {
      "application/vnd.google.colaboratory.intrinsic+json": {
       "type": "string"
      },
      "text/plain": [
       "'append me!'"
      ]
     },
     "execution_count": 8,
     "metadata": {
      "tags": []
     },
     "output_type": "execute_result"
    }
   ],
   "source": [
    "popped_item"
   ]
  },
  {
   "cell_type": "code",
   "execution_count": 9,
   "metadata": {
    "colab": {
     "base_uri": "https://localhost:8080/"
    },
    "id": "Oy-YCxns6RWI",
    "outputId": "0fc5fb1e-ab24-4a1d-bcab-22ccb4ee39d2"
   },
   "outputs": [
    {
     "data": {
      "text/plain": [
       "[2, 3]"
      ]
     },
     "execution_count": 9,
     "metadata": {
      "tags": []
     },
     "output_type": "execute_result"
    }
   ],
   "source": [
    "# mostra a lista\r\n",
    "lista"
   ]
  },
  {
   "cell_type": "code",
   "execution_count": 11,
   "metadata": {
    "colab": {
     "base_uri": "https://localhost:8080/",
     "height": 163
    },
    "id": "LNborxaM6WGw",
    "outputId": "c76324af-b2e6-4742-89f2-124d3f694b4c"
   },
   "outputs": [
    {
     "ename": "IndexError",
     "evalue": "ignored",
     "output_type": "error",
     "traceback": [
      "\u001b[0;31m---------------------------------------------------------------------------\u001b[0m",
      "\u001b[0;31mIndexError\u001b[0m                                Traceback (most recent call last)",
      "\u001b[0;32m<ipython-input-11-35e15e76cd3a>\u001b[0m in \u001b[0;36m<module>\u001b[0;34m()\u001b[0m\n\u001b[0;32m----> 1\u001b[0;31m \u001b[0mlista\u001b[0m\u001b[0;34m[\u001b[0m\u001b[0;36m100\u001b[0m\u001b[0;34m]\u001b[0m\u001b[0;34m\u001b[0m\u001b[0;34m\u001b[0m\u001b[0m\n\u001b[0m",
      "\u001b[0;31mIndexError\u001b[0m: list index out of range"
     ]
    }
   ],
   "source": [
    "lista[100]"
   ]
  },
  {
   "cell_type": "markdown",
   "metadata": {
    "id": "zwVTjw5k7EFR"
   },
   "source": [
    "Podemos usar o método sort e os métodos reverse para alterar suas listas:"
   ]
  },
  {
   "cell_type": "code",
   "execution_count": 1,
   "metadata": {
    "id": "dl6f-xct69iA"
   },
   "outputs": [],
   "source": [
    "new_list = ['a', 'e', 'x', 'b', 'c']"
   ]
  },
  {
   "cell_type": "code",
   "execution_count": 2,
   "metadata": {
    "colab": {
     "base_uri": "https://localhost:8080/"
    },
    "id": "JTZkuT_O7cl3",
    "outputId": "c823313b-fae6-4aa7-df64-be817a94b308"
   },
   "outputs": [
    {
     "name": "stdout",
     "output_type": "stream",
     "text": [
      "['a', 'e', 'x', 'b', 'c']\n"
     ]
    }
   ],
   "source": [
    "print(new_list)"
   ]
  },
  {
   "cell_type": "code",
   "execution_count": 3,
   "metadata": {
    "colab": {
     "base_uri": "https://localhost:8080/"
    },
    "id": "OiN5IjfG7e8P",
    "outputId": "1d6022cb-e52e-4d8b-f308-c6caf41cba9c"
   },
   "outputs": [
    {
     "name": "stdout",
     "output_type": "stream",
     "text": [
      "['c', 'b', 'x', 'e', 'a']\n"
     ]
    }
   ],
   "source": [
    "# use o reverso para reverter a ordem (isto é permanente!)\r\n",
    "new_list.reverse()\r\n",
    "print(new_list)"
   ]
  },
  {
   "cell_type": "code",
   "execution_count": 4,
   "metadata": {
    "colab": {
     "base_uri": "https://localhost:8080/"
    },
    "id": "9LViGtuS7wOQ",
    "outputId": "e577602e-650b-42be-8e8f-681fcde72953"
   },
   "outputs": [
    {
     "name": "stdout",
     "output_type": "stream",
     "text": [
      "['a', 'b', 'c', 'e', 'x']\n"
     ]
    }
   ],
   "source": [
    "# use ordenar para classificar a lista (neste caso, ordem alfabética)\r\n",
    "new_list.sort()\r\n",
    "print(new_list)"
   ]
  },
  {
   "cell_type": "markdown",
   "metadata": {
    "id": "XCsrFMT28TIO"
   },
   "source": [
    "### Listas aninhadas\r\n",
    "\r\n",
    "Uma ótima característica das estruturas de dados do Python é que eles suportam aninhamento. Isso significa que podemos ter estruturas de dados dentro das estruturas de dados. Por exemplo: uma lista dentro de uma lista.\r\n",
    "\r\n",
    "Vamos ver como isso funciona!"
   ]
  },
  {
   "cell_type": "code",
   "execution_count": 5,
   "metadata": {},
   "outputs": [],
   "source": [
    "# começamos com 3 listas\n",
    "lst_1 = [1, 2, 3]\n",
    "lst_2 = [4, 5, 6]\n",
    "lst_3 = [7, 8, 9]\n",
    "\n",
    "# faça uma lista de listas para formar uma matriz\n",
    "mat = [lst_1, lst_2, lst_3]"
   ]
  },
  {
   "cell_type": "code",
   "execution_count": 6,
   "metadata": {},
   "outputs": [
    {
     "name": "stdout",
     "output_type": "stream",
     "text": [
      "[[1, 2, 3], [4, 5, 6], [7, 8, 9]]\n"
     ]
    }
   ],
   "source": [
    "# mostra a matriz\n",
    "print(mat)"
   ]
  },
  {
   "cell_type": "markdown",
   "metadata": {},
   "source": [
    "Agora, podemos usar novamente a indexação para pegar elementos, mas agora existem dois níveis para o índice. Os itens no objeto matriz e, em seguida, os itens dentro dessa lista!"
   ]
  },
  {
   "cell_type": "code",
   "execution_count": 7,
   "metadata": {},
   "outputs": [
    {
     "name": "stdout",
     "output_type": "stream",
     "text": [
      "[1, 2, 3]\n"
     ]
    }
   ],
   "source": [
    "# pegue o primeiro item no bjeto da matriz\n",
    "print(mat[0])"
   ]
  },
  {
   "cell_type": "code",
   "execution_count": 8,
   "metadata": {},
   "outputs": [
    {
     "name": "stdout",
     "output_type": "stream",
     "text": [
      "1\n"
     ]
    }
   ],
   "source": [
    "# pegue o primeiro item do primeiro item no objeto da matriz\n",
    "print(mat[0][0])"
   ]
  },
  {
   "cell_type": "markdown",
   "metadata": {},
   "source": [
    "### Compreensão de listas\n",
    "\n",
    "Python possui um recurso avançado chamado compreensões de lista. Eles permitem a construção rápida de listas. Para entender completamente as compreensões da lista, precisamos entender os loops. Portanto, não se preocupe se você não entender completamente esta seção e sinta-se à vontade para ignorá-la, pois retornaremos a esse assunto mais tarde.\n",
    "\n",
    "Mas no caso de você querer saber agora, aqui estão alguns exemplos!"
   ]
  },
  {
   "cell_type": "code",
   "execution_count": 9,
   "metadata": {},
   "outputs": [
    {
     "name": "stdout",
     "output_type": "stream",
     "text": [
      "[1, 4, 7]\n"
     ]
    }
   ],
   "source": [
    "# crie uma lista de compreensão desconstruindo um loop for dentro de um []\n",
    "first_col = [row[0] for row in mat]\n",
    "print(first_col)"
   ]
  },
  {
   "cell_type": "markdown",
   "metadata": {},
   "source": [
    "Usamos a compreensão da lista aqui para pegar o primeiro elemento de cada linha no objeto da matriz. Vamos abordar isso com muito mais detalhes mais tarde!\n",
    "\n",
    "Para obter métodos e recursos mais avançados das listas em Python, consulte a seção de lista avançada mais adiante neste curso!"
   ]
  },
  {
   "cell_type": "markdown",
   "metadata": {},
   "source": [
    "## Dicionários\n",
    "\n",
    "Nós temos aprendido sobre sequências em Python, mas agora vamos mudar de engrenagem e aprender sobre mapeamentos em Python. Se você está familiarizado com outras linguagens, pode pensar nestes Dicionários como tabelas de hash.\n",
    "\n",
    "Esta seção servirá como uma breve introdução aos dicionários e consiste em:\n",
    "\n",
    "1. Construindo um Dicionário\n",
    "2. Acessando objetos de um dicionário\n",
    "3. Dicionários de assentamento\n",
    "4. Métodos básicos do dicionário\n",
    "\n",
    "Então, o que são os mapeamentos? Os mapeamentos são uma coleção de objetos que são armazenados por uma chave, ao contrário de uma seqüência que armazena objetos por sua posição relativa. Esta é uma distinção importante, uma vez que os mapeamentos não reterão a ordem, pois possuem objetos definidos por uma chave.\n",
    "\n",
    "Um dicionário de Python consiste em uma chave e depois em um valor associado. Esse valor pode ser quase qualquer objeto Python."
   ]
  },
  {
   "cell_type": "markdown",
   "metadata": {},
   "source": [
    "### Construindo um Dicionário\n",
    "\n",
    "Vamos ver como podemos construir dicionários para obter uma melhor compreensão de como eles funcionam!"
   ]
  },
  {
   "cell_type": "code",
   "execution_count": 1,
   "metadata": {},
   "outputs": [
    {
     "name": "stdout",
     "output_type": "stream",
     "text": [
      "{'key1': 'value1', 'key2': 'value2'}\n"
     ]
    }
   ],
   "source": [
    "# cria um dicionário com {} e: que significa uma chave e um valor\n",
    "my_dict = {'key1':'value1', 'key2':'value2'}\n",
    "print(my_dict)"
   ]
  },
  {
   "cell_type": "code",
   "execution_count": 2,
   "metadata": {},
   "outputs": [
    {
     "name": "stdout",
     "output_type": "stream",
     "text": [
      "value2\n"
     ]
    }
   ],
   "source": [
    "# chamando valores pela chave\n",
    "print(my_dict['key2'])"
   ]
  },
  {
   "cell_type": "markdown",
   "metadata": {},
   "source": [
    "É importante notar que os dicionários são muito flexíveis com relação aos tipos de dados que eles podem conter. Por exemplo:"
   ]
  },
  {
   "cell_type": "code",
   "execution_count": 5,
   "metadata": {},
   "outputs": [],
   "source": [
    "my_dict = {'key1':123, 'key2':[12, 23, 33], 'key3':['item0', 'item1', 'item2']}"
   ]
  },
  {
   "cell_type": "code",
   "execution_count": 6,
   "metadata": {},
   "outputs": [
    {
     "data": {
      "text/plain": [
       "['item0', 'item1', 'item2']"
      ]
     },
     "execution_count": 6,
     "metadata": {},
     "output_type": "execute_result"
    }
   ],
   "source": [
    "# vamos chamar itens do dicionário\n",
    "my_dict['key3']"
   ]
  },
  {
   "cell_type": "code",
   "execution_count": 7,
   "metadata": {},
   "outputs": [
    {
     "data": {
      "text/plain": [
       "'item0'"
      ]
     },
     "execution_count": 7,
     "metadata": {},
     "output_type": "execute_result"
    }
   ],
   "source": [
    "# podemos chamar itens de uma lista presente na posição referente à chave 'key3'\n",
    "my_dict['key3'][0]"
   ]
  },
  {
   "cell_type": "code",
   "execution_count": 8,
   "metadata": {},
   "outputs": [
    {
     "data": {
      "text/plain": [
       "'ITEM0'"
      ]
     },
     "execution_count": 8,
     "metadata": {},
     "output_type": "execute_result"
    }
   ],
   "source": [
    "# podemos chamar métodos nos itens também\n",
    "my_dict['key3'][0].upper()"
   ]
  },
  {
   "cell_type": "markdown",
   "metadata": {},
   "source": [
    "Podemos também alterar valores através da chave."
   ]
  },
  {
   "cell_type": "code",
   "execution_count": 9,
   "metadata": {},
   "outputs": [
    {
     "data": {
      "text/plain": [
       "123"
      ]
     },
     "execution_count": 9,
     "metadata": {},
     "output_type": "execute_result"
    }
   ],
   "source": [
    "my_dict['key1']"
   ]
  },
  {
   "cell_type": "code",
   "execution_count": 10,
   "metadata": {},
   "outputs": [
    {
     "data": {
      "text/plain": [
       "0"
      ]
     },
     "execution_count": 10,
     "metadata": {},
     "output_type": "execute_result"
    }
   ],
   "source": [
    "my_dict['key1'] = my_dict['key1'] - 123\n",
    "my_dict['key1']"
   ]
  },
  {
   "cell_type": "markdown",
   "metadata": {},
   "source": [
    "Uma nota rápida: o Python possui um método interno de fazer uma subtração ou adição automática (ou multiplicação ou divisão). Poderíamos ter usado += ou -= para a atribuição. Por exemplo:"
   ]
  },
  {
   "cell_type": "code",
   "execution_count": 11,
   "metadata": {},
   "outputs": [
    {
     "data": {
      "text/plain": [
       "123"
      ]
     },
     "execution_count": 11,
     "metadata": {},
     "output_type": "execute_result"
    }
   ],
   "source": [
    "# define o objeto como sendo ele mesmo menos 123\n",
    "my_dict['key1'] += 123\n",
    "my_dict['key1']"
   ]
  },
  {
   "cell_type": "markdown",
   "metadata": {},
   "source": [
    "Também podemos criar chaves por atribuição. Por exemplo, se começássemos com um dicionário vazio, poderíamos adicionar-lhe continuamente:"
   ]
  },
  {
   "cell_type": "code",
   "execution_count": 12,
   "metadata": {},
   "outputs": [],
   "source": [
    "# cria um novo dicionário\n",
    "d = {}"
   ]
  },
  {
   "cell_type": "code",
   "execution_count": 13,
   "metadata": {},
   "outputs": [
    {
     "name": "stdout",
     "output_type": "stream",
     "text": [
      "{'animal': 'dog', 'answer': 42}\n"
     ]
    }
   ],
   "source": [
    "# cria uma chave por associação\n",
    "d['animal'] = 'dog'\n",
    "\n",
    "# pode fazer isso com qualquer objeto\n",
    "d['answer'] = 42\n",
    "\n",
    "# mostra\n",
    "print(d)"
   ]
  },
  {
   "cell_type": "markdown",
   "metadata": {},
   "source": [
    "### Aninhamento de dicionários\n",
    "\n",
    "Espero que você esteja começando a ver o quão poderoso Python é com sua flexibilidade de objetos de nidificação e métodos dos mesmos. Vamos ver um dicionário aninhado dentro de um dicionário:"
   ]
  },
  {
   "cell_type": "code",
   "execution_count": 14,
   "metadata": {},
   "outputs": [],
   "source": [
    "d = {'key1':{'nestkey':{'subnestkey':'value'}}}"
   ]
  },
  {
   "cell_type": "code",
   "execution_count": 15,
   "metadata": {},
   "outputs": [
    {
     "data": {
      "text/plain": [
       "'value'"
      ]
     },
     "execution_count": 15,
     "metadata": {},
     "output_type": "execute_result"
    }
   ],
   "source": [
    "# continue chamando as chaves\n",
    "d['key1']['nestkey']['subnestkey']"
   ]
  },
  {
   "cell_type": "markdown",
   "metadata": {},
   "source": [
    "### Alguns métodos de dicionários\n",
    "\n",
    "Existem alguns métodos que podemos chamar em um dicionário. Vamos começar uma breve introdução a alguns deles:"
   ]
  },
  {
   "cell_type": "code",
   "execution_count": 18,
   "metadata": {},
   "outputs": [],
   "source": [
    "# cria um dicionário típico\n",
    "d = {'key1':1, 'key2':2, 'key3':3}"
   ]
  },
  {
   "cell_type": "code",
   "execution_count": 19,
   "metadata": {},
   "outputs": [
    {
     "data": {
      "text/plain": [
       "dict_keys(['key1', 'key2', 'key3'])"
      ]
     },
     "execution_count": 19,
     "metadata": {},
     "output_type": "execute_result"
    }
   ],
   "source": [
    "# retorna uma lista de todas as chaves\n",
    "d.keys()"
   ]
  },
  {
   "cell_type": "code",
   "execution_count": 20,
   "metadata": {},
   "outputs": [
    {
     "data": {
      "text/plain": [
       "dict_values([1, 2, 3])"
      ]
     },
     "execution_count": 20,
     "metadata": {},
     "output_type": "execute_result"
    }
   ],
   "source": [
    "# pega todos os valores\n",
    "d.values()"
   ]
  },
  {
   "cell_type": "code",
   "execution_count": 21,
   "metadata": {},
   "outputs": [
    {
     "data": {
      "text/plain": [
       "dict_items([('key1', 1), ('key2', 2), ('key3', 3)])"
      ]
     },
     "execution_count": 21,
     "metadata": {},
     "output_type": "execute_result"
    }
   ],
   "source": [
    "# método para retornar as tuplas de todos os itens (aprenderemos sobre as tuplas em breve)\n",
    "d.items()"
   ]
  },
  {
   "cell_type": "markdown",
   "metadata": {},
   "source": [
    "Espero que você tenha agora um bom entendimento básico para a construção de dicionários. Há muito mais para explorar aqui, mas vamos revisar os dicionários mais tarde. Depois desta seção, tudo o que você precisa saber é como criar um dicionário e como recuperar seus valores."
   ]
  },
  {
   "cell_type": "markdown",
   "metadata": {},
   "source": [
    "## Tuplas\n",
    "\n",
    "Em Python, as tuplas são muito semelhantes às listas, no entanto, ao contrário das listas, elas são imutáveis, o que significa que elas não podem ser alteradas. Você usaria tuplas para apresentar coisas que não deveriam ser alteradas, como dias da semana ou datas em um calendário.\n",
    "\n",
    "Nesta seção, obteremos uma breve visão geral do seguinte:\n",
    "\n",
    "1. Construindo Tuplas\n",
    "2. Métodos básicos das Tuplas\n",
    "3. Imutabilidade\n",
    "4. Quando usar Tuplas\n",
    "\n",
    "Você terá uma intuição de como usar tuplas com base no que você aprendeu sobre as listas. Nós podemos tratá-los de forma muito semelhante, com a maior distinção é que as tuplas são imutáveis."
   ]
  },
  {
   "cell_type": "markdown",
   "metadata": {},
   "source": [
    "### Construindo Tuplas\n",
    "\n",
    "A construção de tuplas usa () com elementos separados por vírgulas. Por exemplo:"
   ]
  },
  {
   "cell_type": "code",
   "execution_count": 1,
   "metadata": {},
   "outputs": [],
   "source": [
    "# pode-se criar uma tupla com múltiplos elementos\n",
    "t = (1, 2, 3)"
   ]
  },
  {
   "cell_type": "code",
   "execution_count": 6,
   "metadata": {},
   "outputs": [
    {
     "data": {
      "text/plain": [
       "3"
      ]
     },
     "execution_count": 6,
     "metadata": {},
     "output_type": "execute_result"
    }
   ],
   "source": [
    "# o método len() funciona também para tuplas\n",
    "len(t)"
   ]
  },
  {
   "cell_type": "code",
   "execution_count": 7,
   "metadata": {},
   "outputs": [
    {
     "data": {
      "text/plain": [
       "('one', 2)"
      ]
     },
     "execution_count": 7,
     "metadata": {},
     "output_type": "execute_result"
    }
   ],
   "source": [
    "# você também pode variar os tipos de dados\n",
    "t = ('one', 2)\n",
    "\n",
    "# mostra\n",
    "t"
   ]
  },
  {
   "cell_type": "code",
   "execution_count": 8,
   "metadata": {},
   "outputs": [
    {
     "name": "stdout",
     "output_type": "stream",
     "text": [
      "one\n"
     ]
    }
   ],
   "source": [
    "# e a indexação funciona exatamente como nas listas\n",
    "print(t[0])"
   ]
  },
  {
   "cell_type": "code",
   "execution_count": 9,
   "metadata": {},
   "outputs": [
    {
     "data": {
      "text/plain": [
       "2"
      ]
     },
     "execution_count": 9,
     "metadata": {},
     "output_type": "execute_result"
    }
   ],
   "source": [
    "# corte de dados também\n",
    "t[-1]"
   ]
  },
  {
   "cell_type": "markdown",
   "metadata": {},
   "source": [
    "### Métodos básicos da Tupla\n",
    "\n",
    "As tuplas têm métodos internos, mas não tantas quanto listas. Vamos ver dois deles:"
   ]
  },
  {
   "cell_type": "code",
   "execution_count": 10,
   "metadata": {},
   "outputs": [
    {
     "data": {
      "text/plain": [
       "0"
      ]
     },
     "execution_count": 10,
     "metadata": {},
     "output_type": "execute_result"
    }
   ],
   "source": [
    "# use .index com o valor de parâmetro para retornar o índice do mesmo\n",
    "t.index('one')"
   ]
  },
  {
   "cell_type": "code",
   "execution_count": 11,
   "metadata": {},
   "outputs": [
    {
     "data": {
      "text/plain": [
       "1"
      ]
     },
     "execution_count": 11,
     "metadata": {},
     "output_type": "execute_result"
    }
   ],
   "source": [
    "# use .count() para saber quantas vezes determinado elemento apareceu na tupla\n",
    "t.count('one')"
   ]
  },
  {
   "cell_type": "markdown",
   "metadata": {},
   "source": [
    "### Imutabilidade\n",
    "\n",
    "Como mencionado anteriormente, tuplas são imutáveis:"
   ]
  },
  {
   "cell_type": "code",
   "execution_count": 12,
   "metadata": {},
   "outputs": [
    {
     "ename": "TypeError",
     "evalue": "'tuple' object does not support item assignment",
     "output_type": "error",
     "traceback": [
      "\u001b[0;31m---------------------------------------------------------------------------\u001b[0m",
      "\u001b[0;31mTypeError\u001b[0m                                 Traceback (most recent call last)",
      "\u001b[0;32m<ipython-input-12-9468ef3b159f>\u001b[0m in \u001b[0;36m<module>\u001b[0;34m\u001b[0m\n\u001b[0;32m----> 1\u001b[0;31m \u001b[0mt\u001b[0m\u001b[0;34m[\u001b[0m\u001b[0;36m0\u001b[0m\u001b[0;34m]\u001b[0m \u001b[0;34m=\u001b[0m \u001b[0;34m'change'\u001b[0m\u001b[0;34m\u001b[0m\u001b[0;34m\u001b[0m\u001b[0m\n\u001b[0m",
      "\u001b[0;31mTypeError\u001b[0m: 'tuple' object does not support item assignment"
     ]
    }
   ],
   "source": [
    "t[0] = 'change'"
   ]
  },
  {
   "cell_type": "markdown",
   "metadata": {},
   "source": [
    "Por causa dessa imutabilidade, as tuplas não podem crescer. Uma vez que uma tupla é feita, não podemos adicionar a ela."
   ]
  },
  {
   "cell_type": "code",
   "execution_count": 13,
   "metadata": {},
   "outputs": [
    {
     "ename": "AttributeError",
     "evalue": "'tuple' object has no attribute 'append'",
     "output_type": "error",
     "traceback": [
      "\u001b[0;31m---------------------------------------------------------------------------\u001b[0m",
      "\u001b[0;31mAttributeError\u001b[0m                            Traceback (most recent call last)",
      "\u001b[0;32m<ipython-input-13-2095a862702d>\u001b[0m in \u001b[0;36m<module>\u001b[0;34m\u001b[0m\n\u001b[0;32m----> 1\u001b[0;31m \u001b[0mt\u001b[0m\u001b[0;34m.\u001b[0m\u001b[0mappend\u001b[0m\u001b[0;34m(\u001b[0m\u001b[0;34m'none'\u001b[0m\u001b[0;34m)\u001b[0m\u001b[0;34m\u001b[0m\u001b[0;34m\u001b[0m\u001b[0m\n\u001b[0m",
      "\u001b[0;31mAttributeError\u001b[0m: 'tuple' object has no attribute 'append'"
     ]
    }
   ],
   "source": [
    "t.append('none')"
   ]
  },
  {
   "cell_type": "markdown",
   "metadata": {},
   "source": [
    "### Quando usar tuplas\n",
    "\n",
    "Você pode estar se perguntando: \"Por que se preocupar em usar tuplas quando eles têm menos métodos disponíveis?\" Para ser honesto, as tuplas não são usadas tantas vezes como listas na programação, mas são usadas quando a imutabilidade é necessária. Se no seu programa você está passando por um objeto e precisa ter certeza de que ele não seja alterado, então a tupla se tornará sua solução. Ele fornece uma fonte conveniente de integridade de dados.\n",
    "\n",
    "Agora você pode criar e usar suas tuplas em sua programação, bem como ter uma compreensão da sua imutabilidade."
   ]
  },
  {
   "cell_type": "markdown",
   "metadata": {},
   "source": [
    "## Arquivos\n",
    "\n",
    "O Python usa objetos de arquivo para interagir com arquivos externos em seu computador. Esses objetos de arquivo podem ser qualquer tipo de arquivo que você tenha em seu computador, seja um arquivo de áudio, um arquivo de texto, e-mails, documentos do Excel, etc. Nota: provavelmente você precisará instalar certas bibliotecas ou módulos para interagir com esses vários tipos de arquivo, mas eles estão facilmente disponíveis. (Vamos abordar o download de módulos mais tarde no curso).\n",
    "\n",
    "O Python possui uma função aberta que nos permite abrir e utilizar métodos básicos com arquivos. Primeiro, precisamos de um arquivo. Usaremos uma mágica do iPython para criar um arquivo de texto!"
   ]
  },
  {
   "cell_type": "markdown",
   "metadata": {},
   "source": [
    "### Escrevendo um arquivo com iPython"
   ]
  },
  {
   "cell_type": "code",
   "execution_count": 14,
   "metadata": {},
   "outputs": [
    {
     "name": "stdout",
     "output_type": "stream",
     "text": [
      "Writing test.txt\n"
     ]
    }
   ],
   "source": [
    "%%writefile test.txt\n",
    "Hello, this is a quick test file"
   ]
  },
  {
   "cell_type": "markdown",
   "metadata": {},
   "source": [
    "### Abrindo um arquivo como Python\n",
    "\n",
    "Podemos abrir um arquivo com a função open(). A função open também possui argumentos (também chamados de parâmetros). Vamos ver como isso é usado:"
   ]
  },
  {
   "cell_type": "code",
   "execution_count": 15,
   "metadata": {},
   "outputs": [],
   "source": [
    "# abre um arquivo txt já existente\n",
    "my_file = open('test.txt')"
   ]
  },
  {
   "cell_type": "code",
   "execution_count": 16,
   "metadata": {},
   "outputs": [
    {
     "data": {
      "text/plain": [
       "'Hello, this is a quick test file\\n'"
      ]
     },
     "execution_count": 16,
     "metadata": {},
     "output_type": "execute_result"
    }
   ],
   "source": [
    "# agora podemos ler o arquivo\n",
    "my_file.read()"
   ]
  },
  {
   "cell_type": "code",
   "execution_count": 17,
   "metadata": {},
   "outputs": [
    {
     "data": {
      "text/plain": [
       "''"
      ]
     },
     "execution_count": 17,
     "metadata": {},
     "output_type": "execute_result"
    }
   ],
   "source": [
    "# mas o que acontece se tentarmos lê-lo novamente?\n",
    "my_file.read()"
   ]
  },
  {
   "cell_type": "markdown",
   "metadata": {},
   "source": [
    "Isso acontece porque você pode imaginar que o \"cursor\" de leitura esteja no final do arquivo depois de ter lido. Portanto, não há nada a ler. Podemos redefinir o \"cursor\" assim:"
   ]
  },
  {
   "cell_type": "code",
   "execution_count": 25,
   "metadata": {},
   "outputs": [
    {
     "data": {
      "text/plain": [
       "0"
      ]
     },
     "execution_count": 25,
     "metadata": {},
     "output_type": "execute_result"
    }
   ],
   "source": [
    "# procure o início do arquivo (índice 0)\n",
    "my_file.seek(0)"
   ]
  },
  {
   "cell_type": "code",
   "execution_count": 19,
   "metadata": {},
   "outputs": [
    {
     "data": {
      "text/plain": [
       "'Hello, this is a quick test file\\n'"
      ]
     },
     "execution_count": 19,
     "metadata": {},
     "output_type": "execute_result"
    }
   ],
   "source": [
    "# lê novamente\n",
    "my_file.read()"
   ]
  },
  {
   "cell_type": "markdown",
   "metadata": {},
   "source": [
    "Para não ter que reiniciar todas as vezes, também podemos usar o método readlines. Tenha cuidado com arquivos grandes, já que tudo será mantido na memória. Nós aprenderemos como iterar sobre arquivos grandes mais tarde no curso."
   ]
  },
  {
   "cell_type": "code",
   "execution_count": 26,
   "metadata": {},
   "outputs": [
    {
     "data": {
      "text/plain": [
       "['Hello, this is a quick test file\\n']"
      ]
     },
     "execution_count": 26,
     "metadata": {},
     "output_type": "execute_result"
    }
   ],
   "source": [
    "# readlines retorna uma lista das linhas no arquivo\n",
    "my_file.readlines()"
   ]
  },
  {
   "cell_type": "markdown",
   "metadata": {},
   "source": [
    "### Escrevendo um arquivo\n",
    "Por padrão, usando a função open() só nos permitirá ler o arquivo, precisamos passar o argumento 'w' para escrever sobre o arquivo. Por exemplo:"
   ]
  },
  {
   "cell_type": "code",
   "execution_count": 27,
   "metadata": {},
   "outputs": [],
   "source": [
    "# adiciona um segundo argumento à função, 'w', que significa escrita\n",
    "my_file = open('test.txt', 'w+')"
   ]
  },
  {
   "cell_type": "code",
   "execution_count": 28,
   "metadata": {},
   "outputs": [
    {
     "data": {
      "text/plain": [
       "18"
      ]
     },
     "execution_count": 28,
     "metadata": {},
     "output_type": "execute_result"
    }
   ],
   "source": [
    "# escreve no arquivo\n",
    "my_file.write('This is a new line')"
   ]
  },
  {
   "cell_type": "code",
   "execution_count": 30,
   "metadata": {},
   "outputs": [
    {
     "data": {
      "text/plain": [
       "0"
      ]
     },
     "execution_count": 30,
     "metadata": {},
     "output_type": "execute_result"
    }
   ],
   "source": [
    "my_file.seek(0)"
   ]
  },
  {
   "cell_type": "code",
   "execution_count": 31,
   "metadata": {},
   "outputs": [
    {
     "data": {
      "text/plain": [
       "'This is a new line'"
      ]
     },
     "execution_count": 31,
     "metadata": {},
     "output_type": "execute_result"
    }
   ],
   "source": [
    "# lê o arquivo\n",
    "my_file.read()"
   ]
  },
  {
   "cell_type": "markdown",
   "metadata": {},
   "source": [
    "### Iterando através de um arquivo\n",
    "\n",
    "Vamos dar uma pequena olhada sobre como iterar através do arquivo. Primeiro vamos criar um novo arquivo de texto:"
   ]
  },
  {
   "cell_type": "code",
   "execution_count": 32,
   "metadata": {},
   "outputs": [
    {
     "name": "stdout",
     "output_type": "stream",
     "text": [
      "Overwriting test.txt\n"
     ]
    }
   ],
   "source": [
    "%%writefile test.txt\n",
    "First Line\n",
    "Second line"
   ]
  },
  {
   "cell_type": "markdown",
   "metadata": {},
   "source": [
    "Agora podemos usar um pouco de fluxo para dizer o programa para através de cada linha do arquivo e fazer algo:"
   ]
  },
  {
   "cell_type": "code",
   "execution_count": 33,
   "metadata": {},
   "outputs": [
    {
     "name": "stdout",
     "output_type": "stream",
     "text": [
      "First Line\n",
      "\n",
      "Second line\n",
      "\n"
     ]
    }
   ],
   "source": [
    "for line in open('test.txt'):\n",
    "    print(line)"
   ]
  },
  {
   "cell_type": "markdown",
   "metadata": {},
   "source": [
    "Não se preocupe em entender completamente isso ainda, pois os laços serão abordados em breve. Mas vamos quebrar o que fizemos acima. Nós dissemos que para cada linha neste arquivo de texto, vá em frente e imprima essa linha. É importante notar algumas coisas aqui:\n",
    "\n",
    "1. Poderíamos ter chamado o objeto \"linha\" qualquer coisa (veja o exemplo abaixo).\n",
    "2. Ao não chamar .read() no arquivo, o arquivo de texto inteiro não foi armazenado na memória.\n",
    "3. Observe o recuo na segunda linha para impressão. Este espaço em branco é necessário para o Python.\n",
    "\n",
    "Aprenderemos muito mais sobre iso mais tarde."
   ]
  },
  {
   "cell_type": "code",
   "execution_count": 34,
   "metadata": {},
   "outputs": [
    {
     "name": "stdout",
     "output_type": "stream",
     "text": [
      "First Line\n",
      "\n",
      "Second line\n",
      "\n"
     ]
    }
   ],
   "source": [
    "for asdf in open('test.txt'):\n",
    "    print(asdf)"
   ]
  },
  {
   "cell_type": "markdown",
   "metadata": {},
   "source": [
    "## Set e Booleanos\n",
    "\n",
    "Existem dois outros tipos de objeto em Python que devemos cobrir rapidamente. Conjuntos(Sets) e Booleanos."
   ]
  },
  {
   "cell_type": "markdown",
   "metadata": {},
   "source": [
    "### Sets\n",
    "\n",
    "Os conjuntos são uma coleção não ordenada de elementos únicos. Podemos construí-los usando a função set(). Avançemos e façamos um conjunto para ver como funciona."
   ]
  },
  {
   "cell_type": "code",
   "execution_count": 35,
   "metadata": {},
   "outputs": [],
   "source": [
    "x = set()"
   ]
  },
  {
   "cell_type": "code",
   "execution_count": 36,
   "metadata": {},
   "outputs": [],
   "source": [
    "# adicionamos elementos com o método add()\n",
    "x.add(1)"
   ]
  },
  {
   "cell_type": "code",
   "execution_count": 37,
   "metadata": {},
   "outputs": [
    {
     "data": {
      "text/plain": [
       "{1}"
      ]
     },
     "execution_count": 37,
     "metadata": {},
     "output_type": "execute_result"
    }
   ],
   "source": [
    "# mostra\n",
    "x"
   ]
  },
  {
   "cell_type": "markdown",
   "metadata": {},
   "source": [
    "Observe os colchetes. Isso não indica um dicionário! Embora você possa montar analogias como um set sendo um dicionário com apenas chaves. Sabemos que um conjunto tem apenas entradas únicas. Então, o que acontece quando tentamos adicionar algo que já está em um conjunto?"
   ]
  },
  {
   "cell_type": "code",
   "execution_count": 39,
   "metadata": {},
   "outputs": [],
   "source": [
    "# adiciona um elemento novo\n",
    "x.add(2)"
   ]
  },
  {
   "cell_type": "code",
   "execution_count": 40,
   "metadata": {},
   "outputs": [
    {
     "data": {
      "text/plain": [
       "{1, 2}"
      ]
     },
     "execution_count": 40,
     "metadata": {},
     "output_type": "execute_result"
    }
   ],
   "source": [
    "# mostra\n",
    "x"
   ]
  },
  {
   "cell_type": "code",
   "execution_count": 41,
   "metadata": {},
   "outputs": [],
   "source": [
    "# adiciona o mesmo elemento\n",
    "x.add(1)"
   ]
  },
  {
   "cell_type": "code",
   "execution_count": 42,
   "metadata": {},
   "outputs": [
    {
     "data": {
      "text/plain": [
       "{1, 2}"
      ]
     },
     "execution_count": 42,
     "metadata": {},
     "output_type": "execute_result"
    }
   ],
   "source": [
    "# mostra\n",
    "x"
   ]
  },
  {
   "cell_type": "markdown",
   "metadata": {},
   "source": [
    "Observe como ele não colocará mais 1 lá. Isso porque um conjunto apenas se ocupa de elementos exclusivos! Podemos transformar uma lista com múltiplos elementos repetidos para um conjunto para obter os elementos exclusivos. Por exemplo:"
   ]
  },
  {
   "cell_type": "code",
   "execution_count": 43,
   "metadata": {},
   "outputs": [],
   "source": [
    "# cria uma lista com elementos repetidos\n",
    "l = [1, 1, 2, 2, 3, 4, 5, 6, 1, 1]"
   ]
  },
  {
   "cell_type": "code",
   "execution_count": 44,
   "metadata": {},
   "outputs": [
    {
     "data": {
      "text/plain": [
       "{1, 2, 3, 4, 5, 6}"
      ]
     },
     "execution_count": 44,
     "metadata": {},
     "output_type": "execute_result"
    }
   ],
   "source": [
    "# transforma em um set com elementos únicos\n",
    "set(l)"
   ]
  },
  {
   "cell_type": "markdown",
   "metadata": {},
   "source": [
    "### Booleanos\n",
    "\n",
    "O Python possui também Booleanos (com True e False predefinidas que são basicamente apenas os números inteiros 1 e 0). Ele também possui um objeto reservado chamado None. Passemos por alguns exemplos rápidos de booleanos (vamos mergulhar mais profundamente neles mais tarde neste curso)."
   ]
  },
  {
   "cell_type": "code",
   "execution_count": 45,
   "metadata": {},
   "outputs": [
    {
     "name": "stdout",
     "output_type": "stream",
     "text": [
      "True\n"
     ]
    }
   ],
   "source": [
    "# definbe um objeto como True\n",
    "a = True\n",
    "print(a)"
   ]
  },
  {
   "cell_type": "markdown",
   "metadata": {},
   "source": [
    "Também podemos usar operadores de comparação para criar booleanos. Examinaremos todos os operadores de comparação mais tarde no curso."
   ]
  },
  {
   "cell_type": "code",
   "execution_count": 46,
   "metadata": {},
   "outputs": [
    {
     "data": {
      "text/plain": [
       "False"
      ]
     },
     "execution_count": 46,
     "metadata": {},
     "output_type": "execute_result"
    }
   ],
   "source": [
    "# o output é boleano\n",
    "1 > 2"
   ]
  },
  {
   "cell_type": "markdown",
   "metadata": {},
   "source": [
    "Nós podemos usar None como um espaço reservado para um objeto que não queremos reatribuir ainda:"
   ]
  },
  {
   "cell_type": "code",
   "execution_count": 47,
   "metadata": {},
   "outputs": [
    {
     "name": "stdout",
     "output_type": "stream",
     "text": [
      "None\n"
     ]
    }
   ],
   "source": [
    "b = None\n",
    "print(b)"
   ]
  },
  {
   "cell_type": "markdown",
   "metadata": {},
   "source": [
    "É isso aí! Agora você deve ter uma compreensão básica de objetos Python e tipos de estrutura de dados. Em seguida, vá em frente e faça o teste de avaliação!"
   ]
  },
  {
   "cell_type": "code",
   "execution_count": 48,
   "metadata": {},
   "outputs": [],
   "source": [
    "teste = set([1, 1, 2, 3])"
   ]
  },
  {
   "cell_type": "code",
   "execution_count": 49,
   "metadata": {},
   "outputs": [
    {
     "name": "stdout",
     "output_type": "stream",
     "text": [
      "{1, 2, 3}\n"
     ]
    }
   ],
   "source": [
    "print(teste)"
   ]
  },
  {
   "cell_type": "markdown",
   "metadata": {},
   "source": [
    "## Operadores de Comparação\n",
    "\n",
    "Nesta aula estaremos aprendendo sobre Operadores de Comparação em Python. Esses operadores nos permitirão comparar variáveis e produzir um valor booleano (Verdadeiro ou Falso).\n",
    "\n",
    "Se você tiver alguma base em Matemática, esses operadores devem ser muito diretos.\n",
    "\n",
    "Em primeiro lugar, apresentaremos uma tabela dos operadores de comparação e depois trabalharemos com alguns exemplos:"
   ]
  },
  {
   "cell_type": "markdown",
   "metadata": {},
   "source": [
    "### Tabela de Operadores de Comparação\n",
    "\n",
    "<table>\n",
    "    <tr>\n",
    "        <th>Operador</th>\n",
    "        <th>Descrição</th>\n",
    "        <th>Exemplo</th>\n",
    "    </tr>\n",
    "    <tr>\n",
    "        <td>==</td>\n",
    "        <td>Se os valores de dois operandos forem iguais, a condição torna-se verdadeira.</td>\n",
    "        <td> (a == b) não é verdade.</td>\n",
    "    </tr>\n",
    "    <tr>\n",
    "        <td>!=</td>\n",
    "        <td>Se valores de dois operandos não forem iguais, a condição torna-se verdadeira.</td>\n",
    "        <td>(a != b) é verdadeiro</td>\n",
    "    </tr>\n",
    "    <tr>\n",
    "        <td>&lt;&gt;</td>\n",
    "        <td>Se os valores de dois operandos não forem iguais, a condição torna-se verdadeira.</td>\n",
    "        <td>(a &lt;&gt; b) é verdadeiro. Isso é semelhante ao operador !=.</td>\n",
    "    </tr>\n",
    "    <tr>\n",
    "        <td>&gt;</td>\n",
    "        <td>Se o valor do operando esquerdo for maior que o valor do operando direito, a condição torna-se verdadeira.</td>\n",
    "        <td>(a &gt; b) não é verdadeiro.</td>\n",
    "    </tr>\n",
    "    <tr>\n",
    "        <td>&lt;</td>\n",
    "        <td>Se o valor do operando esquerdo for inferior ao valor do operando direito, a condição torna-se verdadeira.</td>\n",
    "        <td>(a &lt; b) é verdadeiro.</td>\n",
    "    </tr>\n",
    "    <tr>\n",
    "        <td>&gt;=</td>\n",
    "        <td>Se o valor do operando esquerdo for maior ou igual ao valor do operando direito, a condição torna-se verdadeira.</td>\n",
    "        <td>(a &gt;= b) não é verdadeiro.</td>\n",
    "    </tr>\n",
    "    <tr>\n",
    "        <td>&lt;=</td>\n",
    "        <td>Se o valor do operando esquerdo for menor ou igual ao valor do operando direito, a condição torna-se verdadeira.</td>\n",
    "        <td>(a &lt;= b) é verdadeiro</td>\n",
    "    </tr>\n",
    "</table>\n",
    "\n",
    "Vamos agora trabalhar com exemplos rápidos de cada um desses."
   ]
  },
  {
   "cell_type": "markdown",
   "metadata": {},
   "source": [
    "**Igualdade**"
   ]
  },
  {
   "cell_type": "code",
   "execution_count": 50,
   "metadata": {},
   "outputs": [
    {
     "data": {
      "text/plain": [
       "True"
      ]
     },
     "execution_count": 50,
     "metadata": {},
     "output_type": "execute_result"
    }
   ],
   "source": [
    "2 == 2"
   ]
  },
  {
   "cell_type": "code",
   "execution_count": 51,
   "metadata": {},
   "outputs": [
    {
     "data": {
      "text/plain": [
       "False"
      ]
     },
     "execution_count": 51,
     "metadata": {},
     "output_type": "execute_result"
    }
   ],
   "source": [
    "1 == 0"
   ]
  },
  {
   "cell_type": "markdown",
   "metadata": {},
   "source": [
    "**Desigualdade**"
   ]
  },
  {
   "cell_type": "code",
   "execution_count": 52,
   "metadata": {},
   "outputs": [
    {
     "data": {
      "text/plain": [
       "True"
      ]
     },
     "execution_count": 52,
     "metadata": {},
     "output_type": "execute_result"
    }
   ],
   "source": [
    "2 != 1"
   ]
  },
  {
   "cell_type": "code",
   "execution_count": 53,
   "metadata": {},
   "outputs": [
    {
     "data": {
      "text/plain": [
       "False"
      ]
     },
     "execution_count": 53,
     "metadata": {},
     "output_type": "execute_result"
    }
   ],
   "source": [
    "2 != 2"
   ]
  },
  {
   "cell_type": "markdown",
   "metadata": {},
   "source": [
    "**Maior que**"
   ]
  },
  {
   "cell_type": "code",
   "execution_count": 56,
   "metadata": {},
   "outputs": [
    {
     "data": {
      "text/plain": [
       "True"
      ]
     },
     "execution_count": 56,
     "metadata": {},
     "output_type": "execute_result"
    }
   ],
   "source": [
    "2 > 1"
   ]
  },
  {
   "cell_type": "code",
   "execution_count": 57,
   "metadata": {},
   "outputs": [
    {
     "data": {
      "text/plain": [
       "False"
      ]
     },
     "execution_count": 57,
     "metadata": {},
     "output_type": "execute_result"
    }
   ],
   "source": [
    "2 > 4"
   ]
  },
  {
   "cell_type": "markdown",
   "metadata": {},
   "source": [
    "**Menor que**"
   ]
  },
  {
   "cell_type": "code",
   "execution_count": 58,
   "metadata": {},
   "outputs": [
    {
     "data": {
      "text/plain": [
       "True"
      ]
     },
     "execution_count": 58,
     "metadata": {},
     "output_type": "execute_result"
    }
   ],
   "source": [
    "2 < 4"
   ]
  },
  {
   "cell_type": "code",
   "execution_count": 59,
   "metadata": {},
   "outputs": [
    {
     "data": {
      "text/plain": [
       "False"
      ]
     },
     "execution_count": 59,
     "metadata": {},
     "output_type": "execute_result"
    }
   ],
   "source": [
    "2 < 1"
   ]
  },
  {
   "cell_type": "markdown",
   "metadata": {},
   "source": [
    "**Maior ou igual que**"
   ]
  },
  {
   "cell_type": "code",
   "execution_count": 60,
   "metadata": {},
   "outputs": [
    {
     "data": {
      "text/plain": [
       "True"
      ]
     },
     "execution_count": 60,
     "metadata": {},
     "output_type": "execute_result"
    }
   ],
   "source": [
    "2 >= 2"
   ]
  },
  {
   "cell_type": "code",
   "execution_count": 61,
   "metadata": {},
   "outputs": [
    {
     "data": {
      "text/plain": [
       "True"
      ]
     },
     "execution_count": 61,
     "metadata": {},
     "output_type": "execute_result"
    }
   ],
   "source": [
    "2 >= 1"
   ]
  },
  {
   "cell_type": "markdown",
   "metadata": {},
   "source": [
    "**Menor ou igual que**"
   ]
  },
  {
   "cell_type": "code",
   "execution_count": 62,
   "metadata": {},
   "outputs": [
    {
     "data": {
      "text/plain": [
       "True"
      ]
     },
     "execution_count": 62,
     "metadata": {},
     "output_type": "execute_result"
    }
   ],
   "source": [
    "2 <= 2"
   ]
  },
  {
   "cell_type": "code",
   "execution_count": 63,
   "metadata": {},
   "outputs": [
    {
     "data": {
      "text/plain": [
       "True"
      ]
     },
     "execution_count": 63,
     "metadata": {},
     "output_type": "execute_result"
    }
   ],
   "source": [
    "2 <= 4"
   ]
  },
  {
   "cell_type": "markdown",
   "metadata": {},
   "source": [
    "**Ótimo! Examine cada operador de comparação para se certificar de que compreende o que cada um está dizendo.**\n",
    "\n",
    "Em seguida, iremos abordar operadores de comparação em cadeia."
   ]
  },
  {
   "cell_type": "markdown",
   "metadata": {},
   "source": [
    "## Operadores de Comparação em Cadeia\n",
    "\n",
    "Uma característica interessante do Python é a capacidade de encadear comparações múltiplas para realizar um teste mais complexo. Você pode usar essas comparações em cadeia como uma abreviatura para expressões booleanas maiores.\n",
    "\n",
    "Nesta palestra, aprenderemos como encadear operadores de comparação e também apresentamos duas outras declarações importantes em python: **and** e **or**.\n",
    "\n",
    "Vejamos alguns exemplos de uso de cadeias:"
   ]
  },
  {
   "cell_type": "code",
   "execution_count": 64,
   "metadata": {},
   "outputs": [
    {
     "data": {
      "text/plain": [
       "True"
      ]
     },
     "execution_count": 64,
     "metadata": {},
     "output_type": "execute_result"
    }
   ],
   "source": [
    "1 < 2 < 3"
   ]
  },
  {
   "cell_type": "markdown",
   "metadata": {},
   "source": [
    "A declaração acima verifica se 1 era inferior a 2 e se 2 era inferior a 3. Poderíamos ter escrito isso usando uma instrução **and** em Python:"
   ]
  },
  {
   "cell_type": "code",
   "execution_count": 65,
   "metadata": {},
   "outputs": [
    {
     "data": {
      "text/plain": [
       "True"
      ]
     },
     "execution_count": 65,
     "metadata": {},
     "output_type": "execute_result"
    }
   ],
   "source": [
    "1 < 2 and 2 < 3"
   ]
  },
  {
   "cell_type": "markdown",
   "metadata": {},
   "source": [
    "O **and** é usado para garantir que as duas verificações tenham que ser verdadeiras para que a verificação total seja verdadeira. Vamos ver outro exemplo:"
   ]
  },
  {
   "cell_type": "code",
   "execution_count": 66,
   "metadata": {},
   "outputs": [
    {
     "data": {
      "text/plain": [
       "True"
      ]
     },
     "execution_count": 66,
     "metadata": {},
     "output_type": "execute_result"
    }
   ],
   "source": [
    "1 < 3 > 2"
   ]
  },
  {
   "cell_type": "markdown",
   "metadata": {},
   "source": [
    "As verificações acima checam se 3 é maior do que os outros números. Você pode usar **and** para reescrevê-lo como:"
   ]
  },
  {
   "cell_type": "code",
   "execution_count": 67,
   "metadata": {},
   "outputs": [
    {
     "data": {
      "text/plain": [
       "True"
      ]
     },
     "execution_count": 67,
     "metadata": {},
     "output_type": "execute_result"
    }
   ],
   "source": [
    "1 < 3 and 3 > 2"
   ]
  },
  {
   "cell_type": "markdown",
   "metadata": {},
   "source": [
    "É importante notar que o Python está verificando ambas as instâncias das comparações. Nós também podemos usar **or** para escrever comparações em Python. Por exemplo:"
   ]
  },
  {
   "cell_type": "code",
   "execution_count": 68,
   "metadata": {},
   "outputs": [
    {
     "data": {
      "text/plain": [
       "True"
      ]
     },
     "execution_count": 68,
     "metadata": {},
     "output_type": "execute_result"
    }
   ],
   "source": [
    "1 == 2 or 2 < 3"
   ]
  },
  {
   "cell_type": "markdown",
   "metadata": {},
   "source": [
    "Observe como a expressão retornou True porque com o operador **ou** precisamos apenas um ou os outros dois sejam verdadeiros. Outro exemplo:"
   ]
  },
  {
   "cell_type": "code",
   "execution_count": 69,
   "metadata": {},
   "outputs": [
    {
     "data": {
      "text/plain": [
       "True"
      ]
     },
     "execution_count": 69,
     "metadata": {},
     "output_type": "execute_result"
    }
   ],
   "source": [
    "1 == 1 or 100 == 1"
   ]
  },
  {
   "cell_type": "markdown",
   "metadata": {},
   "source": [
    "Ótimo! Vá em frente e vá ao questionário para esta seção para verificar sua compreensão!"
   ]
  },
  {
   "cell_type": "markdown",
   "metadata": {},
   "source": [
    "## Introdução às declarações do Python\n",
    "\n",
    "Nesta palestra, faremos uma rápida visão geral das declarações do Python. Esta palestra enfatizará as diferenças entre Python e outros idiomas, como o C++.\n",
    "\n",
    "Existem duas razões pelas quais tomamos essa abordagem para aprender o contexto das declarações de Python:\n",
    "\n",
    "1. Se você vem de uma linguagem diferente, isso acelerará rapidamente sua compreensão sobre o Python.\n",
    "2. Aprender sobre declarações permitirá que você possa ler outras linguagens com mais facilidade no futuro."
   ]
  },
  {
   "cell_type": "markdown",
   "metadata": {},
   "source": [
    "### Python vs outras linguagens\n",
    "\n",
    "Vamos criar uma declaração simples que diga: \"Se a é maior que b, atribua 2 a **a** e 4 a **b**\"\n",
    "\n",
    "Dê uma olhada nessas duas afirmações if (aprenderemos sobre a construção de declarações if).\n",
    "\n",
    "**Versão 1 (Outras linguagens)**\n",
    "\n",
    "```\n",
    "se (a > b){\n",
    "    a = 2;\n",
    "    b = 4;\n",
    "}\n",
    "```\n",
    "\n",
    "**Versão 2 (Python)**\n",
    "\n",
    "```\n",
    "se a > b:\n",
    "    a = 2\n",
    "    b = 4\n",
    "```\n",
    "\n",
    "Você notará que o Python está menos confuso e muito mais legível do que a primeira versão. Como o Python gerencia isso?\n",
    "\n",
    "Vamos percorrer as principais diferenças:\n",
    "\n",
    "Python se livra de **()** e **{}** incorporando dois fatores principais: os dois pontos e os espaços em branco. A declaração é terminada com dois pontos e o espaço em branco é usado (recuo) para descrever o que ocorre no caso da declaração.\n",
    "\n",
    "Outra grande diferença é a falta de ponto e vírgula em Python. Eles são usados para denotar terminações de declaração em muitos outros idiomas, mas em Python, o final de uma linha é o mesmo que o final de uma declaração.\n",
    "\n",
    "Por fim, para terminar esta breve visão geral das diferenças, vamos examinar mais de perto a sintaxe de indentação em Python vs outros idiomas:"
   ]
  },
  {
   "cell_type": "markdown",
   "metadata": {},
   "source": [
    "### Indentação\n",
    "\n",
    "Aqui está um pseudo-código para indicar o uso de espaço em branco e indentação em Python:\n",
    "\n",
    "**Outras linguagens**\n",
    "\n",
    "```\n",
    "se (x)\n",
    "    se (y)\n",
    "        declaração de código;\n",
    "outro\n",
    "    outra indicação de código;\n",
    "```\n",
    "\n",
    "**Python**\n",
    "\n",
    "```\n",
    "se x:\n",
    "    se y:\n",
    "        declaração de código\n",
    "outro:\n",
    "    outra indicação de código\n",
    "```\n",
    "\n",
    "Observe como o Python é tão fortemente impulsionado por indentação de código e espaço em branco. Isso significa que a legibilidade do código é uma parte essencial do design da linguagem Python.\n",
    "\n",
    "Agora vamos começar a mergulhar mais fundo codificando esse tipo de afirmações em Python!"
   ]
  },
  {
   "cell_type": "markdown",
   "metadata": {},
   "source": [
    "## if, elif e else\n",
    "\n",
    "**If** em Python nos permite contar ao computador para executar ações alternativas com base em um determinado conjunto de resultados. Verbalmente, podemos imaginar que estamos informando o computador:\n",
    "\n",
    "\"Ei, se isso caso acontecer, execute alguma ação\" Podemos então expandir a idéia com declarações elif e else, o que nos permite contar ao computador:\n",
    "\n",
    "\"Ei, se esse caso acontecer, execute alguma ação. Caso contrário, se aquilo dali acontecer, execute alguma outra ação. Caso contrário, nenhum dos casos acima aconteceu, execute esta ação\" Avançemos e vejamos o formato de sintaxe para as instruções if para ter uma idéia melhor disso:\n",
    "\n",
    "```\n",
    "if case1:\n",
    "    executar ação1\n",
    "elif case2:\n",
    "    executar ação2\n",
    "else:\n",
    "    executar ação3\n",
    "```"
   ]
  },
  {
   "cell_type": "markdown",
   "metadata": {},
   "source": [
    "### Primeiro exemplo\n",
    "\n",
    "Vamos ver um exemplo rápido disso:"
   ]
  },
  {
   "cell_type": "code",
   "execution_count": 1,
   "metadata": {},
   "outputs": [
    {
     "name": "stdout",
     "output_type": "stream",
     "text": [
      "It was true!\n"
     ]
    }
   ],
   "source": [
    "if True:\n",
    "    print('It was true!')"
   ]
  },
  {
   "cell_type": "markdown",
   "metadata": {},
   "source": [
    "Vamos adicionar outra lógica:"
   ]
  },
  {
   "cell_type": "code",
   "execution_count": 2,
   "metadata": {},
   "outputs": [
    {
     "name": "stdout",
     "output_type": "stream",
     "text": [
      "I will be printed in any case where x is not true!\n"
     ]
    }
   ],
   "source": [
    "x = False\n",
    "\n",
    "if x:\n",
    "    print('x was true!')\n",
    "else:\n",
    "    print('I will be printed in any case where x is not true!')"
   ]
  },
  {
   "cell_type": "markdown",
   "metadata": {},
   "source": [
    "### Múltiplos ramos\n",
    "\n",
    "Vamos ver de forma mais completa de quão longe **if, elif, e else** podem nos levar! Nós escrevemos isso em uma estrutura aninhada. Tome nota de como o if, elif e else se alinham no código. Isso pode ajudá-lo a ver o que se relaciona com o elif ou outras afirmações.\n",
    "\n",
    "Vamos reintroduzir uma sintaxe de comparação para o Python."
   ]
  },
  {
   "cell_type": "code",
   "execution_count": 3,
   "metadata": {},
   "outputs": [
    {
     "name": "stdout",
     "output_type": "stream",
     "text": [
      "Welcome to the Bank!\n"
     ]
    }
   ],
   "source": [
    "loc = \"Bank\"\n",
    "\n",
    "if loc == \"Auto Shop\":\n",
    "    print(\"Welcome to the Auto Shop!\")\n",
    "elif loc == \"Bank\":\n",
    "    print(\"Welcome to the Bank!\")\n",
    "else:\n",
    "    print(\"Where are you?\")"
   ]
  },
  {
   "cell_type": "markdown",
   "metadata": {},
   "source": [
    "Observe como as declarações if aninhadas são verificadas até que um booleano True faça com que o código aninhado abaixo seja executado. Você também deve notar que você pode colocar as declarações elif quanto desejar antes de fechar com outra.\n",
    "\n",
    "Vamos criar dois exemplos mais simples para as afirmações if, elif e else:"
   ]
  },
  {
   "cell_type": "code",
   "execution_count": 4,
   "metadata": {},
   "outputs": [
    {
     "name": "stdout",
     "output_type": "stream",
     "text": [
      "Welcome Sammy!\n"
     ]
    }
   ],
   "source": [
    "person = \"Sammy\"\n",
    "\n",
    "if person == \"Sammy\":\n",
    "    print(\"Welcome Sammy!\")\n",
    "else:\n",
    "    print(\"Welcome, what's your name?\")"
   ]
  },
  {
   "cell_type": "code",
   "execution_count": 5,
   "metadata": {},
   "outputs": [
    {
     "name": "stdout",
     "output_type": "stream",
     "text": [
      "Welcome George!\n"
     ]
    }
   ],
   "source": [
    "person = \"George\"\n",
    "\n",
    "if person == \"Sammy\":\n",
    "    print(\"Welcome Sammy!\")\n",
    "elif person == \"George\":\n",
    "    print(\"Welcome George!\")\n",
    "else:\n",
    "    print(\"Welcome, what's your name?\")"
   ]
  },
  {
   "cell_type": "markdown",
   "metadata": {},
   "source": [
    "### Indentação\n",
    "\n",
    "É importante manter uma boa compreensão de como o recuo funciona no Python para manter a estrutura e a ordem do seu código. Vamos voltar a tocar neste tópico quando começarmos a criar funções!"
   ]
  },
  {
   "cell_type": "markdown",
   "metadata": {},
   "source": [
    "## For\n",
    "\n",
    "Um loop **for** atua como um iterador em Python, ele passa por itens que estão em uma sequência ou qualquer outro item iterável. Os objetos que aprendemos até agora que podemos iterar incluem strings, listas, tuplas e até iteráveis embutidos em dicionários, como chaves ou valores.\n",
    "\n",
    "Já vimos **for** um pouco nas palestras passadas, mas agora permitimos formalizar a nossa compreensão.\n",
    "\n",
    "Aqui está o formato geral para um **for** loop em Python:\n",
    "\n",
    "```\n",
    "for item in objeto:\n",
    "    fazer algo\n",
    "```\n",
    "\n",
    "O nome da variável usado para o item fica a seu critério, você pode escolher o que quiser. Então use seu melhor julgamento para escolher um nome que faça sentido e que você poderá entender ao revisar seu código. Este nome do item pode então ser referenciado dentro de seu loop, por exemplo, se você quisesse usar instruções if para executar verificações.\n",
    "\n",
    "Vamos seguir em frente e trabalhar com vários exemplos de **for** loops usando uma variedade de tipos de objetos de dados. Vamos começar com um exemplo simples e adicionar mais complexidade mais além."
   ]
  },
  {
   "cell_type": "markdown",
   "metadata": {},
   "source": [
    "### Exemplo 1\n",
    "Iterando através de uma lista."
   ]
  },
  {
   "cell_type": "code",
   "execution_count": 3,
   "metadata": {},
   "outputs": [],
   "source": [
    "# aprenderemos a automatizar esse tipo de lista na próxima palestra\n",
    "l = [1, 2, 3, 4, 5, 6, 7, 8, 9, 10]"
   ]
  },
  {
   "cell_type": "code",
   "execution_count": 2,
   "metadata": {},
   "outputs": [
    {
     "name": "stdout",
     "output_type": "stream",
     "text": [
      "1\n",
      "2\n",
      "3\n",
      "4\n",
      "5\n",
      "6\n",
      "7\n",
      "8\n",
      "9\n",
      "10\n"
     ]
    }
   ],
   "source": [
    "for num in l:\n",
    "    print(num)"
   ]
  },
  {
   "cell_type": "markdown",
   "metadata": {},
   "source": [
    "Ótimo! Espero que isso tenha feito sentido. Agora, vamos adicionar uma instrução **if** para verificar se há números pares. Vamos primeiro apresentar um novo conceito aqui - o *módulo*."
   ]
  },
  {
   "cell_type": "markdown",
   "metadata": {},
   "source": [
    "#### Modulo\n",
    "O módulo nos permite obter o restante em uma divisão e usa o símbolo %. Por exemplo:"
   ]
  },
  {
   "cell_type": "code",
   "execution_count": 4,
   "metadata": {},
   "outputs": [
    {
     "data": {
      "text/plain": [
       "2"
      ]
     },
     "execution_count": 4,
     "metadata": {},
     "output_type": "execute_result"
    }
   ],
   "source": [
    "17 % 5"
   ]
  },
  {
   "cell_type": "markdown",
   "metadata": {},
   "source": [
    "Isso faz sentido, pois 17 dividido por 5 é 3 e sobra 2. Vamos ver alguns exemplos mais rápidos:"
   ]
  },
  {
   "cell_type": "code",
   "execution_count": 5,
   "metadata": {},
   "outputs": [
    {
     "name": "stdout",
     "output_type": "stream",
     "text": [
      "1\n",
      "4\n",
      "0\n"
     ]
    }
   ],
   "source": [
    "# 3, sobra 1\n",
    "print(10 % 3)\n",
    "\n",
    "# 2, sobra 4\n",
    "print(18 % 7)\n",
    "\n",
    "# 2, sem sobras\n",
    "print(4 % 2)"
   ]
  },
  {
   "cell_type": "markdown",
   "metadata": {},
   "source": [
    "Observe que se um número é totalmente divisível sem restante, o resultado do módulo é 0. Podemos usar isso para testar números pares, pois se um número nódulo 2 for igual a 0, isso significa que é um número par!\n",
    "\n",
    "Volte para o **for**!"
   ]
  },
  {
   "cell_type": "markdown",
   "metadata": {},
   "source": [
    "### Exemplo 2\n",
    "\n",
    "Vamos imprimir apenas os números pares dessa lista!"
   ]
  },
  {
   "cell_type": "code",
   "execution_count": 6,
   "metadata": {},
   "outputs": [
    {
     "name": "stdout",
     "output_type": "stream",
     "text": [
      "2\n",
      "4\n",
      "6\n",
      "8\n",
      "10\n"
     ]
    }
   ],
   "source": [
    "for num in l:\n",
    "    if num % 2 == 0:\n",
    "        print(num)"
   ]
  },
  {
   "cell_type": "markdown",
   "metadata": {},
   "source": [
    "Nós também poderíamos usar um else lá, também:"
   ]
  },
  {
   "cell_type": "code",
   "execution_count": 7,
   "metadata": {},
   "outputs": [
    {
     "name": "stdout",
     "output_type": "stream",
     "text": [
      "número ímpar\n",
      "2\n",
      "número ímpar\n",
      "4\n",
      "número ímpar\n",
      "6\n",
      "número ímpar\n",
      "8\n",
      "número ímpar\n",
      "10\n"
     ]
    }
   ],
   "source": [
    "for num in l:\n",
    "    if num % 2 == 0:\n",
    "        print(num)\n",
    "    else:\n",
    "        print(\"número ímpar\")"
   ]
  },
  {
   "cell_type": "markdown",
   "metadata": {},
   "source": [
    "### Exemplo 3\n",
    "\n",
    "Outra idéia comum durante um **for** é manter algum tipo de contagem durante os vários loops. Por exemplo, vamos criar um loop for que resume a lista:"
   ]
  },
  {
   "cell_type": "code",
   "execution_count": 8,
   "metadata": {},
   "outputs": [
    {
     "name": "stdout",
     "output_type": "stream",
     "text": [
      "55\n"
     ]
    }
   ],
   "source": [
    "list_sum = 0\n",
    "\n",
    "for num in l:\n",
    "    list_sum = list_sum + num\n",
    "    \n",
    "print(list_sum)"
   ]
  },
  {
   "cell_type": "markdown",
   "metadata": {},
   "source": [
    "Ótimo! Leia sobre a célula acima e certifique-se de entender completamente o que está acontecendo. Também poderíamos ter implementado um += para a adição. Por exemplo:"
   ]
  },
  {
   "cell_type": "code",
   "execution_count": 9,
   "metadata": {},
   "outputs": [
    {
     "name": "stdout",
     "output_type": "stream",
     "text": [
      "55\n"
     ]
    }
   ],
   "source": [
    "list_sum = 0\n",
    "\n",
    "for num in l:\n",
    "    list_sum += num\n",
    "    \n",
    "print(list_sum)"
   ]
  },
  {
   "cell_type": "markdown",
   "metadata": {},
   "source": [
    "### Exemplo 4\n",
    "\n",
    "Nós usamos para loops com listas, e as strings? Lembre-se de que as strings são uma seqüência, então, quando iteramos através delas, estaremos acessando cada item nessa seqüência de caracteres."
   ]
  },
  {
   "cell_type": "code",
   "execution_count": 10,
   "metadata": {},
   "outputs": [
    {
     "name": "stdout",
     "output_type": "stream",
     "text": [
      "T\n",
      "h\n",
      "i\n",
      "s\n",
      " \n",
      "i\n",
      "s\n",
      " \n",
      "a\n",
      " \n",
      "s\n",
      "t\n",
      "r\n",
      "i\n",
      "n\n",
      "g\n"
     ]
    }
   ],
   "source": [
    "for letter in \"This is a string\":\n",
    "    print(letter)"
   ]
  },
  {
   "cell_type": "markdown",
   "metadata": {},
   "source": [
    "### Exemplo 5\n",
    "\n",
    "E com tuplas?"
   ]
  },
  {
   "cell_type": "code",
   "execution_count": 11,
   "metadata": {},
   "outputs": [
    {
     "name": "stdout",
     "output_type": "stream",
     "text": [
      "1\n",
      "2\n",
      "3\n",
      "4\n",
      "5\n"
     ]
    }
   ],
   "source": [
    "tup = (1, 2, 3, 4, 5)\n",
    "\n",
    "for t in tup:\n",
    "    print(t)"
   ]
  },
  {
   "cell_type": "markdown",
   "metadata": {},
   "source": [
    "### Exemplo 6\n",
    "\n",
    "As Tuplas têm uma qualidade especial quando se trata de fors. Se você está iterando através de uma seqüência que contém tuplas, o item pode realmente ser a própria tupla, este é um exemplo de desembalagem de tuplas. Durante o for, estaremos desembalando a tupla dentro de uma seqüência e podemos acessar os itens individuais dentro dessa tupla!"
   ]
  },
  {
   "cell_type": "code",
   "execution_count": 12,
   "metadata": {},
   "outputs": [],
   "source": [
    "l = [(2, 4), (6, 8), (10, 12)]"
   ]
  },
  {
   "cell_type": "code",
   "execution_count": 13,
   "metadata": {},
   "outputs": [
    {
     "name": "stdout",
     "output_type": "stream",
     "text": [
      "(2, 4)\n",
      "(6, 8)\n",
      "(10, 12)\n"
     ]
    }
   ],
   "source": [
    "for tup in l:\n",
    "    print(tup)"
   ]
  },
  {
   "cell_type": "code",
   "execution_count": 14,
   "metadata": {},
   "outputs": [
    {
     "name": "stdout",
     "output_type": "stream",
     "text": [
      "2\n",
      "6\n",
      "10\n"
     ]
    }
   ],
   "source": [
    "# agora desembalando\n",
    "for (t1, t2) in l:\n",
    "    print(t1)"
   ]
  },
  {
   "cell_type": "markdown",
   "metadata": {},
   "source": [
    "Legal! Com as tuplas em uma seqüência, podemos acessar os itens dentro deles por meio de desembalagem! A razão pela qual isso é importante é porque muitos objetos entregarão seus iterables através de tuplas. Vamos começar a explorar a iteração através de Dictionaries para explorar isso ainda mais!"
   ]
  },
  {
   "cell_type": "markdown",
   "metadata": {},
   "source": [
    "### Exemplo 7"
   ]
  },
  {
   "cell_type": "code",
   "execution_count": 15,
   "metadata": {},
   "outputs": [],
   "source": [
    "d = {'k1':1, 'k2':2, 'k3':3}"
   ]
  },
  {
   "cell_type": "code",
   "execution_count": 16,
   "metadata": {},
   "outputs": [
    {
     "name": "stdout",
     "output_type": "stream",
     "text": [
      "k1\n",
      "k2\n",
      "k3\n"
     ]
    }
   ],
   "source": [
    "for item in d:\n",
    "    print(item)"
   ]
  },
  {
   "cell_type": "markdown",
   "metadata": {},
   "source": [
    "Observe como isso produz apenas chaves. Então, como podemos obter os valores? Ou as chaves e os valores?"
   ]
  },
  {
   "cell_type": "markdown",
   "metadata": {},
   "source": [
    "#### items()\n",
    "\n",
    "Você deve usar **.items()** para iterar através das chaves e valores de um dicionário. Por exemplo:"
   ]
  },
  {
   "cell_type": "code",
   "execution_count": 17,
   "metadata": {},
   "outputs": [
    {
     "name": "stdout",
     "output_type": "stream",
     "text": [
      "k1\n",
      "1\n",
      "k2\n",
      "2\n",
      "k3\n",
      "3\n"
     ]
    }
   ],
   "source": [
    "for k, v in d.items():\n",
    "    print(k)\n",
    "    print(v)"
   ]
  },
  {
   "cell_type": "markdown",
   "metadata": {},
   "source": [
    "### Conclusão\n",
    "Aprendemos a usar para loops para iterar através de tuplas, listas, strings e dicionários. Será uma ferramenta importante para nós, portanto, certifique-se de conhecê-lo bem e compreende os exemplos acima."
   ]
  },
  {
   "cell_type": "markdown",
   "metadata": {},
   "source": [
    "## While\n",
    "\n",
    "A instrução **while** em Python é uma das formas mais gerais de executar iterações. Uma instrução **while** executará repetidamente uma única declaração ou grupo de instruções, desde que a condição seja verdadeira. A razão pela qual é chamado de \"loop\" é porque as instruções de código são roteadas repetidamente até que a condição não seja mais atendida.\n",
    "\n",
    "O formato geral de um loop while é:\n",
    "\n",
    "```\n",
    "while teste:\n",
    "    declaração de código\n",
    "else:\n",
    "    declaração de código final\n",
    "```\n",
    "\n",
    "Olhemos alguns simples do while em ação."
   ]
  },
  {
   "cell_type": "code",
   "execution_count": 18,
   "metadata": {},
   "outputs": [
    {
     "name": "stdout",
     "output_type": "stream",
     "text": [
      "x is currently:  0\n",
      " x is still less than 10, adding 1 to x\n",
      "x is currently:  1\n",
      " x is still less than 10, adding 1 to x\n",
      "x is currently:  2\n",
      " x is still less than 10, adding 1 to x\n",
      "x is currently:  3\n",
      " x is still less than 10, adding 1 to x\n",
      "x is currently:  4\n",
      " x is still less than 10, adding 1 to x\n",
      "x is currently:  5\n",
      " x is still less than 10, adding 1 to x\n",
      "x is currently:  6\n",
      " x is still less than 10, adding 1 to x\n",
      "x is currently:  7\n",
      " x is still less than 10, adding 1 to x\n",
      "x is currently:  8\n",
      " x is still less than 10, adding 1 to x\n",
      "x is currently:  9\n",
      " x is still less than 10, adding 1 to x\n"
     ]
    }
   ],
   "source": [
    "x = 0\n",
    "\n",
    "while x < 10:\n",
    "    print(\"x is currently: \", x)\n",
    "    print(\" x is still less than 10, adding 1 to x\")\n",
    "    x += 1"
   ]
  },
  {
   "cell_type": "markdown",
   "metadata": {},
   "source": [
    "Observe quantas vezes as declarações de impressão ocorreram e como o while continuou até a condição True deixasse de ser verdadeira, que ocorreu após x == 10. É importante notar que, uma vez que isso ocorreu, o código parou. Vamos ver como podemos adicionar uma outra afirmação:"
   ]
  },
  {
   "cell_type": "code",
   "execution_count": 19,
   "metadata": {},
   "outputs": [
    {
     "name": "stdout",
     "output_type": "stream",
     "text": [
      "x is currently:  0\n",
      " x is still less than 10, adding 1 to x\n",
      "x is currently:  1\n",
      " x is still less than 10, adding 1 to x\n",
      "x is currently:  2\n",
      " x is still less than 10, adding 1 to x\n",
      "x is currently:  3\n",
      " x is still less than 10, adding 1 to x\n",
      "x is currently:  4\n",
      " x is still less than 10, adding 1 to x\n",
      "x is currently:  5\n",
      " x is still less than 10, adding 1 to x\n",
      "x is currently:  6\n",
      " x is still less than 10, adding 1 to x\n",
      "x is currently:  7\n",
      " x is still less than 10, adding 1 to x\n",
      "x is currently:  8\n",
      " x is still less than 10, adding 1 to x\n",
      "x is currently:  9\n",
      " x is still less than 10, adding 1 to x\n",
      "All Done!\n"
     ]
    }
   ],
   "source": [
    "x = 0\n",
    "\n",
    "while x < 10:\n",
    "    print(\"x is currently: \", x)\n",
    "    print(\" x is still less than 10, adding 1 to x\")\n",
    "    x += 1\n",
    "else:\n",
    "    print(\"All Done!\")"
   ]
  },
  {
   "cell_type": "markdown",
   "metadata": {},
   "source": [
    "### break, continue, pass\n",
    "\n",
    "Podemos usar as declarações break, continue e pass em nossos loops para adicionar funcionalidades adicionais para vários casos. As três declarações são definidas por:\n",
    "\n",
    "- break: para o loop\n",
    "- continue: vai para o próximo loop\n",
    "- pass: não faz nada\n",
    "\n",
    "Vamos ver alguns exemplos!"
   ]
  },
  {
   "cell_type": "code",
   "execution_count": 20,
   "metadata": {},
   "outputs": [
    {
     "name": "stdout",
     "output_type": "stream",
     "text": [
      "x is currently:  0\n",
      " x is still less than 10, adding 1 to x\n",
      "continuing...\n",
      "x is currently:  1\n",
      " x is still less than 10, adding 1 to x\n",
      "continuing...\n",
      "x is currently:  2\n",
      " x is still less than 10, adding 1 to x\n",
      "x == 3\n",
      "x is currently:  3\n",
      " x is still less than 10, adding 1 to x\n",
      "continuing...\n",
      "x is currently:  4\n",
      " x is still less than 10, adding 1 to x\n",
      "continuing...\n",
      "x is currently:  5\n",
      " x is still less than 10, adding 1 to x\n",
      "continuing...\n",
      "x is currently:  6\n",
      " x is still less than 10, adding 1 to x\n",
      "continuing...\n",
      "x is currently:  7\n",
      " x is still less than 10, adding 1 to x\n",
      "continuing...\n",
      "x is currently:  8\n",
      " x is still less than 10, adding 1 to x\n",
      "continuing...\n",
      "x is currently:  9\n",
      " x is still less than 10, adding 1 to x\n",
      "continuing...\n"
     ]
    }
   ],
   "source": [
    "x = 0\n",
    "\n",
    "while x < 10:\n",
    "    print(\"x is currently: \", x)\n",
    "    print(\" x is still less than 10, adding 1 to x\")\n",
    "    x += 1\n",
    "    if x == 3:\n",
    "        print(\"x == 3\")\n",
    "    else:\n",
    "        print(\"continuing...\")\n",
    "        continue"
   ]
  },
  {
   "cell_type": "markdown",
   "metadata": {},
   "source": [
    "Observe como temos uma declaração impressa quando x == 3 e continuamos imprimindo enquanto continuamos através do while. Vamos fazer uma pausa uma vez x == 3 e ver se o resultado faz sentido:"
   ]
  },
  {
   "cell_type": "code",
   "execution_count": 21,
   "metadata": {},
   "outputs": [
    {
     "name": "stdout",
     "output_type": "stream",
     "text": [
      "x is currently:  0\n",
      " x is still less than 10, adding 1 to x\n",
      "continuing...\n",
      "x is currently:  1\n",
      " x is still less than 10, adding 1 to x\n",
      "continuing...\n",
      "x is currently:  2\n",
      " x is still less than 10, adding 1 to x\n",
      "Breaking because x == 3\n"
     ]
    }
   ],
   "source": [
    "x = 0\n",
    "\n",
    "while x < 10:\n",
    "    print(\"x is currently: \", x)\n",
    "    print(\" x is still less than 10, adding 1 to x\")\n",
    "    x += 1\n",
    "    if x == 3:\n",
    "        print(\"Breaking because x == 3\")\n",
    "        break\n",
    "    else:\n",
    "        print(\"continuing...\")\n",
    "        continue"
   ]
  },
  {
   "cell_type": "markdown",
   "metadata": {},
   "source": [
    "Observe a declaração else não foi alcançada e a continuação nunca foi impressa! Após esses exemplos breves e simples, você deve se sentir confortável ao usar as instruções em seu código.\n",
    "\n",
    "**Uma observação importante! É possível criar um ciclo de execução infinita com instruções while. Por exemplo:**\n",
    "\n",
    "**ATENÇÃO, LOOP INFINITO! NÃO EXECUTAR**"
   ]
  },
  {
   "cell_type": "code",
   "execution_count": 22,
   "metadata": {},
   "outputs": [],
   "source": [
    "# ATENÇÃO NÃO RODE O CÓDIGO. É LOOP INFINITO!\n",
    "# while True:\n",
    "#     print(\"Uh OH infinite loop!\")"
   ]
  },
  {
   "cell_type": "markdown",
   "metadata": {},
   "source": [
    "## range()\n",
    "\n",
    "Nesta palestra curta estaremos discutindo a função range(). Ainda não desenvolvemos um nível muito profundo de conhecimento de funções, mas podemos entender o básico desta função simples (mas extremamente útil!).\n",
    "\n",
    "range() nos permite criar uma lista de números que variam de um ponto de partida até um ponto final. Também podemos especificar o tamanho do passo. Vamos percorrer alguns exemplos:"
   ]
  },
  {
   "cell_type": "code",
   "execution_count": 1,
   "metadata": {},
   "outputs": [
    {
     "data": {
      "text/plain": [
       "range(0, 10)"
      ]
     },
     "execution_count": 1,
     "metadata": {},
     "output_type": "execute_result"
    }
   ],
   "source": [
    "range(0, 10)"
   ]
  },
  {
   "cell_type": "code",
   "execution_count": 2,
   "metadata": {},
   "outputs": [
    {
     "data": {
      "text/plain": [
       "range"
      ]
     },
     "execution_count": 2,
     "metadata": {},
     "output_type": "execute_result"
    }
   ],
   "source": [
    "x = range(0, 10)\n",
    "type(x)"
   ]
  },
  {
   "cell_type": "code",
   "execution_count": 4,
   "metadata": {},
   "outputs": [
    {
     "data": {
      "text/plain": [
       "[0, 1, 2, 3, 4, 5, 6, 7, 8, 9, 10, 11, 12, 13, 14, 15, 16, 17, 18, 19]"
      ]
     },
     "execution_count": 4,
     "metadata": {},
     "output_type": "execute_result"
    }
   ],
   "source": [
    "start = 0\n",
    "stop = 20\n",
    "x = range(start, stop)\n",
    "list(x)"
   ]
  },
  {
   "cell_type": "markdown",
   "metadata": {},
   "source": [
    "Ótimo! Observe como foi até 20, mas na verdade não produz 20. Assim como na indexação. E o tamanho do passo? Podemos especificar isso como um terceiro argumento:"
   ]
  },
  {
   "cell_type": "code",
   "execution_count": 5,
   "metadata": {},
   "outputs": [
    {
     "name": "stdout",
     "output_type": "stream",
     "text": [
      "range(0, 20, 2)\n"
     ]
    }
   ],
   "source": [
    "x = range(start, stop, 2)\n",
    "print(x)"
   ]
  },
  {
   "cell_type": "code",
   "execution_count": 6,
   "metadata": {},
   "outputs": [
    {
     "data": {
      "text/plain": [
       "[0, 2, 4, 6, 8, 10, 12, 14, 16, 18]"
      ]
     },
     "execution_count": 6,
     "metadata": {},
     "output_type": "execute_result"
    }
   ],
   "source": [
    "list(x)"
   ]
  },
  {
   "cell_type": "markdown",
   "metadata": {},
   "source": [
    "Impressionante! Bem, é isso ... ou não?\n",
    "\n",
    "Você pode estar se perguntando, o que acontece se eu quiser usar uma grande variedade de números? O meu computador pode armazenar tudo na memória?\n",
    "\n",
    "Grande pensamento! Este é um dilema que pode ser resolvido com o uso de um gerador. Para uma explicação simplificada: um gerador permite a geração de objetos gerados que são fornecidos naquela instância, mas não armazena cada instância gerada na memória.\n",
    "\n",
    "Isso significa que um gerador não criaria uma lista ao gerar um range(), mas, em vez disso, fornece uma geração única dos números nesse intervalo. A boa notítica é que range() se comporta como um gerador e você não precisa se preocupar com isso."
   ]
  },
  {
   "cell_type": "markdown",
   "metadata": {},
   "source": [
    "## Compreensão em listas\n",
    "\n",
    "Além das operações de sequência e métodos de lista, o Python inclui uma operação mais avançada chamada de compreensão de lista.\n",
    "\n",
    "As compreensões de lista nos permitem construir listas usando uma notação diferente. Você pode pensar nisso essencialmente como um loop construído dentro de colchetes. Um exemplo simples:"
   ]
  },
  {
   "cell_type": "markdown",
   "metadata": {},
   "source": [
    "### Exemplo 1"
   ]
  },
  {
   "cell_type": "code",
   "execution_count": 1,
   "metadata": {},
   "outputs": [
    {
     "name": "stdout",
     "output_type": "stream",
     "text": [
      "['w', 'o', 'r', 'd']\n"
     ]
    }
   ],
   "source": [
    "# pega todas as letras em uma string\n",
    "lst = [x for x in \"word\"]\n",
    "print(lst)"
   ]
  },
  {
   "cell_type": "markdown",
   "metadata": {},
   "source": [
    "### Exemplo 2"
   ]
  },
  {
   "cell_type": "code",
   "execution_count": 8,
   "metadata": {},
   "outputs": [
    {
     "name": "stdout",
     "output_type": "stream",
     "text": [
      "[0, 1, 4, 9, 16, 25, 36, 49, 64, 81, 100]\n"
     ]
    }
   ],
   "source": [
    "# eleva o quadrado itens no range e o transforma em lista\n",
    "lst = [pow(x, 2) for x in range(0, 11)]\n",
    "print(lst)"
   ]
  },
  {
   "cell_type": "markdown",
   "metadata": {},
   "source": [
    "### Exemplo 3\n",
    "\n",
    "Vamos ver como adicionar usando if:"
   ]
  },
  {
   "cell_type": "code",
   "execution_count": 9,
   "metadata": {},
   "outputs": [
    {
     "name": "stdout",
     "output_type": "stream",
     "text": [
      "[0, 2, 4, 6, 8, 10]\n"
     ]
    }
   ],
   "source": [
    "# cria uma lista de números pares utilizando para isso o if\n",
    "lst = [x for x in range(11) if x % 2 == 0]\n",
    "print(lst)"
   ]
  },
  {
   "cell_type": "markdown",
   "metadata": {},
   "source": [
    "### Exemplo 4\n",
    "\n",
    "Também pode fazer operações aritméticas mais complicadas:"
   ]
  },
  {
   "cell_type": "code",
   "execution_count": 10,
   "metadata": {},
   "outputs": [
    {
     "name": "stdout",
     "output_type": "stream",
     "text": [
      "[32.0, 50.0, 68.18, 94.1]\n"
     ]
    }
   ],
   "source": [
    "# converte celsius para fahrenheit\n",
    "celsius = [0, 10, 20.1, 34.5]\n",
    "\n",
    "fahrenheit = [((float(9) / 5) * temp + 32) for temp in celsius]\n",
    "\n",
    "print(fahrenheit)"
   ]
  },
  {
   "cell_type": "markdown",
   "metadata": {},
   "source": [
    "### Exemplo 5\n",
    "\n",
    "Também podemos realizar compreensões de lista aninhadas:"
   ]
  },
  {
   "cell_type": "code",
   "execution_count": 12,
   "metadata": {},
   "outputs": [
    {
     "name": "stdout",
     "output_type": "stream",
     "text": [
      "[0, 1, 16, 81, 256, 625, 1296, 2401, 4096, 6561, 10000]\n"
     ]
    }
   ],
   "source": [
    "lst = [pow(x, 2) for x in [pow(x, 2) for x in range(11)]]\n",
    "print(lst)"
   ]
  },
  {
   "cell_type": "markdown",
   "metadata": {},
   "source": [
    "Mais tarde, no curso, aprenderemos sobre compreensões do gerador. Após esta palestra, você deve se sentir confortável em ler e escrever compreensões de lista básica."
   ]
  },
  {
   "cell_type": "markdown",
   "metadata": {},
   "source": [
    "## Teste de avaliação de declarações"
   ]
  },
  {
   "cell_type": "markdown",
   "metadata": {},
   "source": [
    "Use **for**, **split()** e **if** para criar uma declaração que imprima as palavras que começam com 's':"
   ]
  },
  {
   "cell_type": "code",
   "execution_count": 13,
   "metadata": {},
   "outputs": [],
   "source": [
    "st = \"Print only the words that start with s in this sentence\""
   ]
  },
  {
   "cell_type": "code",
   "execution_count": 22,
   "metadata": {},
   "outputs": [
    {
     "name": "stdout",
     "output_type": "stream",
     "text": [
      "start\n",
      "s\n",
      "sentence\n"
     ]
    }
   ],
   "source": [
    "listaS = st.split()\n",
    "\n",
    "for words in listaS:\n",
    "    if words[0] == 's':\n",
    "        print(words)"
   ]
  },
  {
   "cell_type": "markdown",
   "metadata": {},
   "source": [
    "Use **range()** para imprimir todos os números pares de 0 a 10."
   ]
  },
  {
   "cell_type": "code",
   "execution_count": 23,
   "metadata": {},
   "outputs": [
    {
     "name": "stdout",
     "output_type": "stream",
     "text": [
      "0\n",
      "2\n",
      "4\n",
      "6\n",
      "8\n",
      "10\n"
     ]
    }
   ],
   "source": [
    "for num_pares in range(11):\n",
    "    if num_pares % 2 == 0:\n",
    "        print(num_pares)"
   ]
  },
  {
   "cell_type": "markdown",
   "metadata": {},
   "source": [
    "Use a compreensão de lista para criar uma lista de todos os números entre 1 e 50 que são divisíveis por 3."
   ]
  },
  {
   "cell_type": "code",
   "execution_count": 26,
   "metadata": {},
   "outputs": [
    {
     "name": "stdout",
     "output_type": "stream",
     "text": [
      "[3, 6, 9, 12, 15, 18, 21, 24, 27, 30, 33, 36, 39, 42, 45, 48]\n"
     ]
    }
   ],
   "source": [
    "listaD = [n for n in range(1, 51) if n % 3 == 0]\n",
    "print(listaD)"
   ]
  },
  {
   "cell_type": "markdown",
   "metadata": {},
   "source": [
    "Percorra a string abaixo e se o comprimento de uma palavra for par imprima \"é par!\""
   ]
  },
  {
   "cell_type": "code",
   "execution_count": 27,
   "metadata": {},
   "outputs": [],
   "source": [
    "st = \"Print every word in this sentence that has an even number of letters\""
   ]
  },
  {
   "cell_type": "code",
   "execution_count": 35,
   "metadata": {},
   "outputs": [
    {
     "name": "stdout",
     "output_type": "stream",
     "text": [
      "word: é par!\n",
      "in: é par!\n",
      "this: é par!\n",
      "sentence: é par!\n",
      "that: é par!\n",
      "an: é par!\n",
      "even: é par!\n",
      "number: é par!\n",
      "of: é par!\n"
     ]
    }
   ],
   "source": [
    "listaS = st.split()\n",
    "\n",
    "for words in listaS:\n",
    "    if len(words) % 2 == 0:\n",
    "        print(words + \": é par!\")"
   ]
  },
  {
   "cell_type": "markdown",
   "metadata": {},
   "source": [
    "Escreva um programa que imprima os números inteiros de 1 a 100. Para múltiplos de três imprima \"Fizz\" ao ivés do número, e para os múltiplos de cinco imprima \"Buzz\". Para números que são múltiplos de três e cinco imprima \"FizzBuzz\". "
   ]
  },
  {
   "cell_type": "code",
   "execution_count": 42,
   "metadata": {},
   "outputs": [
    {
     "name": "stdout",
     "output_type": "stream",
     "text": [
      "1\n",
      "2\n",
      "Fizz\n",
      "4\n",
      "Buzz\n",
      "Fizz\n",
      "7\n",
      "8\n",
      "Fizz\n",
      "Buzz\n",
      "11\n",
      "Fizz\n",
      "13\n",
      "14\n",
      "FizzBuzz\n",
      "16\n",
      "17\n",
      "Fizz\n",
      "19\n",
      "Buzz\n"
     ]
    }
   ],
   "source": [
    "# até 100 é muito, faz até 20 que está ótimo\n",
    "\n",
    "for num in range(1, 21):\n",
    "    if (num % 3 == 0) and (num % 5 == 0):\n",
    "        print(\"FizzBuzz\")\n",
    "    elif num % 3 == 0:\n",
    "        print(\"Fizz\")\n",
    "    elif num % 5 == 0:\n",
    "        print(\"Buzz\")\n",
    "    else:\n",
    "        print(num)"
   ]
  },
  {
   "cell_type": "markdown",
   "metadata": {},
   "source": [
    "Use Compreensão em listas para criar uma lista das primeiras letras de cada palavra na string abaixo:"
   ]
  },
  {
   "cell_type": "code",
   "execution_count": 43,
   "metadata": {},
   "outputs": [],
   "source": [
    "st = \"Create a list of the first letters of every word in this string\""
   ]
  },
  {
   "cell_type": "code",
   "execution_count": 48,
   "metadata": {},
   "outputs": [
    {
     "name": "stdout",
     "output_type": "stream",
     "text": [
      "['C', 'a', 'l', 'o', 't', 'f', 'l', 'o', 'e', 'w', 'i', 't', 's']\n"
     ]
    }
   ],
   "source": [
    "listaS = st.split()\n",
    "\n",
    "listaL = [letra[0] for letra in listaS]\n",
    "print(listaL)"
   ]
  },
  {
   "cell_type": "markdown",
   "metadata": {
    "id": "0qXAtdyo0k-u"
   },
   "source": [
    "---"
   ]
  }
 ],
 "metadata": {
  "colab": {
   "name": "UDEMY - PYTHON 3 COMPLETO.ipynb",
   "provenance": [],
   "toc_visible": true
  },
  "kernelspec": {
   "display_name": "Python 3",
   "language": "python",
   "name": "python3"
  },
  "language_info": {
   "codemirror_mode": {
    "name": "ipython",
    "version": 3
   },
   "file_extension": ".py",
   "mimetype": "text/x-python",
   "name": "python",
   "nbconvert_exporter": "python",
   "pygments_lexer": "ipython3",
   "version": "3.8.5"
  },
  "toc-autonumbering": false,
  "toc-showcode": false,
  "toc-showmarkdowntxt": false,
  "toc-showtags": false
 },
 "nbformat": 4,
 "nbformat_minor": 4
}
