{
 "cells": [
  {
   "cell_type": "markdown",
   "metadata": {},
   "source": [
    "# UDEMY - Python 3 COMPLETO\n",
    "---"
   ]
  },
  {
   "cell_type": "markdown",
   "metadata": {},
   "source": [
    "## Métodos\n",
    "\n",
    "Já vimos alguns exemplos de métodos ao aprender sobre Tipos de Estrutura de Objetos e Dados em Python. Os métodos são essencialmente funções incorporadas em objetos. Mais tarde, no curso, aprenderemos sobre como criar nossos próprios objetos e métodos usando a programação orientada a objetos (OOP) e as classes.\n",
    "\n",
    "Os métodos irão realizar ações específicas no objeto e também podem ter argumentos, assim como uma função. Esta palestra servirá apenas como uma breve introdução aos métodos e levará você a pensar em métodos de projeto globais sobre os quais retornaremos quando chegarmos ao OOP no curso.\n",
    "\n",
    "Os métodos estão na forma:\n",
    "\n",
    "```\n",
    "object.method (arg1, arg2, etc ...)\n",
    "```\n",
    "     \n",
    "Mais tarde você verá que alguns métodos têm um argumento \"self\" referente ao próprio objeto. Você não pode ver este argumento, mas vamos usá-lo mais tarde no curso durante as palestras OOP.\n",
    "\n",
    "Vamos dar uma rápida olhada em um exemplo dos vários métodos que uma lista possui:"
   ]
  },
  {
   "cell_type": "code",
   "execution_count": 3,
   "metadata": {},
   "outputs": [
    {
     "name": "stdout",
     "output_type": "stream",
     "text": [
      "[1, 2, 3, 4, 5]\n"
     ]
    }
   ],
   "source": [
    "# criar uma lista simples\n",
    "l = [1, 2, 3, 4, 5]\n",
    "print(l)"
   ]
  },
  {
   "cell_type": "markdown",
   "metadata": {},
   "source": [
    "Felizmente, com o *iPython* e o *Jupyter Notebook*, podemos ver rapidamente todos os métodos possíveis usando a tecla *Tab*. Os métodos para uma lista são:\n",
    "\n",
    "- append\n",
    "- count\n",
    "- extend\n",
    "- insert\n",
    "- pop\n",
    "- remove\n",
    "- reverse\n",
    "- sort\n",
    "\n",
    "Vamos tentar alguns deles:\n",
    "\n",
    "**append()** nos permite adicionar elementos ao final de uma lista:"
   ]
  },
  {
   "cell_type": "code",
   "execution_count": 2,
   "metadata": {},
   "outputs": [
    {
     "name": "stdout",
     "output_type": "stream",
     "text": [
      "[1, 2, 3, 4, 5, 6]\n"
     ]
    }
   ],
   "source": [
    "l.append(6)\n",
    "print(l)"
   ]
  },
  {
   "cell_type": "markdown",
   "metadata": {},
   "source": [
    "Ótimo! Agora, e o **count()**? O método count() irá contar o número de ocorrências de um elemento em uma lista."
   ]
  },
  {
   "cell_type": "code",
   "execution_count": 5,
   "metadata": {},
   "outputs": [
    {
     "data": {
      "text/plain": [
       "1"
      ]
     },
     "execution_count": 5,
     "metadata": {},
     "output_type": "execute_result"
    }
   ],
   "source": [
    "# conta quantas vezes o 2 aparede na lista\n",
    "l.count(2)"
   ]
  },
  {
   "cell_type": "markdown",
   "metadata": {},
   "source": [
    "Você sempre pode usar *Shift + Tab* no *Jupyter Notebook* para obter mais ajuda sobre o método. Em geral, *Python* lhe permite usar a função **help()**:"
   ]
  },
  {
   "cell_type": "code",
   "execution_count": 6,
   "metadata": {},
   "outputs": [
    {
     "name": "stdout",
     "output_type": "stream",
     "text": [
      "Help on built-in function count:\n",
      "\n",
      "count(value, /) method of builtins.list instance\n",
      "    Return number of occurrences of value.\n",
      "\n"
     ]
    }
   ],
   "source": [
    "help(l.count)"
   ]
  },
  {
   "cell_type": "markdown",
   "metadata": {},
   "source": [
    "Sinta-se livre para testar o resto dos métodos para uma lista. Mais tarde, nesta seção, seu questionário envolverá a utilização de ajuda e o *Google* buscando métodos de diferentes tipos de objetos!"
   ]
  }
 ],
 "metadata": {
  "kernelspec": {
   "display_name": "Python 3",
   "language": "python",
   "name": "python3"
  },
  "language_info": {
   "codemirror_mode": {
    "name": "ipython",
    "version": 3
   },
   "file_extension": ".py",
   "mimetype": "text/x-python",
   "name": "python",
   "nbconvert_exporter": "python",
   "pygments_lexer": "ipython3",
   "version": "3.8.5"
  }
 },
 "nbformat": 4,
 "nbformat_minor": 4
}
