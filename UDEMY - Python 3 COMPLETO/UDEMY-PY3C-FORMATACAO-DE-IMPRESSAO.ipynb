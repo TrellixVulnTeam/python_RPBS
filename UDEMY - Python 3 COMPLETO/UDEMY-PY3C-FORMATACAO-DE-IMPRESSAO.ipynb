{
 "cells": [
  {
   "cell_type": "markdown",
   "metadata": {
    "id": "Q7XdrwOy0k-I"
   },
   "source": [
    "# UDEMY - Python 3 COMPLETO\n",
    "---"
   ]
  },
  {
   "cell_type": "markdown",
   "metadata": {
    "id": "uPDcYCXj0k-u"
   },
   "source": [
    "## Formatação de Impressão\n",
    "\n",
    "Nesta aula, abordaremos brevemente as várias maneiras de formatar suas declarações impressas. À medida que você codifica mais e mais, você provavelmente deseja ter declarações de impressão que possam incluir uma variável em uma declaração de string impressa.\n",
    "\n",
    "O exemplo mais básico de uma declaração de impressão é:"
   ]
  },
  {
   "cell_type": "code",
   "execution_count": 1,
   "metadata": {
    "colab": {
     "base_uri": "https://localhost:8080/"
    },
    "id": "0xAlhEuU98t0",
    "outputId": "656c4d7b-1c7d-4acf-8158-781a117ffb6b"
   },
   "outputs": [
    {
     "name": "stdout",
     "output_type": "stream",
     "text": [
      "This is a string\n"
     ]
    }
   ],
   "source": [
    "print(\"This is a string\")"
   ]
  },
  {
   "cell_type": "markdown",
   "metadata": {
    "id": "O_ib4hzP-WLl"
   },
   "source": [
    "### Strings\r\n",
    "Você pode usar o %s para formatar strings em suas funções de impressão."
   ]
  },
  {
   "cell_type": "code",
   "execution_count": 2,
   "metadata": {
    "colab": {
     "base_uri": "https://localhost:8080/"
    },
    "id": "2xYd0Y0--0yl",
    "outputId": "ff4ea6e7-fbd5-4dbd-f7d7-d1560a435782"
   },
   "outputs": [
    {
     "name": "stdout",
     "output_type": "stream",
     "text": [
      "Place another string with a mod and s: STRING\n"
     ]
    }
   ],
   "source": [
    "frase = \"STRING\"\r\n",
    "print(\"Place another string with a mod and s: %s\" %(frase))"
   ]
  },
  {
   "cell_type": "markdown",
   "metadata": {
    "id": "A_XbBv0y_nF2"
   },
   "source": [
    "### Números de ponto flutuante\r\n",
    "Os números de ponto flutuante usam o formato %n1.n2f onde o n1 é o número mínimo total de dígitos que a cadeia deve conter (estes podem ser preenchidos com espaço em branco se o número inteiro não tiver esses muitos dígitos. O espaço reservado n2 significa quantos números para mostrar após o ponto decimal. Vamos ver alguns exemplos:"
   ]
  },
  {
   "cell_type": "code",
   "execution_count": 3,
   "metadata": {
    "colab": {
     "base_uri": "https://localhost:8080/"
    },
    "id": "OId4_HIw_31V",
    "outputId": "95939e2a-a05f-46c5-bad4-a4736b811587"
   },
   "outputs": [
    {
     "name": "stdout",
     "output_type": "stream",
     "text": [
      "Floating point number: 13.14\n"
     ]
    }
   ],
   "source": [
    "print(\"Floating point number: %1.2f\" %(13.144))"
   ]
  },
  {
   "cell_type": "code",
   "execution_count": 4,
   "metadata": {
    "colab": {
     "base_uri": "https://localhost:8080/"
    },
    "id": "x95UDXe_CF3s",
    "outputId": "91532893-f5fb-4900-b996-8ee61885afd2"
   },
   "outputs": [
    {
     "name": "stdout",
     "output_type": "stream",
     "text": [
      "Floating point number: 13\n"
     ]
    }
   ],
   "source": [
    "print(\"Floating point number: %1.0f\" %(13.144))"
   ]
  },
  {
   "cell_type": "code",
   "execution_count": 5,
   "metadata": {
    "colab": {
     "base_uri": "https://localhost:8080/"
    },
    "id": "s29NNgZGCXtb",
    "outputId": "6abc61e2-e65c-4c1c-d526-9991c1dc8415"
   },
   "outputs": [
    {
     "name": "stdout",
     "output_type": "stream",
     "text": [
      "Floating point number: 13.14400\n"
     ]
    }
   ],
   "source": [
    "print(\"Floating point number: %1.5f\" %(13.144))"
   ]
  },
  {
   "cell_type": "code",
   "execution_count": 6,
   "metadata": {
    "colab": {
     "base_uri": "https://localhost:8080/"
    },
    "id": "RXrz_SfGCes2",
    "outputId": "dd3e8e79-698b-42a6-d17a-909df9c3ea86"
   },
   "outputs": [
    {
     "name": "stdout",
     "output_type": "stream",
     "text": [
      "Floating point number:      13.14\n"
     ]
    }
   ],
   "source": [
    "print(\"Floating point number: %10.2f\" %(13.144))"
   ]
  },
  {
   "cell_type": "code",
   "execution_count": 8,
   "metadata": {
    "colab": {
     "base_uri": "https://localhost:8080/"
    },
    "id": "qwz0CTHQClaw",
    "outputId": "7198f693-7008-44d7-9cc4-995b99d2b0a5"
   },
   "outputs": [
    {
     "name": "stdout",
     "output_type": "stream",
     "text": [
      "Floating point number:                     13.14\n"
     ]
    }
   ],
   "source": [
    "print(\"Floating point number: %25.2f\" %(13.144))"
   ]
  },
  {
   "cell_type": "markdown",
   "metadata": {
    "id": "Ijj9HbibCwX2"
   },
   "source": [
    "### Métodos de formato de conversão.\r\n",
    "Deve notar-se que dois métodos %s e %r realmente convertem qualquer objeto python em uma string usando dois métodos separados: str() e repr(). Aprenderemos mais sobre essas funções mais tarde no curso, mas você deve notar que você pode realmente passar quase qualquer objeto Python com esses dois métodos e funcionará:"
   ]
  },
  {
   "cell_type": "code",
   "execution_count": 12,
   "metadata": {
    "colab": {
     "base_uri": "https://localhost:8080/"
    },
    "id": "_OGnLjL8CqQr",
    "outputId": "cfe5be4e-cf63-4a54-c713-565a452ede78"
   },
   "outputs": [
    {
     "name": "stdout",
     "output_type": "stream",
     "text": [
      "Here is a number: 123.1. Here is a string: hi\n"
     ]
    }
   ],
   "source": [
    "print(\"Here is a number: %s. Here is a string: %s\" %(123.1, \"hi\"))"
   ]
  },
  {
   "cell_type": "code",
   "execution_count": 13,
   "metadata": {
    "colab": {
     "base_uri": "https://localhost:8080/"
    },
    "id": "Ak0SkFGaGZ4g",
    "outputId": "e2b472b0-33e3-4bb3-c0b7-f648cd59510e"
   },
   "outputs": [
    {
     "name": "stdout",
     "output_type": "stream",
     "text": [
      "Here is a number: 123.1. Here is a string: 'hi'\n"
     ]
    }
   ],
   "source": [
    "print(\"Here is a number: %r. Here is a string: %r\" %(123.1, \"hi\"))"
   ]
  },
  {
   "cell_type": "markdown",
   "metadata": {
    "id": "CRCe0opLHgiF"
   },
   "source": [
    "### Formatação múltipla\r\n",
    "Passe uma tupla para junto com o símbolo do módulo para colocar vários formatos nas suas declarações de impressão:"
   ]
  },
  {
   "cell_type": "code",
   "execution_count": 14,
   "metadata": {
    "colab": {
     "base_uri": "https://localhost:8080/"
    },
    "id": "wn2xey4rHEzf",
    "outputId": "8d7e3530-9150-4d9a-a572-670c539fc6eb"
   },
   "outputs": [
    {
     "name": "stdout",
     "output_type": "stream",
     "text": [
      "First: Hi!, Second: 3.14, Third: 22\n"
     ]
    }
   ],
   "source": [
    "print(\"First: %s, Second: %1.2f, Third: %r\" %(\"Hi!\", 3.14, 22))"
   ]
  },
  {
   "cell_type": "markdown",
   "metadata": {
    "id": "ZlyqhdBETKBj"
   },
   "source": [
    "### Usando o método string.format ()\r\n",
    "A melhor maneira de formatar objetos em suas strings para instruções de impressão é usar o método format(). A sintaxe é:\r\n",
    "\r\n",
    "> 'String aqui {var1} e também {var2}'.format(var1 = 'something1', var2 = 'something2')\r\n",
    "\r\n",
    "Vamos ver alguns exemplos:"
   ]
  },
  {
   "cell_type": "code",
   "execution_count": 15,
   "metadata": {
    "colab": {
     "base_uri": "https://localhost:8080/"
    },
    "id": "NSFMPp8iIM4u",
    "outputId": "ab380215-d771-43e6-b84c-cf470f9d5b58"
   },
   "outputs": [
    {
     "name": "stdout",
     "output_type": "stream",
     "text": [
      "This is a string with a insert\n"
     ]
    }
   ],
   "source": [
    "print(\"This is a string with a {p}\".format(p=\"insert\"))"
   ]
  },
  {
   "cell_type": "code",
   "execution_count": 16,
   "metadata": {
    "colab": {
     "base_uri": "https://localhost:8080/"
    },
    "id": "OWtIs5xDT560",
    "outputId": "0e74f32b-cdcd-4d6f-e183-fb90e434cfca"
   },
   "outputs": [
    {
     "name": "stdout",
     "output_type": "stream",
     "text": [
      "One: hi!, Two: hi!, Three: hi!\n"
     ]
    }
   ],
   "source": [
    "print(\"One: {p}, Two: {p}, Three: {p}\".format(p=\"hi!\"))"
   ]
  },
  {
   "cell_type": "code",
   "execution_count": 17,
   "metadata": {
    "colab": {
     "base_uri": "https://localhost:8080/"
    },
    "id": "GfivQPrHUZRK",
    "outputId": "8e920572-fd9d-4e12-d9c1-6948d45f0323"
   },
   "outputs": [
    {
     "name": "stdout",
     "output_type": "stream",
     "text": [
      "Object 1: 1, Object 2: two, Object 3: 12.3\n"
     ]
    }
   ],
   "source": [
    "print(\"Object 1: {a}, Object 2: {b}, Object 3: {c}\".format(a=1, b=\"two\", c=12.3))"
   ]
  },
  {
   "cell_type": "markdown",
   "metadata": {
    "id": "34-X9oPnVUbX"
   },
   "source": [
    "Esse é o básico da formatação de seqüência de caracteres!"
   ]
  },
  {
   "cell_type": "markdown",
   "metadata": {
    "id": "-U8VyXCWhULJ"
   },
   "source": [
    "**Dica sobre formatação de impressão:**\r\n",
    "\r\n",
    "> Segue um excelente site com dicas adicionais sobre formatação de impressão:\r\n",
    "https://pyformat.info/"
   ]
  }
 ],
 "metadata": {
  "colab": {
   "name": "UDEMY - PYTHON 3 COMPLETO.ipynb",
   "provenance": [],
   "toc_visible": true
  },
  "kernelspec": {
   "display_name": "Python 3",
   "language": "python",
   "name": "python3"
  },
  "language_info": {
   "codemirror_mode": {
    "name": "ipython",
    "version": 3
   },
   "file_extension": ".py",
   "mimetype": "text/x-python",
   "name": "python",
   "nbconvert_exporter": "python",
   "pygments_lexer": "ipython3",
   "version": "3.8.5"
  },
  "toc-autonumbering": false,
  "toc-showcode": false,
  "toc-showmarkdowntxt": false,
  "toc-showtags": false
 },
 "nbformat": 4,
 "nbformat_minor": 4
}
