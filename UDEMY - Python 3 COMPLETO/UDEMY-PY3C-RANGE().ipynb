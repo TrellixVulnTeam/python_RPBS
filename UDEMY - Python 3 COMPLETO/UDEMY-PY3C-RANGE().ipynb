{
 "cells": [
  {
   "cell_type": "markdown",
   "metadata": {
    "id": "Q7XdrwOy0k-I"
   },
   "source": [
    "# UDEMY - Python 3 COMPLETO\n",
    "---"
   ]
  },
  {
   "cell_type": "markdown",
   "metadata": {},
   "source": [
    "## range()\n",
    "\n",
    "Nesta palestra curta estaremos discutindo a função range(). Ainda não desenvolvemos um nível muito profundo de conhecimento de funções, mas podemos entender o básico desta função simples (mas extremamente útil!).\n",
    "\n",
    "range() nos permite criar uma lista de números que variam de um ponto de partida até um ponto final. Também podemos especificar o tamanho do passo. Vamos percorrer alguns exemplos:"
   ]
  },
  {
   "cell_type": "code",
   "execution_count": 1,
   "metadata": {},
   "outputs": [
    {
     "data": {
      "text/plain": [
       "range(0, 10)"
      ]
     },
     "execution_count": 1,
     "metadata": {},
     "output_type": "execute_result"
    }
   ],
   "source": [
    "range(0, 10)"
   ]
  },
  {
   "cell_type": "code",
   "execution_count": 2,
   "metadata": {},
   "outputs": [
    {
     "data": {
      "text/plain": [
       "range"
      ]
     },
     "execution_count": 2,
     "metadata": {},
     "output_type": "execute_result"
    }
   ],
   "source": [
    "x = range(0, 10)\n",
    "type(x)"
   ]
  },
  {
   "cell_type": "code",
   "execution_count": 4,
   "metadata": {},
   "outputs": [
    {
     "data": {
      "text/plain": [
       "[0, 1, 2, 3, 4, 5, 6, 7, 8, 9, 10, 11, 12, 13, 14, 15, 16, 17, 18, 19]"
      ]
     },
     "execution_count": 4,
     "metadata": {},
     "output_type": "execute_result"
    }
   ],
   "source": [
    "start = 0\n",
    "stop = 20\n",
    "x = range(start, stop)\n",
    "list(x)"
   ]
  },
  {
   "cell_type": "markdown",
   "metadata": {},
   "source": [
    "Ótimo! Observe como foi até 20, mas na verdade não produz 20. Assim como na indexação. E o tamanho do passo? Podemos especificar isso como um terceiro argumento:"
   ]
  },
  {
   "cell_type": "code",
   "execution_count": 5,
   "metadata": {},
   "outputs": [
    {
     "name": "stdout",
     "output_type": "stream",
     "text": [
      "range(0, 20, 2)\n"
     ]
    }
   ],
   "source": [
    "x = range(start, stop, 2)\n",
    "print(x)"
   ]
  },
  {
   "cell_type": "code",
   "execution_count": 6,
   "metadata": {},
   "outputs": [
    {
     "data": {
      "text/plain": [
       "[0, 2, 4, 6, 8, 10, 12, 14, 16, 18]"
      ]
     },
     "execution_count": 6,
     "metadata": {},
     "output_type": "execute_result"
    }
   ],
   "source": [
    "list(x)"
   ]
  },
  {
   "cell_type": "markdown",
   "metadata": {},
   "source": [
    "Impressionante! Bem, é isso ... ou não?\n",
    "\n",
    "Você pode estar se perguntando, o que acontece se eu quiser usar uma grande variedade de números? O meu computador pode armazenar tudo na memória?\n",
    "\n",
    "Grande pensamento! Este é um dilema que pode ser resolvido com o uso de um gerador. Para uma explicação simplificada: um gerador permite a geração de objetos gerados que são fornecidos naquela instância, mas não armazena cada instância gerada na memória.\n",
    "\n",
    "Isso significa que um gerador não criaria uma lista ao gerar um range(), mas, em vez disso, fornece uma geração única dos números nesse intervalo. A boa notítica é que range() se comporta como um gerador e você não precisa se preocupar com isso."
   ]
  }
 ],
 "metadata": {
  "colab": {
   "name": "UDEMY - PYTHON 3 COMPLETO.ipynb",
   "provenance": [],
   "toc_visible": true
  },
  "kernelspec": {
   "display_name": "Python 3",
   "language": "python",
   "name": "python3"
  },
  "language_info": {
   "codemirror_mode": {
    "name": "ipython",
    "version": 3
   },
   "file_extension": ".py",
   "mimetype": "text/x-python",
   "name": "python",
   "nbconvert_exporter": "python",
   "pygments_lexer": "ipython3",
   "version": "3.8.5"
  },
  "toc-autonumbering": false,
  "toc-showcode": false,
  "toc-showmarkdowntxt": false,
  "toc-showtags": false
 },
 "nbformat": 4,
 "nbformat_minor": 4
}
