{
 "cells": [
  {
   "cell_type": "markdown",
   "metadata": {},
   "source": [
    "# Curso Completo de Algoritmo e Lógica de Programação\n",
    "educandoweb.com.br  \n",
    "**Prof. Dr. Nelio Alves**\n",
    "\n",
    "## Capítulo: Estrutura sequencial  \n",
    "\n",
    "*Atenção: nos exemplos, os dados em **negrito** representam os dados que o usuário vai digitar.*\n",
    "\n",
    "---"
   ]
  },
  {
   "cell_type": "markdown",
   "metadata": {},
   "source": [
    "### Problema: \"terreno\"\n",
    "Fazer um programa para ler as medidas da largura e comprimento de um terreno retangular com uma casa decimal, bem como o valor do metro quadrado do terreno com duas casas decimais. Em seguida, o programa deve mostrar o valor da área do terreno, bem como o valor do preço do terreno, ambos com duas casas decimais, conforme exemplo.\n",
    "\n",
    "Exemplo 1:  \n",
    ">Digite a largura do terreno: **10.0**  \n",
    "Digite o comprimento do terreno: **30.0**  \n",
    "Digite o valor do metro quadrado: **200.00**  \n",
    "Area do terreno = 300.00  \n",
    "Preco do terreno = 60000.00  \n",
    "\n",
    "Exemplo 2:  \n",
    ">Digite a largura do terreno: **12.0**  \n",
    "Digite o comprimento do terreno: **20.0**  \n",
    "Digite o valor do metro quadrado: **150.00**  \n",
    "Area do terreno = 240.00  \n",
    "Preco do terreno = 36000.00  \n",
    "\n",
    "Observação:  \n",
    "Área do retângulo (aplicável ao terreno): $A=b.h$  \n",
    "- **A**: área\n",
    "- **b**: base (largura)\n",
    "- **h**: altura (comprimento)"
   ]
  },
  {
   "cell_type": "code",
   "execution_count": 2,
   "metadata": {},
   "outputs": [
    {
     "name": "stdin",
     "output_type": "stream",
     "text": [
      "Digite a largura do terreno:  12.0\n",
      "Digite o comprimento do terreno:  20.0\n",
      "Digite o valor do metro quadrado:  150.00\n"
     ]
    },
    {
     "name": "stdout",
     "output_type": "stream",
     "text": [
      "Área do terreno = 240.00\n",
      "Preço do terreno = 36000.00\n"
     ]
    }
   ],
   "source": [
    "# PROBLEMA: \"terreno\"\n",
    "# --------------------------------------------------------->\n",
    "\n",
    "# usuário entra com os dados solicitados.\n",
    "largura = float(input(\"Digite a largura do terreno: \"))\n",
    "comprimento = float(input(\"Digite o comprimento do terreno: \"))\n",
    "valor_metro_quadrado = float(input(\"Digite o valor do metro quadrado: \"))\n",
    "\n",
    "# calcula e exibe área do terreno.\n",
    "area_terreno = largura * comprimento\n",
    "print(f\"Área do terreno = {area_terreno:.2f}\")\n",
    "\n",
    "# calcula e exibe preço do terreno.\n",
    "preco_terreno = valor_metro_quadrado * area_terreno\n",
    "print(f\"Preço do terreno = {preco_terreno:.2f}\")"
   ]
  },
  {
   "cell_type": "markdown",
   "metadata": {},
   "source": [
    "---"
   ]
  },
  {
   "cell_type": "markdown",
   "metadata": {},
   "source": [
    "### Problema \"retangulo\"\n",
    "Fazer um programa para ler as medidas da base e altura de um retângulo. Em seguida, mostrar o valor da área, perímetro e diagonal deste retângulo, com quatro casas decimais, conforme exemplos.\n",
    "\n",
    "Exemplo 1:\n",
    ">Base do retangulo: **4.0**  \n",
    "Altura do retangulo: **5.0**  \n",
    "AREA = 20.0000  \n",
    "PERIMETRO = 18.0000  \n",
    "DIAGONAL = 6.4031  \n",
    "\n",
    "Exemplo 2:\n",
    ">Base do retangulo: **10.3**  \n",
    "Altura do retangulo: **13.1**  \n",
    "AREA = 134.9300  \n",
    "PERIMETRO = 46.8000  \n",
    "DIAGONAL = 16.6643\n",
    "\n",
    "Observação:  \n",
    "Área do retângulo: $A=b.h$\n",
    "- **A**: área\n",
    "- **b**: base\n",
    "- **h**: altura\n",
    "\n",
    "Perímetro do retângulo: $2(b+h)$\n",
    "- **b**: base\n",
    "- **h**: altura\n",
    "\n",
    "Diagonal do retângulo: $d=√b²+h²$\n",
    "- **d**: diagonal\n",
    "- **b**: base\n",
    "- **h**: altura"
   ]
  },
  {
   "cell_type": "code",
   "execution_count": 4,
   "metadata": {},
   "outputs": [
    {
     "name": "stdin",
     "output_type": "stream",
     "text": [
      "Base do retangulo 10.3\n",
      "Altura do retangulo 13.1\n"
     ]
    },
    {
     "name": "stdout",
     "output_type": "stream",
     "text": [
      "AREA = 134.9300\n",
      "PERIMETRO = 46.8000\n",
      "DIAGONAL = 16.6643\n"
     ]
    }
   ],
   "source": [
    "# PROBLEMA: \"retangulo\"\n",
    "# --------------------------------------------------------->\n",
    "\n",
    "# biblioteca para funções matemáticas.\n",
    "import math\n",
    "\n",
    "# usuário entra com os dados solicitados.\n",
    "base = float(input(\"Base do retangulo\"))\n",
    "altura = float(input(\"Altura do retangulo\"))\n",
    "\n",
    "# # calcula e exibe área, perímetro e diagonal.\n",
    "area_retangulo = base * altura\n",
    "perimetro_retangulo = 2 * (base + altura)\n",
    "diagonal_retangulo = math.sqrt(pow(base, 2) + pow(altura, 2))\n",
    "\n",
    "print(f\"AREA = {area_retangulo:.4f}\")\n",
    "print(f\"PERIMETRO = {perimetro_retangulo:.4f}\")\n",
    "print(f\"DIAGONAL = {diagonal_retangulo:.4f}\")"
   ]
  },
  {
   "cell_type": "markdown",
   "metadata": {},
   "source": [
    "---"
   ]
  },
  {
   "cell_type": "markdown",
   "metadata": {},
   "source": [
    "### Problema \"idades\"\n",
    "Fazer um programa para ler o nome e idade de duas pessoas. Ao final mostrar uma mensagem com os nomes e a idade média entre essas pessoas, com uma casa decimal, conforme exemplo.\n",
    "\n",
    "Exemplo:\n",
    ">Dados da primeira pessoa:  \n",
    "None: **Maria Silva**  \n",
    "Idade: **19**  \n",
    "Dados da segunda pessoa:  \n",
    "None: **Joao Melo**  \n",
    "Idade: **20**  \n",
    "A idade média de Maria Silva e Joao Melo é de 19.5 anos  \n",
    "\n",
    "Observação:  \n",
    "A média aritmética é a soma dos valores, dividido pela quantidade."
   ]
  },
  {
   "cell_type": "code",
   "execution_count": 5,
   "metadata": {},
   "outputs": [
    {
     "name": "stdout",
     "output_type": "stream",
     "text": [
      "Dados da primeira pessoa:\n"
     ]
    },
    {
     "name": "stdin",
     "output_type": "stream",
     "text": [
      "Nome:  Maria Silva\n",
      "Idade:  19\n"
     ]
    },
    {
     "name": "stdout",
     "output_type": "stream",
     "text": [
      "Dados da segunda pessoa:\n"
     ]
    },
    {
     "name": "stdin",
     "output_type": "stream",
     "text": [
      "Nome:  Joao Melo\n",
      "Idade:  20\n"
     ]
    },
    {
     "name": "stdout",
     "output_type": "stream",
     "text": [
      "A idade média de Maria Silva e Joao Melo é de 19.5 anos.\n"
     ]
    }
   ],
   "source": [
    "# PROBLEMA: \"idades\"\n",
    "# --------------------------------------------------------->\n",
    "\n",
    "# usuário entra com os dados solicitados.\n",
    "print(\"Dados da primeira pessoa:\")\n",
    "nome1 = input(\"Nome: \")\n",
    "idade1 = int(input(\"Idade: \"))\n",
    "print(\"Dados da segunda pessoa:\")\n",
    "nome2 = input(\"Nome: \")\n",
    "idade2 = int(input(\"Idade: \"))\n",
    "\n",
    "# calcula e exime a média de idades.\n",
    "media = (idade1 + idade2) / 2\n",
    "print(f\"A idade média de {nome1} e {nome2} é de {media:.1f} anos.\")"
   ]
  },
  {
   "cell_type": "markdown",
   "metadata": {},
   "source": [
    "---"
   ]
  },
  {
   "cell_type": "markdown",
   "metadata": {},
   "source": [
    "### Problema \"soma\"\n",
    "Fazer um programa para ler dois valores inteiros X e Y, e depois mostrar na tela o valor da soma destes números.\n",
    "\n",
    "Exemplo 1:  \n",
    ">Digite o valor de X: **8**  \n",
    "Digite o valor de Y: **10**  \n",
    "SOMA = 18  \n",
    "\n",
    "Exemplo 2:  \n",
    ">Digite o valor de X: **12**  \n",
    "Digite o valor de Y: **31**  \n",
    "SOMA = 43"
   ]
  },
  {
   "cell_type": "code",
   "execution_count": 6,
   "metadata": {},
   "outputs": [
    {
     "name": "stdin",
     "output_type": "stream",
     "text": [
      "Digite o valor de X:  12\n",
      "Digite o valor de Y:  31\n"
     ]
    },
    {
     "name": "stdout",
     "output_type": "stream",
     "text": [
      "SOMA = 43\n"
     ]
    }
   ],
   "source": [
    "# PROBLEMA: \"soma\"\n",
    "# --------------------------------------------------------->\n",
    "\n",
    "# usuário entra com os dados solicitados.\n",
    "x = int(input(\"Digite o valor de X: \"))\n",
    "y = int(input(\"Digite o valor de Y: \"))\n",
    "\n",
    "# calcula e exibe a soma:\n",
    "soma = x + y\n",
    "print(f\"SOMA = {soma}\")"
   ]
  },
  {
   "cell_type": "markdown",
   "metadata": {},
   "source": [
    "---"
   ]
  },
  {
   "cell_type": "markdown",
   "metadata": {},
   "source": [
    "### Problema \"troco\"\n",
    "Fazer um programa para calcular o troco no processo de pagamento de um produto de uma mercearia. O programa deve ler o preço unitário do produto, a quantidade de unidades compradas deste produto, e o valor em dinheiro dado pelo cliente (suponha que haja dinheiro suficiente). Seu programa deve mostrar o valor do troco a ser devolvido ao cliente.\n",
    "\n",
    "Exemplo 1:\n",
    ">Preço unitário do produto: **8.00**  \n",
    "Quantidade comprada: **2**  \n",
    "Dinheiro recebido: **20.00**  \n",
    "TROCO = 4.00  \n",
    "\n",
    "Exemplo 2:\n",
    ">Preço unitário do produto: **30.00**  \n",
    "Quantidade comprada: **3**  \n",
    "Dinheiro recebido: **100.00**  \n",
    "TROCO = 10.00"
   ]
  },
  {
   "cell_type": "code",
   "execution_count": 7,
   "metadata": {},
   "outputs": [
    {
     "name": "stdin",
     "output_type": "stream",
     "text": [
      "Preço unitário do produto:  30.00\n",
      "Quantidade comprada:  3\n",
      "Dinheiro recebido:  100.00\n"
     ]
    },
    {
     "name": "stdout",
     "output_type": "stream",
     "text": [
      "TROCO = 10.00\n"
     ]
    }
   ],
   "source": [
    "# PROBLEMA: \"troco\"\n",
    "# --------------------------------------------------------->\n",
    "\n",
    "# usuário entra com os dados solicitados.\n",
    "preco_unitario = float(input(\"Preço unitário do produto: \"))\n",
    "quantidade_comprada = int(input(\"Quantidade comprada: \"))\n",
    "dinheiro_recebido = float(input(\"Dinheiro recebido: \"))\n",
    "\n",
    "# calcula e exibe o troco.\n",
    "troco = dinheiro_recebido - (preco_unitario * quantidade_comprada)\n",
    "print(f\"TROCO = {troco:.2f}\")"
   ]
  },
  {
   "cell_type": "markdown",
   "metadata": {},
   "source": [
    "---"
   ]
  },
  {
   "cell_type": "markdown",
   "metadata": {},
   "source": [
    "### Problema \"circulo\"\n",
    "Fazer um programa para ler o valor \"r\" do raio de um círculo, e depois mostrar o valor da área do círculo com três casas decimais. A fórmula da área do círculo é a seguinte: $area = π.r²$. Você pode usar o valor de π fornecido pela biblioteca da sua linguagem de programação, ou então, se preferir, use diretamente o valor 3.14159.\n",
    "\n",
    "Exemplo 1:  \n",
    ">Digite o valor do raio do círculo: **2.0**  \n",
    "AREA = 12.566  \n",
    "\n",
    "Exemplo 2:  \n",
    ">Digite o valor do raio do círculo: **13.2**  \n",
    "AREA = 547.391  \n",
    "\n",
    "Observação:  \n",
    "Área do círculo: $A=π.r²$  \n",
    "- **A**: área  \n",
    "- **π**: número Pi (3.14159)  \n",
    "- **r**: raio"
   ]
  },
  {
   "cell_type": "code",
   "execution_count": 10,
   "metadata": {},
   "outputs": [
    {
     "name": "stdin",
     "output_type": "stream",
     "text": [
      "Digite o valor do raio do círculo:  13.2\n"
     ]
    },
    {
     "name": "stdout",
     "output_type": "stream",
     "text": [
      "AREA = 547.391\n"
     ]
    }
   ],
   "source": [
    "# PROBLEMA: \"circulo\"\n",
    "# --------------------------------------------------------->\n",
    "\n",
    "# biblioteca para funções matemáticas.\n",
    "import math\n",
    "\n",
    "# usuário entra com os dados solicitados.\n",
    "raio = float(input(\"Digite o valor do raio do círculo: \"))\n",
    "\n",
    "# calcula e exibe área do circulo.\n",
    "area = math.pi * pow(raio, 2)\n",
    "print(f\"AREA = {area:.3f}\")"
   ]
  },
  {
   "cell_type": "markdown",
   "metadata": {},
   "source": [
    "---"
   ]
  },
  {
   "cell_type": "markdown",
   "metadata": {},
   "source": [
    "### Problema \"pagamento\"\n",
    "Fazer um programa para ler o nome de um(a) funcionário(a), o valor que ele(a) recebe por hora, e a quantidade de horas trabalhadas por ele(a). Ao final, mostrar o valor do pagamento do funcionário com uma mensagem explicativa, conforme exemplo.\n",
    "\n",
    "Exemplo 1:  \n",
    ">Nome: **Joao Silva**  \n",
    "Valor por hora: **50.00**  \n",
    "Horas trabalhadas: **60**  \n",
    "O pagamento para Joao Silva deve ser 3000.00  \n",
    "\n",
    "Exemplo 2:  \n",
    ">Nome: **Maria Dias**  \n",
    "Valor por hora: **60.00**  \n",
    "Horas trabalhadas: **100**  \n",
    "O pagamento para Maria Dias deve ser 6000.00"
   ]
  },
  {
   "cell_type": "code",
   "execution_count": 11,
   "metadata": {},
   "outputs": [
    {
     "name": "stdin",
     "output_type": "stream",
     "text": [
      "Nome:  Maria Dias\n",
      "Valor por hora:  60.00\n",
      "Horas trabalhadas:  100\n"
     ]
    },
    {
     "name": "stdout",
     "output_type": "stream",
     "text": [
      "O pagamento para Maria Dias deve ser 6000.00\n"
     ]
    }
   ],
   "source": [
    "# PROBLEMA: \"pagamento\"\n",
    "# --------------------------------------------------------->\n",
    "\n",
    "# usuário entra com os dados solicitados.\n",
    "nome = input(\"Nome: \")\n",
    "valor_hora = float(input(\"Valor por hora: \"))\n",
    "horas_trabalhada = int(input(\"Horas trabalhadas: \"))\n",
    "\n",
    "# calcula e exibe o pagamento.\n",
    "pagamento = valor_hora * horas_trabalhada\n",
    "print(f\"O pagamento para {nome} deve ser {pagamento:.2f}\")"
   ]
  },
  {
   "cell_type": "markdown",
   "metadata": {},
   "source": [
    "---"
   ]
  },
  {
   "cell_type": "markdown",
   "metadata": {},
   "source": [
    "### Problema \"consumo\"\n",
    "Fazer um programa para ler a distância total (em km) percorrida por um carro, bem como o total de combustível gasto por este carro ao percorrer tal distância. Seu programa deve mostrar o consumo médio do carro, com três casas decimais.\n",
    "\n",
    "Exemplo 1:  \n",
    ">Distância percorrida: **500**  \n",
    "Combustível gasto: **38.5**  \n",
    "Consumo médio = 12.987  \n",
    "\n",
    "Exemplo 2:  \n",
    ">Distância percorrida: **1108**  \n",
    "Combustível gasto: **71.4**  \n",
    "Consumo médio = 15.518"
   ]
  },
  {
   "cell_type": "code",
   "execution_count": 12,
   "metadata": {},
   "outputs": [
    {
     "name": "stdin",
     "output_type": "stream",
     "text": [
      "Distância percorrida:  1108\n",
      "Combustível gasto:  71.4\n"
     ]
    },
    {
     "name": "stdout",
     "output_type": "stream",
     "text": [
      "Consumo médio = 15.518\n"
     ]
    }
   ],
   "source": [
    "# PROBLEMA: \"consumo\"\n",
    "# --------------------------------------------------------->\n",
    "\n",
    "# usuário entra com os dados solicitados.\n",
    "distancia_percorrida = int(input(\"Distância percorrida: \"))\n",
    "combustivel_gasto = float(input(\"Combustível gasto: \"))\n",
    "\n",
    "# calcula e exibe o consumo médio.\n",
    "consumo_medio = distancia_percorrida / combustivel_gasto\n",
    "print(f\"Consumo médio = {consumo_medio:.3f}\")"
   ]
  },
  {
   "cell_type": "markdown",
   "metadata": {},
   "source": [
    "---"
   ]
  },
  {
   "cell_type": "markdown",
   "metadata": {},
   "source": [
    "### Problema \"medidas\"\n",
    "Fazer um programa para ler três medidas A, B e C. Em seguida, calcular e mostrar (imprimir os dados com quatro casas decimais):  \n",
    "a) a área do quadrado que tem lado A  \n",
    "b) a área do triângulo retângulo que base A e altura B  \n",
    "c) a área do trapézio que tem bases A e B, e altura C  \n",
    "\n",
    "Exemplo 1:  \n",
    ">Digite a medida A: **4.0**  \n",
    "Digite a medida B: **3.5**  \n",
    "Digite a medida C: **5.2**  \n",
    "AREA DO QUADRADO = 16.0000  \n",
    "AREA DO TRIANGULO = 7.0000  \n",
    "AREA DO TRAPEZIO = 19.5000  \n",
    "\n",
    "Exemplo 2:  \n",
    ">Digite a medida A: **7.13**  \n",
    "Digite a medida B: **8.05**  \n",
    "Digite a medida C: **11.912**  \n",
    "AREA DO QUADRADO = 50.8369  \n",
    "AREA DO TRIANGULO = 28.6983  \n",
    "AREA DO TRAPEZIO = 90.4121  \n",
    "\n",
    "Observação:  \n",
    "Área do quadrado: $A=L²$  \n",
    "- **A**: área  \n",
    "- **L**: lado  \n",
    "\n",
    "Área do triângulo: $A=\\frac{b.h}{2}$  \n",
    "- **A**: área  \n",
    "- **b**: base  \n",
    "- **h**: altura  \n",
    "\n",
    "Área do trapézio: $A=\\frac{B+b}{2}.h$  \n",
    "- **A**: área  \n",
    "- **B**: base maior  \n",
    "- **b**: base menor  \n",
    "- **h**: altura"
   ]
  },
  {
   "cell_type": "code",
   "execution_count": 13,
   "metadata": {},
   "outputs": [
    {
     "name": "stdin",
     "output_type": "stream",
     "text": [
      "Digite a medida A:  7.13\n",
      "Digite a medida B:  8.05\n",
      "Digite a medida C:  11.912\n"
     ]
    },
    {
     "name": "stdout",
     "output_type": "stream",
     "text": [
      "ÁREA DO QUADRADO = 50.8369\n",
      "ÁREA DO TRIANGULO = 28.6983\n",
      "ÁREA DO TRAPEZIO = 90.4121\n"
     ]
    }
   ],
   "source": [
    "# PROBLEMA: \"medidas\"\n",
    "# --------------------------------------------------------->\n",
    "\n",
    "# usuário entra com os dados solicitados.\n",
    "a = float(input(\"Digite a medida A: \"))\n",
    "b = float(input(\"Digite a medida B: \"))\n",
    "c = float(input(\"Digite a medida C: \"))\n",
    "\n",
    "# calcula área do quadrado, triângulo e trapézio.\n",
    "area_quadrado = pow(a, 2)\n",
    "area_triangulo = (a * b) / 2\n",
    "area_trapezio = ((a + b) / 2) * c\n",
    "\n",
    "# exibe área do quadrado, triângulo e trapézio.\n",
    "print(f\"ÁREA DO QUADRADO = {area_quadrado:.4f}\")\n",
    "print(f\"ÁREA DO TRIANGULO = {area_triangulo:.4f}\")\n",
    "print(f\"ÁREA DO TRAPEZIO = {area_trapezio:.4f}\")"
   ]
  },
  {
   "cell_type": "markdown",
   "metadata": {},
   "source": [
    "---"
   ]
  },
  {
   "cell_type": "markdown",
   "metadata": {},
   "source": [
    "### Problema \"duracao\"\n",
    "Fazer um programa para ler uma duração de tempo em segundos, daí imprimir na tela esta duração no formato horas:minutos:segundos.\n",
    "\n",
    "Exemplo 1:  \n",
    ">Digite a duração em segundos: **300**  \n",
    "0:5:0  \n",
    "\n",
    "Exemplo 2:  \n",
    ">Digite a duração em segundos: **12506**  \n",
    "3:28:26  \n",
    "\n",
    "Exemplo 3:  \n",
    ">Digite a duração em segundos: **140811**  \n",
    "39:6:51  \n",
    "\n",
    "Observação:  \n",
    "1 minuto = 60 segundo  \n",
    "1 hora = 60 minutos  \n",
    "1 hora = (60 minutos * 60 segundos) = 3600 segundos  \n",
    "\n",
    "Então:  \n",
    "- 3600 seria 1:0:0.  \n",
    "- 3601 seria 1:0:1.  \n",
    "- 3602 seria 1:0:2.  \n",
    "- 3662 seria 1:1:2."
   ]
  },
  {
   "cell_type": "code",
   "execution_count": 17,
   "metadata": {},
   "outputs": [
    {
     "name": "stdin",
     "output_type": "stream",
     "text": [
      "Digite a duração em segundos:  140811\n"
     ]
    },
    {
     "name": "stdout",
     "output_type": "stream",
     "text": [
      "39:6:51\n"
     ]
    }
   ],
   "source": [
    "# PROBLEMA: \"duracao\"\n",
    "# --------------------------------------------------------->\n",
    "\n",
    "# usuário entra com os dados solicitados.\n",
    "duracao = int(input(\"Digite a duração em segundos: \"))\n",
    "\n",
    "# extrai a hora, divisão inteira da duração por 3600.\n",
    "hora = duracao // 3600\n",
    "\n",
    "# extrai o resto, modulo da duração por 3600.\n",
    "resto = duracao % 3600\n",
    "\n",
    "# extrai os minutos, divisão inteira do resto por 60.\n",
    "minuto = resto // 60\n",
    "\n",
    "# extrai os segundos, modulo do resto por 60.\n",
    "segundo = resto % 60\n",
    "\n",
    "# exibe duração em formato hh:mm:ss.\n",
    "print(f\"{hora}:{minuto}:{segundo}\")"
   ]
  },
  {
   "cell_type": "markdown",
   "metadata": {},
   "source": [
    "---"
   ]
  },
  {
   "cell_type": "code",
   "execution_count": null,
   "metadata": {},
   "outputs": [],
   "source": []
  }
 ],
 "metadata": {
  "kernelspec": {
   "display_name": "Python 3",
   "language": "python",
   "name": "python3"
  },
  "language_info": {
   "codemirror_mode": {
    "name": "ipython",
    "version": 3
   },
   "file_extension": ".py",
   "mimetype": "text/x-python",
   "name": "python",
   "nbconvert_exporter": "python",
   "pygments_lexer": "ipython3",
   "version": "3.8.2"
  }
 },
 "nbformat": 4,
 "nbformat_minor": 4
}
